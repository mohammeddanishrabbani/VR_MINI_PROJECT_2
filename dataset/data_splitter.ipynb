{
 "cells": [
  {
   "cell_type": "code",
   "execution_count": 6,
   "metadata": {},
   "outputs": [],
   "source": [
    "import pandas as pd\n",
    "from sklearn.model_selection import train_test_split\n",
    "import os\n",
    "os.chdir('/home/danish/VR_PROJECT')\n",
    "\n",
    "\n",
    "\n",
    "\n"
   ]
  },
  {
   "cell_type": "code",
   "execution_count": null,
   "metadata": {},
   "outputs": [],
   "source": [
    "# Step 1: Load the dataset\n",
    "listing_suffix = \"9\"\n",
    "input_csv_path = f\"dataset/VQA-dataset/listings_{listing_suffix}_VQA.csv\"  # Replace with your CSV path\n",
    "df = pd.read_csv(input_csv_path)\n",
    "\n",
    "train_df, test_df = train_test_split(df, test_size=0.1, random_state=42, shuffle=True)\n",
    "\n",
    "# Step 3: Save to new CSV files\n",
    "train_df.to_csv(f\"dataset/VQA-dataset-train/listings_{listing_suffix}_VQA_train.csv\", index=False)\n",
    "test_df.to_csv(f\"dataset/VQA-dataset-test/listings_{listing_suffix}_VQA_test.csv\", index=False)"
   ]
  },
  {
   "cell_type": "code",
   "execution_count": 11,
   "metadata": {},
   "outputs": [
    {
     "name": "stdout",
     "output_type": "stream",
     "text": [
      "['dataset/VQA-dataset-test/listings_9_VQA_test.csv', 'dataset/VQA-dataset-test/listings_3_VQA_test.csv', 'dataset/VQA-dataset-test/listings_0_VQA_test.csv', 'dataset/VQA-dataset-test/listings_a_VQA_test.csv', 'dataset/VQA-dataset-test/listings_5_VQA_test.csv', 'dataset/VQA-dataset-test/listings_6_VQA_test.csv', 'dataset/VQA-dataset-test/listings_4_VQA_test.csv', 'dataset/VQA-dataset-test/listings_1_VQA_test.csv', 'dataset/VQA-dataset-test/listings_c_VQA_test.csv', 'dataset/VQA-dataset-test/listings_8_VQA_test.csv', 'dataset/VQA-dataset-test/listings_b_VQA_test.csv', 'dataset/VQA-dataset-test/listings_d_VQA_test.csv', 'dataset/VQA-dataset-test/listings_7_VQA_test.csv', 'dataset/VQA-dataset-test/listings_2_VQA_test.csv']\n"
     ]
    }
   ],
   "source": [
    "#merge all csvs in dataset/VQA-dataset-train/ \n",
    "import glob\n",
    "import os\n",
    "import pandas as pd\n",
    "# Path to the directory containing the CSV files\n",
    "directory = 'dataset/VQA-dataset-test/'\n",
    "# List all CSV files in the directory\n",
    "csv_files = glob.glob(os.path.join(directory, '*.csv'))\n",
    "print(csv_files)\n",
    "# Initialize an empty list to store DataFrames\n",
    "dataframes = []\n",
    "# Loop through the list of files and read each one into a DataFrame\n",
    "for file in csv_files:\n",
    "    df = pd.read_csv(file)\n",
    "    dataframes.append(df)\n",
    "# Concatenate all DataFrames into a single DataFrame\n",
    "merged_df = pd.concat(dataframes, ignore_index=True)\n",
    "# Save the merged DataFrame to a new CSV file\n",
    "merged_csv_path = os.path.join(directory, 'merged_listings.csv')\n",
    "merged_df.to_csv(merged_csv_path, index=False)"
   ]
  }
 ],
 "metadata": {
  "kernelspec": {
   "display_name": ".vr_project",
   "language": "python",
   "name": "python3"
  },
  "language_info": {
   "codemirror_mode": {
    "name": "ipython",
    "version": 3
   },
   "file_extension": ".py",
   "mimetype": "text/x-python",
   "name": "python",
   "nbconvert_exporter": "python",
   "pygments_lexer": "ipython3",
   "version": "3.12.3"
  }
 },
 "nbformat": 4,
 "nbformat_minor": 2
}
