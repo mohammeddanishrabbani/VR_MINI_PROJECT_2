{
 "cells": [
  {
   "cell_type": "code",
   "execution_count": null,
   "metadata": {},
   "outputs": [],
   "source": [
    "import pandas as pd\n",
    "from sklearn.model_selection import train_test_split\n",
    "import os\n",
    "os.chdir('/home/danish/VR_PROJECT')\n",
    "\n",
    "# Step 1: Load the dataset\n",
    "listing_suffix = \"0\"\n",
    "input_csv_path = f\"dataset/VQA-dataset/listings_{listing_suffix}_VQA.csv\"  # Replace with your CSV path\n",
    "df = pd.read_csv(input_csv_path)\n",
    "\n",
    "train_df, test_df = train_test_split(df, test_size=0.1, random_state=42, shuffle=True)\n",
    "\n",
    "# Step 3: Save to new CSV files\n",
    "train_df.to_csv(f\"dataset/VQA-dataset-train/listings_{listing_suffix}_VQA_train.csv\", index=False)\n",
    "test_df.to_csv(f\"dataset/VQA-dataset-test/listings_{listing_suffix}_VQA_test.csv\", index=False)\n",
    "\n",
    "\n"
   ]
  }
 ],
 "metadata": {
  "kernelspec": {
   "display_name": ".vr_project",
   "language": "python",
   "name": "python3"
  },
  "language_info": {
   "name": "python",
   "version": "3.12.8"
  }
 },
 "nbformat": 4,
 "nbformat_minor": 2
}
