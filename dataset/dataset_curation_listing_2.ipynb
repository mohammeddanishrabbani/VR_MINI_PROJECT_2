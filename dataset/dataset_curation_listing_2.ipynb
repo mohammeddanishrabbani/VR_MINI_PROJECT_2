{
 "cells": [
  {
   "cell_type": "code",
   "execution_count": 2,
   "metadata": {
    "executionInfo": {
     "elapsed": 307,
     "status": "ok",
     "timestamp": 1747028292475,
     "user": {
      "displayName": "Anukriti Singh",
      "userId": "12373033605025145532"
     },
     "user_tz": -330
    },
    "id": "E2JGVI-nahwU"
   },
   "outputs": [],
   "source": [
    "import pandas as pd\n",
    "import numpy as np\n",
    "import os\n",
    "import json\n",
    "from PIL import Image\n",
    "from io import StringIO"
   ]
  },
  {
   "cell_type": "code",
   "execution_count": null,
   "metadata": {
    "executionInfo": {
     "elapsed": 1266,
     "status": "ok",
     "timestamp": 1747028293743,
     "user": {
      "displayName": "Anukriti Singh",
      "userId": "12373033605025145532"
     },
     "user_tz": -330
    },
    "id": "H5XcmgUFahwZ"
   },
   "outputs": [],
   "source": [
    "import os\n",
    "import google.generativeai as genai\n",
    "\n",
    "# Set the GOOGLE_API_KEY in the environment first\n",
    "\n",
    "# Then configure the genai module with the API key\n",
    "genai.configure(api_key=os.environ[\"GOOGLE_API_KEY\"])\n",
    "\n",
    "# Now you can create the GenerativeModel instance\n",
    "model = genai.GenerativeModel('gemini-2.0-flash-001')"
   ]
  },
  {
   "cell_type": "code",
   "execution_count": 4,
   "metadata": {
    "colab": {
     "base_uri": "https://localhost:8080/"
    },
    "executionInfo": {
     "elapsed": 75433,
     "status": "ok",
     "timestamp": 1747028369181,
     "user": {
      "displayName": "Anukriti Singh",
      "userId": "12373033605025145532"
     },
     "user_tz": -330
    },
    "id": "8fcyS-oFcoIZ",
    "outputId": "88df2d9a-082f-4b24-c003-c9e5f7c3230e"
   },
   "outputs": [
    {
     "name": "stdout",
     "output_type": "stream",
     "text": [
      "--2025-05-12 05:38:13--  https://amazon-berkeley-objects.s3.amazonaws.com/archives/abo-images-small.tar\n",
      "Resolving amazon-berkeley-objects.s3.amazonaws.com (amazon-berkeley-objects.s3.amazonaws.com)... 54.231.130.249, 54.231.130.145, 16.15.177.135, ...\n",
      "Connecting to amazon-berkeley-objects.s3.amazonaws.com (amazon-berkeley-objects.s3.amazonaws.com)|54.231.130.249|:443... connected.\n",
      "HTTP request sent, awaiting response... 200 OK\n",
      "Length: 3253381120 (3.0G) [application/x-tar]\n",
      "Saving to: ‘abo-images-small.tar’\n",
      "\n",
      "abo-images-small.ta 100%[===================>]   3.03G  49.1MB/s    in 75s     \n",
      "\n",
      "2025-05-12 05:39:28 (41.4 MB/s) - ‘abo-images-small.tar’ saved [3253381120/3253381120]\n",
      "\n"
     ]
    }
   ],
   "source": [
    "!wget https://amazon-berkeley-objects.s3.amazonaws.com/archives/abo-images-small.tar"
   ]
  },
  {
   "cell_type": "code",
   "execution_count": 5,
   "metadata": {
    "executionInfo": {
     "elapsed": 28173,
     "status": "ok",
     "timestamp": 1747028397382,
     "user": {
      "displayName": "Anukriti Singh",
      "userId": "12373033605025145532"
     },
     "user_tz": -330
    },
    "id": "uPDt7eapcsQG"
   },
   "outputs": [],
   "source": [
    "!tar -xf abo-images-small.tar"
   ]
  },
  {
   "cell_type": "code",
   "execution_count": 6,
   "metadata": {
    "executionInfo": {
     "elapsed": 2481,
     "status": "ok",
     "timestamp": 1747028399868,
     "user": {
      "displayName": "Anukriti Singh",
      "userId": "12373033605025145532"
     },
     "user_tz": -330
    },
    "id": "4VGQjdANahwb"
   },
   "outputs": [],
   "source": [
    "listing_file = \"/content/drive/MyDrive/abo-listings/listings/metadata/listings_2.json.gz\"\n",
    "image_metadata = pd.read_csv(\"/content/drive/MyDrive/images/metadata/images.csv\")\n",
    "image_dataset_path = \"/content/images/small\""
   ]
  },
  {
   "cell_type": "code",
   "execution_count": 7,
   "metadata": {
    "executionInfo": {
     "elapsed": 7,
     "status": "ok",
     "timestamp": 1747028399898,
     "user": {
      "displayName": "Anukriti Singh",
      "userId": "12373033605025145532"
     },
     "user_tz": -330
    },
    "id": "p3IwpQDWahwc"
   },
   "outputs": [],
   "source": [
    "#create output csv file\n",
    "output_file = f\"/content/drive/MyDrive/images/{listing_file.split('/')[-1].split('.')[0]}_VQA.csv\""
   ]
  },
  {
   "cell_type": "code",
   "execution_count": 1,
   "metadata": {
    "colab": {
     "base_uri": "https://localhost:8080/"
    },
    "executionInfo": {
     "elapsed": 30021,
     "status": "ok",
     "timestamp": 1747028292171,
     "user": {
      "displayName": "Anukriti Singh",
      "userId": "12373033605025145532"
     },
     "user_tz": -330
    },
    "id": "zzrW3VEOcCxY",
    "outputId": "dac14359-daad-4e87-ae7e-b5b21fae6dcc"
   },
   "outputs": [
    {
     "name": "stdout",
     "output_type": "stream",
     "text": [
      "Mounted at /content/drive\n"
     ]
    }
   ],
   "source": [
    "from google.colab import drive\n",
    "drive.mount('/content/drive')"
   ]
  },
  {
   "cell_type": "code",
   "execution_count": 8,
   "metadata": {
    "executionInfo": {
     "elapsed": 31,
     "status": "ok",
     "timestamp": 1747028399928,
     "user": {
      "displayName": "Anukriti Singh",
      "userId": "12373033605025145532"
     },
     "user_tz": -330
    },
    "id": "XhN5x4tfahwd"
   },
   "outputs": [],
   "source": [
    "# def get_listing_lines(listing_file):\n",
    "#     \"\"\"\n",
    "#     Read the listing file and return a list of lines.\n",
    "#     \"\"\"\n",
    "#     with open(listing_file, 'r') as file:\n",
    "#         lines = file.readlines()\n",
    "#     return lines\n",
    "import gzip\n",
    "\n",
    "def get_listing_lines(listing_file):\n",
    "    \"\"\"\n",
    "    Read the listing file and return a list of lines.\n",
    "    Handles gzip compression if the file name ends with '.gz'.\n",
    "    \"\"\"\n",
    "    if listing_file.endswith('.gz'):\n",
    "        with gzip.open(listing_file, 'rt', encoding='utf-8') as file:\n",
    "            lines = file.readlines()\n",
    "    else:\n",
    "        with open(listing_file, 'r', encoding='utf-8') as file:\n",
    "            lines = file.readlines()\n",
    "    return lines\n"
   ]
  },
  {
   "cell_type": "code",
   "execution_count": 9,
   "metadata": {
    "executionInfo": {
     "elapsed": 24,
     "status": "ok",
     "timestamp": 1747028399956,
     "user": {
      "displayName": "Anukriti Singh",
      "userId": "12373033605025145532"
     },
     "user_tz": -330
    },
    "id": "kZVREXfiahwe"
   },
   "outputs": [],
   "source": [
    "def preprocess_product_json(product_json):\n",
    "        \"\"\"\n",
    "        Preprocess the product JSON to ensure it is in the correct format.\n",
    "        \"\"\"\n",
    "        list_of_keys_to_remove = ['main_image_id','node','other_image_id','spin_id','3dmodel_id']\n",
    "        # Convert JSON string to dictionary\n",
    "        product_dict = json.loads(product_json)\n",
    "        # Remove unnecessary keys\n",
    "        for key in list_of_keys_to_remove:\n",
    "            if key in product_dict:\n",
    "                del product_dict[key]\n",
    "\n",
    "        # Convert dictionary to JSON string with indentation for better readability\n",
    "        return json.dumps(product_dict, indent=4)\n",
    "def prompt_for_product(product_json):\n",
    "        \"\"\"\n",
    "        Generate a prompt for the given product JSON.\n",
    "        \"\"\"\n",
    "        preprocess_product_json(product_json)\n",
    "        prompt = f\"\"\"\n",
    "        You are a QA dataset generator that creates short, factual, and human-readable question-answer pairs from Amazon product metadata and image. Each question must target a specific field from the metadata and be answerable with a *single word only*.\n",
    "\n",
    "        Below is the product metadata in structured format. Generate *5 to 10 diverse QA pairs*, where:\n",
    "        - Each question is clear and unambiguous.\n",
    "        - Each answer is strictly a *single word* (no phrases, no multi-word answers).\n",
    "        - Avoid repeating the same field.\n",
    "        - Prefer commonly relevant fields like: brand, bullet_points, color, material, product type, model name, style, fabric type, finish type, pattern, item shape, product description and color code.\n",
    "        - Questions should be such a way that they can be answered by looking at the image.\n",
    "        - The output should be in CSV format with columns: question, answer.\n",
    "\n",
    "        If a value is not meaningful or not present, skip that field. Ensure that QA pairs are diverse and aligned with the data provided.\n",
    "\n",
    "        ---\n",
    "        {product_json}\n",
    "        ---\n",
    "        \"\"\"\n",
    "\n",
    "        return prompt"
   ]
  },
  {
   "cell_type": "code",
   "execution_count": 10,
   "metadata": {
    "executionInfo": {
     "elapsed": 31,
     "status": "ok",
     "timestamp": 1747028399978,
     "user": {
      "displayName": "Anukriti Singh",
      "userId": "12373033605025145532"
     },
     "user_tz": -330
    },
    "id": "yws965X6ahwf"
   },
   "outputs": [],
   "source": [
    "def get_images_paths(image_ids):\n",
    "    \"\"\"\n",
    "    Get the paths of images based on their IDs.\n",
    "    \"\"\"\n",
    "    image_paths = []\n",
    "    for image_id in image_ids:\n",
    "        image_path = image_metadata[image_metadata['image_id'] == image_id]['path'].values\n",
    "        if len(image_path) > 0:\n",
    "            if os.path.exists(f\"{image_dataset_path}/{image_path[0]}\"):\n",
    "                image_paths.append(f\"{image_path[0]}\")\n",
    "    return image_paths\n",
    "\n",
    "def generate_VQA(prompt, image_path):\n",
    "    img = Image.open(f\"{image_dataset_path}/{image_path}\")\n",
    "    img = img.convert(\"RGB\")\n",
    "    # Generate the VQA using the model\n",
    "    response = model.generate_content([prompt, img])\n",
    "    # Extract the generated text from the response\n",
    "    generated_text = response.text\n",
    "    #read csv from the generated text\n",
    "    csv_data = pd.read_csv(StringIO(generated_text.strip(\"`\").replace(\"csv\\n\", \"\", 1).strip()))\n",
    "    return csv_data\n",
    "\n",
    "def get_VQA_for_product(product_json):\n",
    "    df = pd.DataFrame(columns=[\"image_path\",\"question\", \"answer\"])\n",
    "    list_of_image_ids = []\n",
    "\n",
    "    prompt = prompt_for_product(product_json)\n",
    "    product_dict = json.loads(product_json)\n",
    "    list_of_image_ids.append(product_dict['main_image_id'])\n",
    "    if \"other_image_id\" in product_dict.keys():\n",
    "        # Check if the key exists in the dictionary\n",
    "        if isinstance(product_dict['other_image_id'], list):\n",
    "            # If it's a list, extend it to the list_of_image_ids\n",
    "            list_of_image_ids.extend(product_dict['other_image_id'])\n",
    "        else:\n",
    "            # If it's not a list, append it directly\n",
    "            list_of_image_ids.append(product_dict['other_image_id'])\n",
    "    image_paths = get_images_paths(list_of_image_ids)\n",
    "\n",
    "    print(f\"Image paths: {image_paths}\")\n",
    "    # Generate the VQA using the model\n",
    "    for image_path in image_paths:\n",
    "        print(f\"Generating VQA for image: {image_path}\")\n",
    "        # Generate the VQA using the model\n",
    "        csv_data = generate_VQA(prompt, image_path)\n",
    "        # Append the generated data to the dataframe\n",
    "        csv_data['image_path'] = image_path\n",
    "        df = pd.concat([df, csv_data], ignore_index=True)\n",
    "    return df\n"
   ]
  },
  {
   "cell_type": "code",
   "execution_count": 12,
   "metadata": {
    "colab": {
     "base_uri": "https://localhost:8080/",
     "height": 1000
    },
    "executionInfo": {
     "elapsed": 3714582,
     "status": "ok",
     "timestamp": 1747039095484,
     "user": {
      "displayName": "Anukriti Singh",
      "userId": "12373033605025145532"
     },
     "user_tz": -330
    },
    "id": "CaoFHmOqahwg",
    "outputId": "09228bb4-a03f-4f98-8fa2-0fa19bd27f2a"
   },
   "outputs": [
    {
     "name": "stderr",
     "output_type": "stream",
     "text": [
      "\r  0%|          | 0/8132 [00:00<?, ?it/s]"
     ]
    },
    {
     "name": "stdout",
     "output_type": "stream",
     "text": [
      "Image paths: ['3e/3e7947a9.jpg', 'a7/a7f639f5.jpg', '26/26f8865d.jpg', '1c/1cc7c5cb.jpg', '18/1869d79b.jpg', 'f1/f1109cdc.jpg', 'af/af42b343.jpg', '48/48069583.jpg', 'ad/adbac514.jpg', '7f/7f6e79b7.jpg', 'ea/ea290b15.jpg', 'c2/c2eda3e8.jpg']\n",
      "Generating VQA for image: 3e/3e7947a9.jpg\n",
      "Generating VQA for image: a7/a7f639f5.jpg\n",
      "Generating VQA for image: 26/26f8865d.jpg\n",
      "Generating VQA for image: 1c/1cc7c5cb.jpg\n",
      "Generating VQA for image: 18/1869d79b.jpg\n",
      "Generating VQA for image: f1/f1109cdc.jpg\n",
      "Generating VQA for image: af/af42b343.jpg\n",
      "Generating VQA for image: 48/48069583.jpg\n",
      "Generating VQA for image: ad/adbac514.jpg\n",
      "Generating VQA for image: 7f/7f6e79b7.jpg\n",
      "Generating VQA for image: ea/ea290b15.jpg\n",
      "Generating VQA for image: c2/c2eda3e8.jpg\n"
     ]
    },
    {
     "name": "stderr",
     "output_type": "stream",
     "text": [
      "\r  0%|          | 1/8132 [00:28<64:41:48, 28.64s/it]"
     ]
    },
    {
     "name": "stdout",
     "output_type": "stream",
     "text": [
      "Image paths: ['72/72b0c083.jpg', 'ee/eeed7f53.jpg', 'aa/aa0c1f43.jpg', 'bf/bf2fb6b5.jpg', '25/25637dd0.jpg']\n",
      "Generating VQA for image: 72/72b0c083.jpg\n",
      "Generating VQA for image: ee/eeed7f53.jpg\n",
      "Generating VQA for image: aa/aa0c1f43.jpg\n",
      "Generating VQA for image: bf/bf2fb6b5.jpg\n",
      "Generating VQA for image: 25/25637dd0.jpg\n"
     ]
    },
    {
     "name": "stderr",
     "output_type": "stream",
     "text": [
      "\r  0%|          | 2/8132 [00:37<38:32:49, 17.07s/it]"
     ]
    },
    {
     "name": "stdout",
     "output_type": "stream",
     "text": [
      "Image paths: ['04/04019b0b.jpg', 'fc/fc49c246.jpg', '45/45830586.jpg', '2d/2d4eb897.jpg', 'a7/a7fb94e5.jpg']\n",
      "Generating VQA for image: 04/04019b0b.jpg\n",
      "Generating VQA for image: fc/fc49c246.jpg\n",
      "Generating VQA for image: 45/45830586.jpg\n",
      "Generating VQA for image: 2d/2d4eb897.jpg\n",
      "Generating VQA for image: a7/a7fb94e5.jpg\n"
     ]
    },
    {
     "name": "stderr",
     "output_type": "stream",
     "text": [
      "\r  0%|          | 3/8132 [00:47<31:34:02, 13.98s/it]"
     ]
    },
    {
     "name": "stdout",
     "output_type": "stream",
     "text": [
      "Image paths: ['c5/c500b43b.jpg', '4d/4da1c4fa.jpg', '6f/6f9cf8f2.jpg', '35/352e2264.jpg', 'aa/aa1b9cbf.jpg', '98/9870a491.jpg']\n",
      "Generating VQA for image: c5/c500b43b.jpg\n",
      "Generating VQA for image: 4d/4da1c4fa.jpg\n",
      "Generating VQA for image: 6f/6f9cf8f2.jpg\n",
      "Generating VQA for image: 35/352e2264.jpg\n",
      "Generating VQA for image: aa/aa1b9cbf.jpg\n",
      "Generating VQA for image: 98/9870a491.jpg\n"
     ]
    },
    {
     "name": "stderr",
     "output_type": "stream",
     "text": [
      "\r  0%|          | 4/8132 [00:57<27:38:31, 12.24s/it]"
     ]
    },
    {
     "name": "stdout",
     "output_type": "stream",
     "text": [
      "Image paths: ['c3/c3b16f94.jpg', 'ee/ee8ee952.jpg', '49/49b1b22b.jpg', '66/66f3a68c.jpg', 'eb/ebbeeef7.jpg']\n",
      "Generating VQA for image: c3/c3b16f94.jpg\n",
      "Generating VQA for image: ee/ee8ee952.jpg\n",
      "Generating VQA for image: 49/49b1b22b.jpg\n",
      "Generating VQA for image: 66/66f3a68c.jpg\n",
      "Generating VQA for image: eb/ebbeeef7.jpg\n"
     ]
    },
    {
     "name": "stderr",
     "output_type": "stream",
     "text": [
      "\r  0%|          | 6/8132 [01:06<18:39:23,  8.27s/it]"
     ]
    },
    {
     "name": "stdout",
     "output_type": "stream",
     "text": [
      "Image paths: ['e6/e6c5d919.jpg', '59/5972df54.jpg', '4d/4d46fe93.jpg', '3c/3c774b55.jpg', 'b0/b02adc61.jpg']\n",
      "Generating VQA for image: e6/e6c5d919.jpg\n",
      "Generating VQA for image: 59/5972df54.jpg\n",
      "Generating VQA for image: 4d/4d46fe93.jpg\n",
      "Generating VQA for image: 3c/3c774b55.jpg\n",
      "Generating VQA for image: b0/b02adc61.jpg\n"
     ]
    },
    {
     "name": "stderr",
     "output_type": "stream",
     "text": [
      "\r  0%|          | 7/8132 [01:14<18:18:39,  8.11s/it]"
     ]
    },
    {
     "name": "stdout",
     "output_type": "stream",
     "text": [
      "Image paths: ['ba/baa51770.jpg', '2f/2f357c87.jpg', '85/85192c70.jpg']\n",
      "Generating VQA for image: ba/baa51770.jpg\n",
      "Generating VQA for image: 2f/2f357c87.jpg\n",
      "Generating VQA for image: 85/85192c70.jpg\n"
     ]
    },
    {
     "name": "stderr",
     "output_type": "stream",
     "text": [
      "\r  0%|          | 9/8132 [01:20<12:58:19,  5.75s/it]"
     ]
    },
    {
     "name": "stdout",
     "output_type": "stream",
     "text": [
      "Image paths: ['84/84cc0289.jpg', '2f/2f357c87.jpg', '85/85192c70.jpg']\n",
      "Generating VQA for image: 84/84cc0289.jpg\n",
      "Generating VQA for image: 2f/2f357c87.jpg\n",
      "Generating VQA for image: 85/85192c70.jpg\n"
     ]
    },
    {
     "name": "stderr",
     "output_type": "stream",
     "text": [
      "\r  0%|          | 10/8132 [01:25<12:47:40,  5.67s/it]"
     ]
    },
    {
     "name": "stdout",
     "output_type": "stream",
     "text": [
      "Image paths: ['89/8952e8f4.jpg', 'c3/c32e6a91.jpg', 'd6/d6585269.jpg', '1c/1caae0a4.jpg', '98/98da1000.jpg', '72/72d13e50.jpg', '98/98301ff1.jpg']\n",
      "Generating VQA for image: 89/8952e8f4.jpg\n",
      "Generating VQA for image: c3/c32e6a91.jpg\n",
      "Generating VQA for image: d6/d6585269.jpg\n",
      "Generating VQA for image: 1c/1caae0a4.jpg\n",
      "Generating VQA for image: 98/98da1000.jpg\n",
      "Generating VQA for image: 72/72d13e50.jpg\n",
      "Generating VQA for image: 98/98301ff1.jpg\n"
     ]
    },
    {
     "name": "stderr",
     "output_type": "stream",
     "text": [
      "\r  0%|          | 11/8132 [01:38<17:06:14,  7.58s/it]"
     ]
    },
    {
     "name": "stdout",
     "output_type": "stream",
     "text": [
      "Image paths: ['37/37b19050.jpg', 'ee/ee8ee952.jpg', '49/49b1b22b.jpg', '66/66f3a68c.jpg', '2e/2eaa58a8.jpg']\n",
      "Generating VQA for image: 37/37b19050.jpg\n",
      "Generating VQA for image: ee/ee8ee952.jpg\n",
      "Generating VQA for image: 49/49b1b22b.jpg\n",
      "Generating VQA for image: 66/66f3a68c.jpg\n",
      "Generating VQA for image: 2e/2eaa58a8.jpg\n"
     ]
    },
    {
     "name": "stderr",
     "output_type": "stream",
     "text": [
      "\r  0%|          | 12/8132 [01:47<17:46:19,  7.88s/it]"
     ]
    },
    {
     "name": "stdout",
     "output_type": "stream",
     "text": [
      "Image paths: ['22/2233f049.jpg', '6e/6e9403f7.jpg', '8b/8b538bb6.jpg', '73/73997486.jpg', 'f3/f3b6e267.jpg', '01/01b8ee70.jpg', '7d/7d1bfb74.jpg']\n",
      "Generating VQA for image: 22/2233f049.jpg\n",
      "Generating VQA for image: 6e/6e9403f7.jpg\n",
      "Generating VQA for image: 8b/8b538bb6.jpg\n",
      "Generating VQA for image: 73/73997486.jpg\n",
      "Generating VQA for image: f3/f3b6e267.jpg\n",
      "Generating VQA for image: 01/01b8ee70.jpg\n",
      "Generating VQA for image: 7d/7d1bfb74.jpg\n"
     ]
    },
    {
     "name": "stderr",
     "output_type": "stream",
     "text": [
      "\r  0%|          | 13/8132 [02:01<21:27:19,  9.51s/it]"
     ]
    },
    {
     "name": "stdout",
     "output_type": "stream",
     "text": [
      "Image paths: ['f2/f239483b.jpg', '65/6555ae20.jpg', '0c/0c28f188.jpg', '6e/6e345f28.jpg', 'f0/f00e35a7.jpg', 'a8/a8f82408.jpg', 'ad/ad40ee9d.jpg']\n",
      "Generating VQA for image: f2/f239483b.jpg\n",
      "Generating VQA for image: 65/6555ae20.jpg\n",
      "Generating VQA for image: 0c/0c28f188.jpg\n",
      "Generating VQA for image: 6e/6e345f28.jpg\n",
      "Generating VQA for image: f0/f00e35a7.jpg\n",
      "Generating VQA for image: a8/a8f82408.jpg\n",
      "Generating VQA for image: ad/ad40ee9d.jpg\n"
     ]
    },
    {
     "name": "stderr",
     "output_type": "stream",
     "text": [
      "\r  0%|          | 15/8132 [02:12<17:31:19,  7.77s/it]"
     ]
    },
    {
     "name": "stdout",
     "output_type": "stream",
     "text": [
      "Image paths: ['57/5799c24e.jpg', '47/47f0c738.jpg', '9f/9f6f86ac.jpg', 'd8/d89025e7.jpg']\n",
      "Generating VQA for image: 57/5799c24e.jpg\n",
      "Generating VQA for image: 47/47f0c738.jpg\n",
      "Generating VQA for image: 9f/9f6f86ac.jpg\n",
      "Generating VQA for image: d8/d89025e7.jpg\n"
     ]
    },
    {
     "name": "stderr",
     "output_type": "stream",
     "text": [
      "\r  0%|          | 16/8132 [02:19<16:54:30,  7.50s/it]"
     ]
    },
    {
     "name": "stdout",
     "output_type": "stream",
     "text": [
      "Image paths: ['e1/e15b222f.jpg', '07/076c654a.jpg', '75/75c59074.jpg', '06/0679eb37.jpg', 'ef/ef47c739.jpg']\n",
      "Generating VQA for image: e1/e15b222f.jpg\n",
      "Generating VQA for image: 07/076c654a.jpg\n",
      "Generating VQA for image: 75/75c59074.jpg\n",
      "Generating VQA for image: 06/0679eb37.jpg\n",
      "Generating VQA for image: ef/ef47c739.jpg\n"
     ]
    },
    {
     "name": "stderr",
     "output_type": "stream",
     "text": [
      "\r  0%|          | 17/8132 [02:27<17:12:52,  7.64s/it]"
     ]
    },
    {
     "name": "stdout",
     "output_type": "stream",
     "text": [
      "Image paths: ['15/15b046d6.jpg', 'ed/ed0a4ccd.jpg', '6f/6fe3678f.jpg', '4a/4a89d9da.jpg', '37/377aed3d.jpg', 'a1/a18007e6.jpg']\n",
      "Generating VQA for image: 15/15b046d6.jpg\n",
      "Generating VQA for image: ed/ed0a4ccd.jpg\n",
      "Generating VQA for image: 6f/6fe3678f.jpg\n",
      "Generating VQA for image: 4a/4a89d9da.jpg\n",
      "Generating VQA for image: 37/377aed3d.jpg\n",
      "Generating VQA for image: a1/a18007e6.jpg\n"
     ]
    },
    {
     "name": "stderr",
     "output_type": "stream",
     "text": [
      "\r  0%|          | 20/8132 [02:37<12:18:57,  5.47s/it]"
     ]
    },
    {
     "name": "stdout",
     "output_type": "stream",
     "text": [
      "Image paths: ['ca/ca9eb43c.jpg', '27/279a264b.jpg', 'a7/a77c8e6b.jpg', '2f/2fff68ad.jpg']\n",
      "Generating VQA for image: ca/ca9eb43c.jpg\n",
      "Generating VQA for image: 27/279a264b.jpg\n",
      "Generating VQA for image: a7/a77c8e6b.jpg\n",
      "Generating VQA for image: 2f/2fff68ad.jpg\n"
     ]
    },
    {
     "name": "stderr",
     "output_type": "stream",
     "text": [
      "\r  0%|          | 21/8132 [02:44<13:11:07,  5.85s/it]"
     ]
    },
    {
     "name": "stdout",
     "output_type": "stream",
     "text": [
      "Image paths: ['76/76d901b7.jpg', '99/99739230.jpg', '73/73f59e1e.jpg', '87/87dfb91d.jpg']\n",
      "Generating VQA for image: 76/76d901b7.jpg\n",
      "Generating VQA for image: 99/99739230.jpg\n",
      "Generating VQA for image: 73/73f59e1e.jpg\n",
      "Generating VQA for image: 87/87dfb91d.jpg\n"
     ]
    },
    {
     "name": "stderr",
     "output_type": "stream",
     "text": [
      "\r  0%|          | 25/8132 [02:52<8:26:40,  3.75s/it] "
     ]
    },
    {
     "name": "stdout",
     "output_type": "stream",
     "text": [
      "Image paths: ['81/81fdf8b5.jpg', 'a4/a40f8c7e.jpg', '81/815debe9.jpg', '57/57e89a7f.jpg', '3c/3c5e1255.jpg', 'bc/bceefcb1.jpg', '7c/7cdc7fba.jpg']\n",
      "Generating VQA for image: 81/81fdf8b5.jpg\n",
      "Generating VQA for image: a4/a40f8c7e.jpg\n",
      "Generating VQA for image: 81/815debe9.jpg\n",
      "Generating VQA for image: 57/57e89a7f.jpg\n",
      "Generating VQA for image: 3c/3c5e1255.jpg\n",
      "Generating VQA for image: bc/bceefcb1.jpg\n",
      "Generating VQA for image: 7c/7cdc7fba.jpg\n"
     ]
    },
    {
     "name": "stderr",
     "output_type": "stream",
     "text": [
      "\r  0%|          | 27/8132 [03:04<9:44:09,  4.32s/it]"
     ]
    },
    {
     "name": "stdout",
     "output_type": "stream",
     "text": [
      "Image paths: ['07/07eca5fd.jpg', 'ee/ee8ee952.jpg', '49/49b1b22b.jpg', '66/66f3a68c.jpg', 'b8/b830c6a9.jpg']\n",
      "Generating VQA for image: 07/07eca5fd.jpg\n",
      "Generating VQA for image: ee/ee8ee952.jpg\n",
      "Generating VQA for image: 49/49b1b22b.jpg\n",
      "Generating VQA for image: 66/66f3a68c.jpg\n",
      "Generating VQA for image: b8/b830c6a9.jpg\n"
     ]
    },
    {
     "name": "stderr",
     "output_type": "stream",
     "text": [
      "\r  0%|          | 28/8132 [03:12<11:18:08,  5.02s/it]"
     ]
    },
    {
     "name": "stdout",
     "output_type": "stream",
     "text": [
      "Image paths: ['a2/a2887a0d.jpg', '2f/2f357c87.jpg', '85/85192c70.jpg']\n",
      "Generating VQA for image: a2/a2887a0d.jpg\n",
      "Generating VQA for image: 2f/2f357c87.jpg\n",
      "Generating VQA for image: 85/85192c70.jpg\n"
     ]
    },
    {
     "name": "stderr",
     "output_type": "stream",
     "text": [
      "\r  0%|          | 29/8132 [03:18<11:40:46,  5.19s/it]"
     ]
    },
    {
     "name": "stdout",
     "output_type": "stream",
     "text": [
      "Image paths: ['51/51170daf.jpg', 'e1/e1b34270.jpg']\n",
      "Generating VQA for image: 51/51170daf.jpg\n",
      "Generating VQA for image: e1/e1b34270.jpg\n"
     ]
    },
    {
     "name": "stderr",
     "output_type": "stream",
     "text": [
      "\r  0%|          | 30/8132 [03:21<10:43:34,  4.77s/it]"
     ]
    },
    {
     "name": "stdout",
     "output_type": "stream",
     "text": [
      "Image paths: ['d3/d3e284e4.jpg', '47/47b22968.jpg', '25/25db0535.jpg', '72/726664da.jpg', '07/07ae6ba3.jpg', 'f2/f224a335.jpg']\n",
      "Generating VQA for image: d3/d3e284e4.jpg\n",
      "Generating VQA for image: 47/47b22968.jpg\n",
      "Generating VQA for image: 25/25db0535.jpg\n",
      "Generating VQA for image: 72/726664da.jpg\n",
      "Generating VQA for image: 07/07ae6ba3.jpg\n",
      "Generating VQA for image: f2/f224a335.jpg\n"
     ]
    },
    {
     "name": "stderr",
     "output_type": "stream",
     "text": [
      "\r  0%|          | 31/8132 [03:31<13:08:04,  5.84s/it]"
     ]
    },
    {
     "name": "stdout",
     "output_type": "stream",
     "text": [
      "Image paths: ['40/40c267c5.jpg', '2f/2f357c87.jpg', '85/85192c70.jpg']\n",
      "Generating VQA for image: 40/40c267c5.jpg\n",
      "Generating VQA for image: 2f/2f357c87.jpg\n",
      "Generating VQA for image: 85/85192c70.jpg\n"
     ]
    },
    {
     "name": "stderr",
     "output_type": "stream",
     "text": [
      "\r  0%|          | 32/8132 [03:36<12:49:47,  5.70s/it]"
     ]
    },
    {
     "name": "stdout",
     "output_type": "stream",
     "text": [
      "Image paths: ['d7/d7f3877b.jpg', 'ee/ee8ee952.jpg', '49/49b1b22b.jpg', '66/66f3a68c.jpg', '5d/5d373f44.jpg']\n",
      "Generating VQA for image: d7/d7f3877b.jpg\n",
      "Generating VQA for image: ee/ee8ee952.jpg\n",
      "Generating VQA for image: 49/49b1b22b.jpg\n",
      "Generating VQA for image: 66/66f3a68c.jpg\n",
      "Generating VQA for image: 5d/5d373f44.jpg\n"
     ]
    },
    {
     "name": "stderr",
     "output_type": "stream",
     "text": [
      "\r  0%|          | 33/8132 [03:44<14:11:18,  6.31s/it]"
     ]
    },
    {
     "name": "stdout",
     "output_type": "stream",
     "text": [
      "Image paths: ['35/352b19dc.jpg', 'ee/ee8ee952.jpg', '49/49b1b22b.jpg', '66/66f3a68c.jpg', 'fc/fcd67082.jpg']\n",
      "Generating VQA for image: 35/352b19dc.jpg\n",
      "Generating VQA for image: ee/ee8ee952.jpg\n",
      "Generating VQA for image: 49/49b1b22b.jpg\n",
      "Generating VQA for image: 66/66f3a68c.jpg\n",
      "Generating VQA for image: fc/fcd67082.jpg\n"
     ]
    },
    {
     "name": "stderr",
     "output_type": "stream",
     "text": [
      "\r  0%|          | 34/8132 [03:52<15:30:21,  6.89s/it]"
     ]
    },
    {
     "name": "stdout",
     "output_type": "stream",
     "text": [
      "Image paths: ['44/44ec29f7.jpg', 'ab/ab604fa7.jpg', '49/49b1b22b.jpg', '66/66f3a68c.jpg', 'ee/ee8ee952.jpg']\n",
      "Generating VQA for image: 44/44ec29f7.jpg\n",
      "Generating VQA for image: ab/ab604fa7.jpg\n",
      "Generating VQA for image: 49/49b1b22b.jpg\n",
      "Generating VQA for image: 66/66f3a68c.jpg\n",
      "Generating VQA for image: ee/ee8ee952.jpg\n"
     ]
    },
    {
     "name": "stderr",
     "output_type": "stream",
     "text": [
      "\r  0%|          | 35/8132 [04:00<16:10:22,  7.19s/it]"
     ]
    },
    {
     "name": "stdout",
     "output_type": "stream",
     "text": [
      "Image paths: ['fc/fcb6f124.jpg', '2f/2f357c87.jpg', '85/85192c70.jpg']\n",
      "Generating VQA for image: fc/fcb6f124.jpg\n",
      "Generating VQA for image: 2f/2f357c87.jpg\n",
      "Generating VQA for image: 85/85192c70.jpg\n"
     ]
    },
    {
     "name": "stderr",
     "output_type": "stream",
     "text": [
      "\r  0%|          | 36/8132 [04:06<15:17:16,  6.80s/it]"
     ]
    },
    {
     "name": "stdout",
     "output_type": "stream",
     "text": [
      "Image paths: ['8c/8ccc83ee.jpg', '2f/2f357c87.jpg', '85/85192c70.jpg']\n",
      "Generating VQA for image: 8c/8ccc83ee.jpg\n",
      "Generating VQA for image: 2f/2f357c87.jpg\n",
      "Generating VQA for image: 85/85192c70.jpg\n"
     ]
    },
    {
     "name": "stderr",
     "output_type": "stream",
     "text": [
      "\r  0%|          | 37/8132 [04:12<14:26:24,  6.42s/it]"
     ]
    },
    {
     "name": "stdout",
     "output_type": "stream",
     "text": [
      "Image paths: ['a5/a55fa7b4.jpg', '0b/0be5fb4a.jpg', 'a2/a27924f4.jpg', '20/20533b83.jpg', 'f4/f446ee5f.jpg', '85/85c5f823.jpg', 'db/dbaed0ea.jpg', '92/928590ba.jpg', '1a/1a410af9.jpg']\n",
      "Generating VQA for image: a5/a55fa7b4.jpg\n",
      "Generating VQA for image: 0b/0be5fb4a.jpg\n",
      "Generating VQA for image: a2/a27924f4.jpg\n",
      "Generating VQA for image: 20/20533b83.jpg\n",
      "Generating VQA for image: f4/f446ee5f.jpg\n",
      "Generating VQA for image: 85/85c5f823.jpg\n",
      "Generating VQA for image: db/dbaed0ea.jpg\n",
      "Generating VQA for image: 92/928590ba.jpg\n",
      "Generating VQA for image: 1a/1a410af9.jpg\n"
     ]
    },
    {
     "name": "stderr",
     "output_type": "stream",
     "text": [
      "\r  0%|          | 39/8132 [04:26<15:14:54,  6.78s/it]"
     ]
    },
    {
     "name": "stdout",
     "output_type": "stream",
     "text": [
      "Image paths: ['26/262f618d.jpg', '47/47f0c738.jpg', '9f/9f6f86ac.jpg', 'd8/d89025e7.jpg']\n",
      "Generating VQA for image: 26/262f618d.jpg\n",
      "Generating VQA for image: 47/47f0c738.jpg\n",
      "Generating VQA for image: 9f/9f6f86ac.jpg\n",
      "Generating VQA for image: d8/d89025e7.jpg\n"
     ]
    },
    {
     "name": "stderr",
     "output_type": "stream",
     "text": [
      "\r  0%|          | 40/8132 [04:33<15:04:12,  6.70s/it]"
     ]
    },
    {
     "name": "stdout",
     "output_type": "stream",
     "text": [
      "Image paths: ['cc/cc827933.jpg', '5a/5ad0321d.jpg', '07/07a13d40.jpg', '4b/4b7b9775.jpg', '2e/2e8da699.jpg']\n",
      "Generating VQA for image: cc/cc827933.jpg\n",
      "Generating VQA for image: 5a/5ad0321d.jpg\n",
      "Generating VQA for image: 07/07a13d40.jpg\n",
      "Generating VQA for image: 4b/4b7b9775.jpg\n",
      "Generating VQA for image: 2e/2e8da699.jpg\n"
     ]
    },
    {
     "name": "stderr",
     "output_type": "stream",
     "text": [
      "\r  1%|          | 41/8132 [04:42<16:43:10,  7.44s/it]"
     ]
    },
    {
     "name": "stdout",
     "output_type": "stream",
     "text": [
      "Image paths: ['4f/4fd222e4.jpg', '2f/2f357c87.jpg', '85/85192c70.jpg']\n",
      "Generating VQA for image: 4f/4fd222e4.jpg\n",
      "Generating VQA for image: 2f/2f357c87.jpg\n",
      "Generating VQA for image: 85/85192c70.jpg\n"
     ]
    },
    {
     "name": "stderr",
     "output_type": "stream",
     "text": [
      "\r  1%|          | 42/8132 [04:48<15:37:58,  6.96s/it]"
     ]
    },
    {
     "name": "stdout",
     "output_type": "stream",
     "text": [
      "Image paths: ['d2/d2530798.jpg', 'bc/bc06fac5.jpg', '3c/3c44f4c9.jpg']\n",
      "Generating VQA for image: d2/d2530798.jpg\n",
      "Generating VQA for image: bc/bc06fac5.jpg\n",
      "Generating VQA for image: 3c/3c44f4c9.jpg\n"
     ]
    },
    {
     "name": "stderr",
     "output_type": "stream",
     "text": [
      "\r  1%|          | 43/8132 [04:52<14:09:19,  6.30s/it]"
     ]
    },
    {
     "name": "stdout",
     "output_type": "stream",
     "text": [
      "Image paths: ['c4/c4438882.jpg', 'f5/f5047137.jpg', '15/15dd0076.jpg', 'fc/fca0d2bd.jpg']\n",
      "Generating VQA for image: c4/c4438882.jpg\n",
      "Generating VQA for image: f5/f5047137.jpg\n",
      "Generating VQA for image: 15/15dd0076.jpg\n",
      "Generating VQA for image: fc/fca0d2bd.jpg\n"
     ]
    },
    {
     "name": "stderr",
     "output_type": "stream",
     "text": [
      "\r  1%|          | 44/8132 [04:59<14:05:01,  6.27s/it]"
     ]
    },
    {
     "name": "stdout",
     "output_type": "stream",
     "text": [
      "Image paths: ['9a/9a317337.jpg', 'ae/ae7b4287.jpg', '94/94786f51.jpg', 'c5/c504c446.jpg', 'f0/f032ea1c.jpg', 'a0/a03061f6.jpg']\n",
      "Generating VQA for image: 9a/9a317337.jpg\n",
      "Generating VQA for image: ae/ae7b4287.jpg\n",
      "Generating VQA for image: 94/94786f51.jpg\n",
      "Generating VQA for image: c5/c504c446.jpg\n",
      "Generating VQA for image: f0/f032ea1c.jpg\n",
      "Generating VQA for image: a0/a03061f6.jpg\n"
     ]
    },
    {
     "name": "stderr",
     "output_type": "stream",
     "text": [
      "\r  1%|          | 45/8132 [05:08<16:10:51,  7.20s/it]"
     ]
    },
    {
     "name": "stdout",
     "output_type": "stream",
     "text": [
      "Image paths: ['14/1409a2e3.jpg', 'ef/efa416fa.jpg']\n",
      "Generating VQA for image: 14/1409a2e3.jpg\n",
      "Generating VQA for image: ef/efa416fa.jpg\n"
     ]
    },
    {
     "name": "stderr",
     "output_type": "stream",
     "text": [
      "\r  1%|          | 48/8132 [05:11<8:28:14,  3.77s/it] "
     ]
    },
    {
     "name": "stdout",
     "output_type": "stream",
     "text": [
      "Image paths: ['ed/edf8c0b5.jpg', '2f/2f357c87.jpg', '85/85192c70.jpg']\n",
      "Generating VQA for image: ed/edf8c0b5.jpg\n",
      "Generating VQA for image: 2f/2f357c87.jpg\n",
      "Generating VQA for image: 85/85192c70.jpg\n"
     ]
    },
    {
     "name": "stderr",
     "output_type": "stream",
     "text": [
      "\r  1%|          | 49/8132 [05:17<9:22:42,  4.18s/it]"
     ]
    },
    {
     "name": "stdout",
     "output_type": "stream",
     "text": [
      "Image paths: ['1b/1b7604eb.jpg', 'ee/ee8ee952.jpg', 'a3/a32f60d8.jpg', '66/66f3a68c.jpg', '49/49b1b22b.jpg']\n",
      "Generating VQA for image: 1b/1b7604eb.jpg\n",
      "Generating VQA for image: ee/ee8ee952.jpg\n",
      "Generating VQA for image: a3/a32f60d8.jpg\n",
      "Generating VQA for image: 66/66f3a68c.jpg\n",
      "Generating VQA for image: 49/49b1b22b.jpg\n"
     ]
    },
    {
     "name": "stderr",
     "output_type": "stream",
     "text": [
      "\r  1%|          | 50/8132 [05:25<11:26:35,  5.10s/it]"
     ]
    },
    {
     "name": "stdout",
     "output_type": "stream",
     "text": [
      "Image paths: ['d1/d102e314.jpg', 'c0/c000ebd9.jpg', 'f8/f8f76b72.jpg', '0e/0e213269.jpg', 'e4/e415f9af.jpg', '10/107c88ae.jpg']\n",
      "Generating VQA for image: d1/d102e314.jpg\n",
      "Generating VQA for image: c0/c000ebd9.jpg\n",
      "Generating VQA for image: f8/f8f76b72.jpg\n",
      "Generating VQA for image: 0e/0e213269.jpg\n",
      "Generating VQA for image: e4/e415f9af.jpg\n",
      "Generating VQA for image: 10/107c88ae.jpg\n"
     ]
    },
    {
     "name": "stderr",
     "output_type": "stream",
     "text": [
      "\r  1%|          | 51/8132 [05:34<13:48:02,  6.15s/it]"
     ]
    },
    {
     "name": "stdout",
     "output_type": "stream",
     "text": [
      "Image paths: ['e8/e819ac52.jpg', 'ee/ee8ee952.jpg', '8c/8ca423ba.jpg', '66/66f3a68c.jpg', '49/49b1b22b.jpg']\n",
      "Generating VQA for image: e8/e819ac52.jpg\n",
      "Generating VQA for image: ee/ee8ee952.jpg\n",
      "Generating VQA for image: 8c/8ca423ba.jpg\n",
      "Generating VQA for image: 66/66f3a68c.jpg\n",
      "Generating VQA for image: 49/49b1b22b.jpg\n"
     ]
    },
    {
     "name": "stderr",
     "output_type": "stream",
     "text": [
      "\r  1%|          | 52/8132 [05:43<15:24:06,  6.86s/it]"
     ]
    },
    {
     "name": "stdout",
     "output_type": "stream",
     "text": [
      "Image paths: ['ee/eeac4bb6.jpg', 'ad/ad0c22ff.jpg', '78/780d4142.jpg', 'bd/bddc13d3.jpg', 'd7/d74d70f8.jpg', 'f8/f86272e1.jpg']\n",
      "Generating VQA for image: ee/eeac4bb6.jpg\n",
      "Generating VQA for image: ad/ad0c22ff.jpg\n",
      "Generating VQA for image: 78/780d4142.jpg\n",
      "Generating VQA for image: bd/bddc13d3.jpg\n",
      "Generating VQA for image: d7/d74d70f8.jpg\n",
      "Generating VQA for image: f8/f86272e1.jpg\n"
     ]
    },
    {
     "name": "stderr",
     "output_type": "stream",
     "text": [
      "\r  1%|          | 53/8132 [05:53<17:12:22,  7.67s/it]"
     ]
    },
    {
     "name": "stdout",
     "output_type": "stream",
     "text": [
      "Image paths: ['a2/a2cfbaab.jpg', 'ee/ee8ee952.jpg', '49/49b1b22b.jpg', '3f/3fc61a69.jpg', '66/66f3a68c.jpg']\n",
      "Generating VQA for image: a2/a2cfbaab.jpg\n",
      "Generating VQA for image: ee/ee8ee952.jpg\n",
      "Generating VQA for image: 49/49b1b22b.jpg\n",
      "Generating VQA for image: 3f/3fc61a69.jpg\n",
      "Generating VQA for image: 66/66f3a68c.jpg\n"
     ]
    },
    {
     "name": "stderr",
     "output_type": "stream",
     "text": [
      "\r  1%|          | 54/8132 [06:01<17:25:56,  7.77s/it]"
     ]
    },
    {
     "name": "stdout",
     "output_type": "stream",
     "text": [
      "Image paths: ['d6/d6fd5565.jpg', '0d/0db73980.jpg', '9a/9a87c439.jpg', 'bf/bfc98c4d.jpg', '9e/9e21b57b.jpg', 'bf/bf3e9697.jpg', '69/69eac294.jpg', 'f7/f7dc6cee.jpg', 'e0/e0470146.jpg']\n",
      "Generating VQA for image: d6/d6fd5565.jpg\n",
      "Generating VQA for image: 0d/0db73980.jpg\n",
      "Generating VQA for image: 9a/9a87c439.jpg\n",
      "Generating VQA for image: bf/bfc98c4d.jpg\n",
      "Generating VQA for image: 9e/9e21b57b.jpg\n",
      "Generating VQA for image: bf/bf3e9697.jpg\n",
      "Generating VQA for image: 69/69eac294.jpg\n",
      "Generating VQA for image: f7/f7dc6cee.jpg\n",
      "Generating VQA for image: e0/e0470146.jpg\n"
     ]
    },
    {
     "name": "stderr",
     "output_type": "stream",
     "text": [
      "\r  1%|          | 55/8132 [06:20<24:14:33, 10.81s/it]"
     ]
    },
    {
     "name": "stdout",
     "output_type": "stream",
     "text": [
      "Image paths: ['01/013eb3c9.jpg', 'ba/ba1c1bb5.jpg']\n",
      "Generating VQA for image: 01/013eb3c9.jpg\n",
      "Generating VQA for image: ba/ba1c1bb5.jpg\n"
     ]
    },
    {
     "name": "stderr",
     "output_type": "stream",
     "text": [
      "\r  1%|          | 56/8132 [06:23<19:28:45,  8.68s/it]"
     ]
    },
    {
     "name": "stdout",
     "output_type": "stream",
     "text": [
      "Image paths: ['93/938b36c4.jpg', '4d/4dfa1ea5.jpg', '3f/3f5a739e.jpg', '87/87dfb91d.jpg']\n",
      "Generating VQA for image: 93/938b36c4.jpg\n",
      "Generating VQA for image: 4d/4dfa1ea5.jpg\n",
      "Generating VQA for image: 3f/3f5a739e.jpg\n",
      "Generating VQA for image: 87/87dfb91d.jpg\n"
     ]
    },
    {
     "name": "stderr",
     "output_type": "stream",
     "text": [
      "\r  1%|          | 57/8132 [06:30<18:27:56,  8.23s/it]"
     ]
    },
    {
     "name": "stdout",
     "output_type": "stream",
     "text": [
      "Image paths: ['af/af560f8f.jpg', '2f/2f357c87.jpg', '85/85192c70.jpg']\n",
      "Generating VQA for image: af/af560f8f.jpg\n",
      "Generating VQA for image: 2f/2f357c87.jpg\n",
      "Generating VQA for image: 85/85192c70.jpg\n"
     ]
    },
    {
     "name": "stderr",
     "output_type": "stream",
     "text": [
      "\r  1%|          | 58/8132 [06:36<16:48:38,  7.50s/it]"
     ]
    },
    {
     "name": "stdout",
     "output_type": "stream",
     "text": [
      "Image paths: ['c1/c124ff3d.jpg', '60/60370998.jpg', '2f/2f3958cb.jpg', 'ba/ba4003ac.jpg', 'd7/d7a3a9d4.jpg']\n",
      "Generating VQA for image: c1/c124ff3d.jpg\n",
      "Generating VQA for image: 60/60370998.jpg\n",
      "Generating VQA for image: 2f/2f3958cb.jpg\n",
      "Generating VQA for image: ba/ba4003ac.jpg\n",
      "Generating VQA for image: d7/d7a3a9d4.jpg\n"
     ]
    },
    {
     "name": "stderr",
     "output_type": "stream",
     "text": [
      "\r  1%|          | 59/8132 [06:44<17:31:08,  7.81s/it]"
     ]
    },
    {
     "name": "stdout",
     "output_type": "stream",
     "text": [
      "Image paths: ['41/41c3d695.jpg', '01/01be2cef.jpg', 'c9/c93383dd.jpg']\n",
      "Generating VQA for image: 41/41c3d695.jpg\n",
      "Generating VQA for image: 01/01be2cef.jpg\n",
      "Generating VQA for image: c9/c93383dd.jpg\n"
     ]
    },
    {
     "name": "stderr",
     "output_type": "stream",
     "text": [
      "\r  1%|          | 60/8132 [06:51<16:57:58,  7.57s/it]"
     ]
    },
    {
     "name": "stdout",
     "output_type": "stream",
     "text": [
      "Image paths: ['78/78d4d0bc.jpg', '49/49b1b22b.jpg', '66/66f3a68c.jpg', '91/91256213.jpg']\n",
      "Generating VQA for image: 78/78d4d0bc.jpg\n",
      "Generating VQA for image: 49/49b1b22b.jpg\n",
      "Generating VQA for image: 66/66f3a68c.jpg\n",
      "Generating VQA for image: 91/91256213.jpg\n"
     ]
    },
    {
     "name": "stderr",
     "output_type": "stream",
     "text": [
      "\r  1%|          | 61/8132 [06:59<16:40:26,  7.44s/it]"
     ]
    },
    {
     "name": "stdout",
     "output_type": "stream",
     "text": [
      "Image paths: ['cf/cf4ab951.jpg', '44/44071b9a.jpg', '8f/8f0d6bb6.jpg', '16/1692a73c.jpg']\n",
      "Generating VQA for image: cf/cf4ab951.jpg\n",
      "Generating VQA for image: 44/44071b9a.jpg\n",
      "Generating VQA for image: 8f/8f0d6bb6.jpg\n",
      "Generating VQA for image: 16/1692a73c.jpg\n"
     ]
    },
    {
     "name": "stderr",
     "output_type": "stream",
     "text": [
      "\r  1%|          | 62/8132 [07:07<17:12:29,  7.68s/it]"
     ]
    },
    {
     "name": "stdout",
     "output_type": "stream",
     "text": [
      "Image paths: ['e8/e8fb0477.jpg', '2e/2e62beed.jpg', 'cc/cc48d969.jpg', 'c0/c08fd85a.jpg', 'b6/b6125d53.jpg', 'af/af55f997.jpg', '42/42d375c3.jpg']\n",
      "Generating VQA for image: e8/e8fb0477.jpg\n",
      "Generating VQA for image: 2e/2e62beed.jpg\n",
      "Generating VQA for image: cc/cc48d969.jpg\n",
      "Generating VQA for image: c0/c08fd85a.jpg\n",
      "Generating VQA for image: b6/b6125d53.jpg\n",
      "Generating VQA for image: af/af55f997.jpg\n",
      "Generating VQA for image: 42/42d375c3.jpg\n"
     ]
    },
    {
     "name": "stderr",
     "output_type": "stream",
     "text": [
      "\r  1%|          | 63/8132 [07:20<20:58:20,  9.36s/it]"
     ]
    },
    {
     "name": "stdout",
     "output_type": "stream",
     "text": [
      "Image paths: ['c2/c2d763d9.jpg', 'd8/d87e51cf.jpg', '03/03c3499f.jpg', '36/36cae1bf.jpg', '2a/2af5eb88.jpg']\n",
      "Generating VQA for image: c2/c2d763d9.jpg\n",
      "Generating VQA for image: d8/d87e51cf.jpg\n",
      "Generating VQA for image: 03/03c3499f.jpg\n",
      "Generating VQA for image: 36/36cae1bf.jpg\n",
      "Generating VQA for image: 2a/2af5eb88.jpg\n"
     ]
    },
    {
     "name": "stderr",
     "output_type": "stream",
     "text": [
      "\r  1%|          | 65/8132 [07:29<15:44:01,  7.02s/it]"
     ]
    },
    {
     "name": "stdout",
     "output_type": "stream",
     "text": [
      "Image paths: ['c1/c1d6d916.jpg', 'dd/dd1c6832.jpg', 'f5/f5d5faac.jpg', '9c/9c9755dd.jpg', '38/381bc5cc.jpg']\n",
      "Generating VQA for image: c1/c1d6d916.jpg\n",
      "Generating VQA for image: dd/dd1c6832.jpg\n",
      "Generating VQA for image: f5/f5d5faac.jpg\n",
      "Generating VQA for image: 9c/9c9755dd.jpg\n",
      "Generating VQA for image: 38/381bc5cc.jpg\n"
     ]
    },
    {
     "name": "stderr",
     "output_type": "stream",
     "text": [
      "\r  1%|          | 66/8132 [07:37<16:37:53,  7.42s/it]"
     ]
    },
    {
     "name": "stdout",
     "output_type": "stream",
     "text": [
      "Image paths: ['2c/2c51a825.jpg', 'ee/ee8ee952.jpg', '49/49b1b22b.jpg', '66/66f3a68c.jpg', '8d/8de39395.jpg']\n",
      "Generating VQA for image: 2c/2c51a825.jpg\n",
      "Generating VQA for image: ee/ee8ee952.jpg\n",
      "Generating VQA for image: 49/49b1b22b.jpg\n",
      "Generating VQA for image: 66/66f3a68c.jpg\n",
      "Generating VQA for image: 8d/8de39395.jpg\n"
     ]
    },
    {
     "name": "stderr",
     "output_type": "stream",
     "text": [
      "\r  1%|          | 67/8132 [07:46<17:18:37,  7.73s/it]"
     ]
    },
    {
     "name": "stdout",
     "output_type": "stream",
     "text": [
      "Image paths: ['56/56ecf3e8.jpg', 'ee/ee8ee952.jpg', '49/49b1b22b.jpg', '73/73c95ab6.jpg', '66/66f3a68c.jpg']\n",
      "Generating VQA for image: 56/56ecf3e8.jpg\n",
      "Generating VQA for image: ee/ee8ee952.jpg\n",
      "Generating VQA for image: 49/49b1b22b.jpg\n",
      "Generating VQA for image: 73/73c95ab6.jpg\n",
      "Generating VQA for image: 66/66f3a68c.jpg\n"
     ]
    },
    {
     "name": "stderr",
     "output_type": "stream",
     "text": [
      "\r  1%|          | 68/8132 [07:54<17:39:09,  7.88s/it]"
     ]
    },
    {
     "name": "stdout",
     "output_type": "stream",
     "text": [
      "Image paths: ['7e/7e40d83e.jpg', '47/47f0c738.jpg', '9f/9f6f86ac.jpg', 'd8/d89025e7.jpg']\n",
      "Generating VQA for image: 7e/7e40d83e.jpg\n",
      "Generating VQA for image: 47/47f0c738.jpg\n",
      "Generating VQA for image: 9f/9f6f86ac.jpg\n",
      "Generating VQA for image: d8/d89025e7.jpg\n"
     ]
    },
    {
     "name": "stderr",
     "output_type": "stream",
     "text": [
      "\r  1%|          | 69/8132 [08:01<17:01:14,  7.60s/it]"
     ]
    },
    {
     "name": "stdout",
     "output_type": "stream",
     "text": [
      "Image paths: ['58/58181ecc.jpg', '2f/2f357c87.jpg', '85/85192c70.jpg']\n",
      "Generating VQA for image: 58/58181ecc.jpg\n",
      "Generating VQA for image: 2f/2f357c87.jpg\n",
      "Generating VQA for image: 85/85192c70.jpg\n"
     ]
    },
    {
     "name": "stderr",
     "output_type": "stream",
     "text": [
      "\r  1%|          | 73/8132 [08:07<8:34:42,  3.83s/it] "
     ]
    },
    {
     "name": "stdout",
     "output_type": "stream",
     "text": [
      "Image paths: ['30/30ef7bb8.jpg', '47/47f0c738.jpg', '9f/9f6f86ac.jpg', 'd8/d89025e7.jpg']\n",
      "Generating VQA for image: 30/30ef7bb8.jpg\n",
      "Generating VQA for image: 47/47f0c738.jpg\n",
      "Generating VQA for image: 9f/9f6f86ac.jpg\n",
      "Generating VQA for image: d8/d89025e7.jpg\n"
     ]
    },
    {
     "name": "stderr",
     "output_type": "stream",
     "text": [
      "\r  1%|          | 74/8132 [08:14<9:52:48,  4.41s/it]"
     ]
    },
    {
     "name": "stdout",
     "output_type": "stream",
     "text": [
      "Image paths: ['30/301f02ea.jpg', '2f/2f357c87.jpg', '85/85192c70.jpg']\n",
      "Generating VQA for image: 30/301f02ea.jpg\n",
      "Generating VQA for image: 2f/2f357c87.jpg\n",
      "Generating VQA for image: 85/85192c70.jpg\n"
     ]
    },
    {
     "name": "stderr",
     "output_type": "stream",
     "text": [
      "\r  1%|          | 75/8132 [08:19<10:19:43,  4.62s/it]"
     ]
    },
    {
     "name": "stdout",
     "output_type": "stream",
     "text": [
      "Image paths: ['51/51a9a567.jpg', 'ee/ee8ee952.jpg', '49/49b1b22b.jpg', '66/66f3a68c.jpg', '76/76da428d.jpg']\n",
      "Generating VQA for image: 51/51a9a567.jpg\n",
      "Generating VQA for image: ee/ee8ee952.jpg\n",
      "Generating VQA for image: 49/49b1b22b.jpg\n",
      "Generating VQA for image: 66/66f3a68c.jpg\n",
      "Generating VQA for image: 76/76da428d.jpg\n"
     ]
    },
    {
     "name": "stderr",
     "output_type": "stream",
     "text": [
      "\r  1%|          | 76/8132 [08:27<12:04:14,  5.39s/it]"
     ]
    },
    {
     "name": "stdout",
     "output_type": "stream",
     "text": [
      "Image paths: ['f9/f9ae5b15.jpg', 'ee/ee8ee952.jpg', '49/49b1b22b.jpg', '66/66f3a68c.jpg', 'd7/d71e63aa.jpg']\n",
      "Generating VQA for image: f9/f9ae5b15.jpg\n",
      "Generating VQA for image: ee/ee8ee952.jpg\n",
      "Generating VQA for image: 49/49b1b22b.jpg\n",
      "Generating VQA for image: 66/66f3a68c.jpg\n",
      "Generating VQA for image: d7/d71e63aa.jpg\n"
     ]
    },
    {
     "name": "stderr",
     "output_type": "stream",
     "text": [
      "\r  1%|          | 77/8132 [08:36<13:53:47,  6.21s/it]"
     ]
    },
    {
     "name": "stdout",
     "output_type": "stream",
     "text": [
      "Image paths: ['11/11660a1a.jpg', 'd8/d8c9d536.jpg', '77/77e17ef1.jpg', 'b1/b177df1f.jpg', '7d/7d3a6dfe.jpg', '04/0462b1f0.jpg', '1b/1b12bf6f.jpg', '54/54025029.jpg']\n",
      "Generating VQA for image: 11/11660a1a.jpg\n",
      "Generating VQA for image: d8/d8c9d536.jpg\n",
      "Generating VQA for image: 77/77e17ef1.jpg\n",
      "Generating VQA for image: b1/b177df1f.jpg\n",
      "Generating VQA for image: 7d/7d3a6dfe.jpg\n",
      "Generating VQA for image: 04/0462b1f0.jpg\n",
      "Generating VQA for image: 1b/1b12bf6f.jpg\n",
      "Generating VQA for image: 54/54025029.jpg\n"
     ]
    },
    {
     "name": "stderr",
     "output_type": "stream",
     "text": [
      "\r  1%|          | 79/8132 [08:51<14:56:01,  6.68s/it]"
     ]
    },
    {
     "name": "stdout",
     "output_type": "stream",
     "text": [
      "Image paths: ['5d/5dba492e.jpg', 'd8/d87e51cf.jpg', 'be/be53152e.jpg', '2a/2af5eb88.jpg', '36/36cae1bf.jpg']\n",
      "Generating VQA for image: 5d/5dba492e.jpg\n",
      "Generating VQA for image: d8/d87e51cf.jpg\n",
      "Generating VQA for image: be/be53152e.jpg\n",
      "Generating VQA for image: 2a/2af5eb88.jpg\n",
      "Generating VQA for image: 36/36cae1bf.jpg\n"
     ]
    },
    {
     "name": "stderr",
     "output_type": "stream",
     "text": [
      "\r  1%|          | 80/8132 [08:59<15:52:39,  7.10s/it]"
     ]
    },
    {
     "name": "stdout",
     "output_type": "stream",
     "text": [
      "Image paths: ['88/883ac6a2.jpg', '7e/7ecf343f.jpg', 'be/bef67d6a.jpg', '5e/5ee5fdd2.jpg', '77/77e17ef1.jpg', 'a0/a03f1567.jpg', '80/80484902.jpg', '92/9290bd41.jpg']\n",
      "Generating VQA for image: 88/883ac6a2.jpg\n",
      "Generating VQA for image: 7e/7ecf343f.jpg\n",
      "Generating VQA for image: be/bef67d6a.jpg\n",
      "Generating VQA for image: 5e/5ee5fdd2.jpg\n",
      "Generating VQA for image: 77/77e17ef1.jpg\n",
      "Generating VQA for image: a0/a03f1567.jpg\n",
      "Generating VQA for image: 80/80484902.jpg\n",
      "Generating VQA for image: 92/9290bd41.jpg\n"
     ]
    },
    {
     "name": "stderr",
     "output_type": "stream",
     "text": [
      "\r  1%|          | 81/8132 [09:14<19:43:12,  8.82s/it]"
     ]
    },
    {
     "name": "stdout",
     "output_type": "stream",
     "text": [
      "Image paths: ['e5/e5507926.jpg', '03/037ce4c8.jpg', '37/3768184e.jpg', '87/87dfb91d.jpg']\n",
      "Generating VQA for image: e5/e5507926.jpg\n",
      "Generating VQA for image: 03/037ce4c8.jpg\n",
      "Generating VQA for image: 37/3768184e.jpg\n",
      "Generating VQA for image: 87/87dfb91d.jpg\n"
     ]
    },
    {
     "name": "stderr",
     "output_type": "stream",
     "text": [
      "\r  1%|          | 82/8132 [09:22<19:26:44,  8.70s/it]"
     ]
    },
    {
     "name": "stdout",
     "output_type": "stream",
     "text": [
      "Image paths: ['1b/1bcff014.jpg', '2f/2f357c87.jpg', '85/85192c70.jpg']\n",
      "Generating VQA for image: 1b/1bcff014.jpg\n",
      "Generating VQA for image: 2f/2f357c87.jpg\n",
      "Generating VQA for image: 85/85192c70.jpg\n"
     ]
    },
    {
     "name": "stderr",
     "output_type": "stream",
     "text": [
      "\r  1%|          | 83/8132 [09:28<17:54:30,  8.01s/it]"
     ]
    },
    {
     "name": "stdout",
     "output_type": "stream",
     "text": [
      "Image paths: ['3e/3e9bc8e3.jpg', 'ee/ee8ee952.jpg', '49/49b1b22b.jpg', '66/66f3a68c.jpg', '28/28b2844b.jpg']\n",
      "Generating VQA for image: 3e/3e9bc8e3.jpg\n",
      "Generating VQA for image: ee/ee8ee952.jpg\n",
      "Generating VQA for image: 49/49b1b22b.jpg\n",
      "Generating VQA for image: 66/66f3a68c.jpg\n",
      "Generating VQA for image: 28/28b2844b.jpg\n"
     ]
    },
    {
     "name": "stderr",
     "output_type": "stream",
     "text": [
      "\r  1%|          | 84/8132 [09:37<18:21:46,  8.21s/it]"
     ]
    },
    {
     "name": "stdout",
     "output_type": "stream",
     "text": [
      "Image paths: ['f5/f5e51bce.jpg', '58/58584954.jpg', '8c/8c724232.jpg', '7f/7f0a0b11.jpg', '98/9854622e.jpg', '73/735b5568.jpg', '0a/0a3cccd1.jpg']\n",
      "Generating VQA for image: f5/f5e51bce.jpg\n",
      "Generating VQA for image: 58/58584954.jpg\n",
      "Generating VQA for image: 8c/8c724232.jpg\n",
      "Generating VQA for image: 7f/7f0a0b11.jpg\n",
      "Generating VQA for image: 98/9854622e.jpg\n",
      "Generating VQA for image: 73/735b5568.jpg\n",
      "Generating VQA for image: 0a/0a3cccd1.jpg\n"
     ]
    },
    {
     "name": "stderr",
     "output_type": "stream",
     "text": [
      "\r  1%|          | 85/8132 [09:50<21:33:12,  9.64s/it]"
     ]
    },
    {
     "name": "stdout",
     "output_type": "stream",
     "text": [
      "Image paths: ['56/56c20165.jpg', '47/47f0c738.jpg', '9f/9f6f86ac.jpg', 'd8/d89025e7.jpg']\n",
      "Generating VQA for image: 56/56c20165.jpg\n",
      "Generating VQA for image: 47/47f0c738.jpg\n",
      "Generating VQA for image: 9f/9f6f86ac.jpg\n",
      "Generating VQA for image: d8/d89025e7.jpg\n"
     ]
    },
    {
     "name": "stderr",
     "output_type": "stream",
     "text": [
      "\r  1%|          | 86/8132 [09:57<19:36:58,  8.78s/it]"
     ]
    },
    {
     "name": "stdout",
     "output_type": "stream",
     "text": [
      "Image paths: ['2d/2dfaf54e.jpg', '2f/2f357c87.jpg', '85/85192c70.jpg']\n",
      "Generating VQA for image: 2d/2dfaf54e.jpg\n",
      "Generating VQA for image: 2f/2f357c87.jpg\n",
      "Generating VQA for image: 85/85192c70.jpg\n"
     ]
    },
    {
     "name": "stderr",
     "output_type": "stream",
     "text": [
      "\r  1%|          | 87/8132 [10:02<17:38:21,  7.89s/it]"
     ]
    },
    {
     "name": "stdout",
     "output_type": "stream",
     "text": [
      "Image paths: ['5f/5f2eccbf.jpg', 'ee/ee8ee952.jpg', '49/49b1b22b.jpg', '66/66f3a68c.jpg', '87/87c01636.jpg']\n",
      "Generating VQA for image: 5f/5f2eccbf.jpg\n",
      "Generating VQA for image: ee/ee8ee952.jpg\n",
      "Generating VQA for image: 49/49b1b22b.jpg\n",
      "Generating VQA for image: 66/66f3a68c.jpg\n",
      "Generating VQA for image: 87/87c01636.jpg\n"
     ]
    },
    {
     "name": "stderr",
     "output_type": "stream",
     "text": [
      "\r  1%|          | 88/8132 [10:11<17:46:23,  7.95s/it]"
     ]
    },
    {
     "name": "stdout",
     "output_type": "stream",
     "text": [
      "Image paths: ['36/36a1f910.jpg', 'd8/d87e51cf.jpg', 'd2/d28a81a8.jpg', '36/36cae1bf.jpg', '2a/2af5eb88.jpg']\n",
      "Generating VQA for image: 36/36a1f910.jpg\n",
      "Generating VQA for image: d8/d87e51cf.jpg\n",
      "Generating VQA for image: d2/d28a81a8.jpg\n",
      "Generating VQA for image: 36/36cae1bf.jpg\n",
      "Generating VQA for image: 2a/2af5eb88.jpg\n"
     ]
    },
    {
     "name": "stderr",
     "output_type": "stream",
     "text": [
      "\r  1%|          | 89/8132 [10:19<18:00:26,  8.06s/it]"
     ]
    },
    {
     "name": "stdout",
     "output_type": "stream",
     "text": [
      "Image paths: ['5f/5ffa531d.jpg', '20/20533b83.jpg', '38/382f5d0d.jpg', '44/44cca1ae.jpg']\n",
      "Generating VQA for image: 5f/5ffa531d.jpg\n",
      "Generating VQA for image: 20/20533b83.jpg\n",
      "Generating VQA for image: 38/382f5d0d.jpg\n",
      "Generating VQA for image: 44/44cca1ae.jpg\n"
     ]
    },
    {
     "name": "stderr",
     "output_type": "stream",
     "text": [
      "\r  1%|          | 91/8132 [10:26<13:09:58,  5.89s/it]"
     ]
    },
    {
     "name": "stdout",
     "output_type": "stream",
     "text": [
      "Image paths: ['f1/f1c71407.jpg', 'eb/eb837c85.jpg', '65/6568c88c.jpg', 'e0/e0eef80d.jpg', '3c/3c63f55b.jpg']\n",
      "Generating VQA for image: f1/f1c71407.jpg\n",
      "Generating VQA for image: eb/eb837c85.jpg\n",
      "Generating VQA for image: 65/6568c88c.jpg\n",
      "Generating VQA for image: e0/e0eef80d.jpg\n",
      "Generating VQA for image: 3c/3c63f55b.jpg\n"
     ]
    },
    {
     "name": "stderr",
     "output_type": "stream",
     "text": [
      "\r  1%|          | 92/8132 [10:34<14:41:47,  6.58s/it]"
     ]
    },
    {
     "name": "stdout",
     "output_type": "stream",
     "text": [
      "Image paths: ['13/13d878d5.jpg', '80/805c7422.jpg', '70/70cd525d.jpg', '20/201aa8f9.jpg', 'e4/e4f69793.jpg', 'dd/ddf34282.jpg', 'dc/dc02dc48.jpg', '47/473cd572.jpg', '1a/1a811315.jpg', '74/746d0c89.jpg', 'bf/bfa20544.jpg', '82/8217dcfb.jpg', 'e1/e1b98440.jpg']\n",
      "Generating VQA for image: 13/13d878d5.jpg\n",
      "Generating VQA for image: 80/805c7422.jpg\n",
      "Generating VQA for image: 70/70cd525d.jpg\n",
      "Generating VQA for image: 20/201aa8f9.jpg\n",
      "Generating VQA for image: e4/e4f69793.jpg\n",
      "Generating VQA for image: dd/ddf34282.jpg\n",
      "Generating VQA for image: dc/dc02dc48.jpg\n",
      "Generating VQA for image: 47/473cd572.jpg\n",
      "Generating VQA for image: 1a/1a811315.jpg\n",
      "Generating VQA for image: 74/746d0c89.jpg\n",
      "Generating VQA for image: bf/bfa20544.jpg\n",
      "Generating VQA for image: 82/8217dcfb.jpg\n",
      "Generating VQA for image: e1/e1b98440.jpg\n"
     ]
    },
    {
     "name": "stderr",
     "output_type": "stream",
     "text": [
      "\r  1%|          | 94/8132 [10:57<18:55:15,  8.47s/it]"
     ]
    },
    {
     "name": "stdout",
     "output_type": "stream",
     "text": [
      "Image paths: ['2a/2ab99227.jpg', '2f/2f357c87.jpg', '85/85192c70.jpg']\n",
      "Generating VQA for image: 2a/2ab99227.jpg\n",
      "Generating VQA for image: 2f/2f357c87.jpg\n",
      "Generating VQA for image: 85/85192c70.jpg\n"
     ]
    },
    {
     "name": "stderr",
     "output_type": "stream",
     "text": [
      "\r  1%|          | 95/8132 [11:02<17:28:50,  7.83s/it]"
     ]
    },
    {
     "name": "stdout",
     "output_type": "stream",
     "text": [
      "Image paths: ['1f/1f15b9f0.jpg', '64/64f9188a.jpg', 'fa/fa92039e.jpg']\n",
      "Generating VQA for image: 1f/1f15b9f0.jpg\n",
      "Generating VQA for image: 64/64f9188a.jpg\n",
      "Generating VQA for image: fa/fa92039e.jpg\n"
     ]
    },
    {
     "name": "stderr",
     "output_type": "stream",
     "text": [
      "\r  1%|          | 96/8132 [11:07<16:02:01,  7.18s/it]"
     ]
    },
    {
     "name": "stdout",
     "output_type": "stream",
     "text": [
      "Image paths: ['56/56a74a17.jpg', 'ee/ee8ee952.jpg', '49/49b1b22b.jpg', '66/66f3a68c.jpg', '0b/0bdc9574.jpg']\n",
      "Generating VQA for image: 56/56a74a17.jpg\n",
      "Generating VQA for image: ee/ee8ee952.jpg\n",
      "Generating VQA for image: 49/49b1b22b.jpg\n",
      "Generating VQA for image: 66/66f3a68c.jpg\n",
      "Generating VQA for image: 0b/0bdc9574.jpg\n"
     ]
    },
    {
     "name": "stderr",
     "output_type": "stream",
     "text": [
      "\r  1%|          | 97/8132 [11:16<16:50:10,  7.54s/it]"
     ]
    },
    {
     "name": "stdout",
     "output_type": "stream",
     "text": [
      "Image paths: ['48/48fa1783.jpg', 'ee/ee8ee952.jpg', '49/49b1b22b.jpg', '66/66f3a68c.jpg', '18/182fe9cd.jpg']\n",
      "Generating VQA for image: 48/48fa1783.jpg\n",
      "Generating VQA for image: ee/ee8ee952.jpg\n",
      "Generating VQA for image: 49/49b1b22b.jpg\n",
      "Generating VQA for image: 66/66f3a68c.jpg\n",
      "Generating VQA for image: 18/182fe9cd.jpg\n"
     ]
    },
    {
     "name": "stderr",
     "output_type": "stream",
     "text": [
      "\r  1%|          | 98/8132 [11:25<17:42:42,  7.94s/it]"
     ]
    },
    {
     "name": "stdout",
     "output_type": "stream",
     "text": [
      "Image paths: ['30/30aede51.jpg', 'd8/d87e51cf.jpg', '2a/2af5eb88.jpg', '36/36cae1bf.jpg', '44/4418db9c.jpg']\n",
      "Generating VQA for image: 30/30aede51.jpg\n",
      "Generating VQA for image: d8/d87e51cf.jpg\n",
      "Generating VQA for image: 2a/2af5eb88.jpg\n",
      "Generating VQA for image: 36/36cae1bf.jpg\n",
      "Generating VQA for image: 44/4418db9c.jpg\n"
     ]
    },
    {
     "name": "stderr",
     "output_type": "stream",
     "text": [
      "\r  1%|          | 100/8132 [11:34<14:12:23,  6.37s/it]"
     ]
    },
    {
     "name": "stdout",
     "output_type": "stream",
     "text": [
      "Image paths: ['d1/d1c40bad.jpg', 'f3/f30c41ed.jpg', 'c1/c1de010f.jpg', '54/5491bf4c.jpg', '0b/0b1a29d2.jpg', '84/84981e08.jpg', '34/34e0c478.jpg']\n",
      "Generating VQA for image: d1/d1c40bad.jpg\n",
      "Generating VQA for image: f3/f30c41ed.jpg\n",
      "Generating VQA for image: c1/c1de010f.jpg\n",
      "Generating VQA for image: 54/5491bf4c.jpg\n",
      "Generating VQA for image: 0b/0b1a29d2.jpg\n",
      "Generating VQA for image: 84/84981e08.jpg\n",
      "Generating VQA for image: 34/34e0c478.jpg\n"
     ]
    },
    {
     "name": "stderr",
     "output_type": "stream",
     "text": [
      "\r  1%|          | 101/8132 [11:49<18:48:24,  8.43s/it]"
     ]
    },
    {
     "name": "stdout",
     "output_type": "stream",
     "text": [
      "Image paths: ['ed/ed4669b6.jpg', 'd8/d87e51cf.jpg', '2a/2af5eb88.jpg', '36/36cae1bf.jpg', '13/1330a78e.jpg']\n",
      "Generating VQA for image: ed/ed4669b6.jpg\n",
      "Generating VQA for image: d8/d87e51cf.jpg\n",
      "Generating VQA for image: 2a/2af5eb88.jpg\n",
      "Generating VQA for image: 36/36cae1bf.jpg\n",
      "Generating VQA for image: 13/1330a78e.jpg\n"
     ]
    },
    {
     "name": "stderr",
     "output_type": "stream",
     "text": [
      "\r  1%|▏         | 102/8132 [11:57<18:42:08,  8.38s/it]"
     ]
    },
    {
     "name": "stdout",
     "output_type": "stream",
     "text": [
      "Image paths: ['2c/2ca2da69.jpg']\n",
      "Generating VQA for image: 2c/2ca2da69.jpg\n"
     ]
    },
    {
     "name": "stderr",
     "output_type": "stream",
     "text": [
      "\r  1%|▏         | 103/8132 [11:59<14:44:02,  6.61s/it]"
     ]
    },
    {
     "name": "stdout",
     "output_type": "stream",
     "text": [
      "Image paths: ['8a/8ae9b9f9.jpg', 'fb/fb9cb890.jpg', '81/81d55850.jpg', 'bb/bb66fdaf.jpg', '8d/8d795e34.jpg', '53/53a8b846.jpg', 'e3/e366e14c.jpg', '57/579a0486.jpg']\n",
      "Generating VQA for image: 8a/8ae9b9f9.jpg\n",
      "Generating VQA for image: fb/fb9cb890.jpg\n",
      "Generating VQA for image: 81/81d55850.jpg\n",
      "Generating VQA for image: bb/bb66fdaf.jpg\n",
      "Generating VQA for image: 8d/8d795e34.jpg\n",
      "Generating VQA for image: 53/53a8b846.jpg\n",
      "Generating VQA for image: e3/e366e14c.jpg\n",
      "Generating VQA for image: 57/579a0486.jpg\n"
     ]
    },
    {
     "name": "stderr",
     "output_type": "stream",
     "text": [
      "\r  1%|▏         | 104/8132 [12:16<21:37:56,  9.70s/it]"
     ]
    },
    {
     "name": "stdout",
     "output_type": "stream",
     "text": [
      "Image paths: ['46/46fdbad5.jpg', '57/57b563fd.jpg', '25/251e5535.jpg', 'bf/bfcee4d5.jpg', '54/54b27068.jpg']\n",
      "Generating VQA for image: 46/46fdbad5.jpg\n",
      "Generating VQA for image: 57/57b563fd.jpg\n",
      "Generating VQA for image: 25/251e5535.jpg\n",
      "Generating VQA for image: bf/bfcee4d5.jpg\n",
      "Generating VQA for image: 54/54b27068.jpg\n"
     ]
    },
    {
     "name": "stderr",
     "output_type": "stream",
     "text": [
      "\r  1%|▏         | 105/8132 [12:26<21:36:35,  9.69s/it]"
     ]
    },
    {
     "name": "stdout",
     "output_type": "stream",
     "text": [
      "Image paths: ['94/94271ad6.jpg', 'b7/b71afe61.jpg', '40/40b119ca.jpg', '3f/3f714c73.jpg']\n",
      "Generating VQA for image: 94/94271ad6.jpg\n",
      "Generating VQA for image: b7/b71afe61.jpg\n",
      "Generating VQA for image: 40/40b119ca.jpg\n",
      "Generating VQA for image: 3f/3f714c73.jpg\n"
     ]
    },
    {
     "name": "stderr",
     "output_type": "stream",
     "text": [
      "\r  1%|▏         | 106/8132 [12:33<19:59:59,  8.97s/it]"
     ]
    },
    {
     "name": "stdout",
     "output_type": "stream",
     "text": [
      "Image paths: ['4d/4da10437.jpg', '9e/9eb555dd.jpg', '1d/1d71f139.jpg']\n",
      "Generating VQA for image: 4d/4da10437.jpg\n",
      "Generating VQA for image: 9e/9eb555dd.jpg\n",
      "Generating VQA for image: 1d/1d71f139.jpg\n"
     ]
    },
    {
     "name": "stderr",
     "output_type": "stream",
     "text": [
      "\r  1%|▏         | 107/8132 [12:38<17:19:34,  7.77s/it]"
     ]
    },
    {
     "name": "stdout",
     "output_type": "stream",
     "text": [
      "Image paths: ['de/de118ca9.jpg', 'ee/ee8ee952.jpg', '49/49b1b22b.jpg', '66/66f3a68c.jpg', 'e5/e51477cf.jpg']\n",
      "Generating VQA for image: de/de118ca9.jpg\n",
      "Generating VQA for image: ee/ee8ee952.jpg\n",
      "Generating VQA for image: 49/49b1b22b.jpg\n",
      "Generating VQA for image: 66/66f3a68c.jpg\n",
      "Generating VQA for image: e5/e51477cf.jpg\n"
     ]
    },
    {
     "name": "stderr",
     "output_type": "stream",
     "text": [
      "\r  1%|▏         | 108/8132 [12:47<18:04:52,  8.11s/it]"
     ]
    },
    {
     "name": "stdout",
     "output_type": "stream",
     "text": [
      "Image paths: ['f5/f5e6da4c.jpg', 'ee/ee8ee952.jpg', '49/49b1b22b.jpg', '66/66f3a68c.jpg', 'd5/d5cb1ad9.jpg']\n",
      "Generating VQA for image: f5/f5e6da4c.jpg\n",
      "Generating VQA for image: ee/ee8ee952.jpg\n",
      "Generating VQA for image: 49/49b1b22b.jpg\n",
      "Generating VQA for image: 66/66f3a68c.jpg\n",
      "Generating VQA for image: d5/d5cb1ad9.jpg\n"
     ]
    },
    {
     "name": "stderr",
     "output_type": "stream",
     "text": [
      "\r  1%|▏         | 109/8132 [12:56<18:39:44,  8.37s/it]"
     ]
    },
    {
     "name": "stdout",
     "output_type": "stream",
     "text": [
      "Image paths: ['f4/f49cf457.jpg', '2f/2f357c87.jpg', '85/85192c70.jpg']\n",
      "Generating VQA for image: f4/f49cf457.jpg\n",
      "Generating VQA for image: 2f/2f357c87.jpg\n",
      "Generating VQA for image: 85/85192c70.jpg\n"
     ]
    },
    {
     "name": "stderr",
     "output_type": "stream",
     "text": [
      "\r  1%|▏         | 110/8132 [13:02<16:47:31,  7.54s/it]"
     ]
    },
    {
     "name": "stdout",
     "output_type": "stream",
     "text": [
      "Image paths: ['0e/0ed3633f.jpg', 'b9/b9ca4d1e.jpg', '65/6535da2c.jpg', '25/251e5535.jpg']\n",
      "Generating VQA for image: 0e/0ed3633f.jpg\n",
      "Generating VQA for image: b9/b9ca4d1e.jpg\n",
      "Generating VQA for image: 65/6535da2c.jpg\n",
      "Generating VQA for image: 25/251e5535.jpg\n"
     ]
    },
    {
     "name": "stderr",
     "output_type": "stream",
     "text": [
      "\r  1%|▏         | 111/8132 [13:09<16:57:54,  7.61s/it]"
     ]
    },
    {
     "name": "stdout",
     "output_type": "stream",
     "text": [
      "Image paths: ['8d/8dd890d4.jpg', 'cd/cd3f9168.jpg', '53/53fa3aff.jpg', 'f3/f3c5d1a9.jpg', '04/04dba039.jpg', 'ba/bae0259a.jpg', '2f/2f49b484.jpg', 'bd/bd26ccb3.jpg']\n",
      "Generating VQA for image: 8d/8dd890d4.jpg\n",
      "Generating VQA for image: cd/cd3f9168.jpg\n",
      "Generating VQA for image: 53/53fa3aff.jpg\n",
      "Generating VQA for image: f3/f3c5d1a9.jpg\n",
      "Generating VQA for image: 04/04dba039.jpg\n",
      "Generating VQA for image: ba/bae0259a.jpg\n",
      "Generating VQA for image: 2f/2f49b484.jpg\n",
      "Generating VQA for image: bd/bd26ccb3.jpg\n"
     ]
    },
    {
     "name": "stderr",
     "output_type": "stream",
     "text": [
      "\r  1%|▏         | 112/8132 [13:24<21:23:06,  9.60s/it]"
     ]
    },
    {
     "name": "stdout",
     "output_type": "stream",
     "text": [
      "Image paths: ['0a/0ad48abe.jpg', 'ee/ee8ee952.jpg', '49/49b1b22b.jpg', '48/483058da.jpg', '66/66f3a68c.jpg']\n",
      "Generating VQA for image: 0a/0ad48abe.jpg\n",
      "Generating VQA for image: ee/ee8ee952.jpg\n",
      "Generating VQA for image: 49/49b1b22b.jpg\n",
      "Generating VQA for image: 48/483058da.jpg\n",
      "Generating VQA for image: 66/66f3a68c.jpg\n"
     ]
    },
    {
     "name": "stderr",
     "output_type": "stream",
     "text": [
      "\r  1%|▏         | 113/8132 [13:33<21:05:53,  9.47s/it]"
     ]
    },
    {
     "name": "stdout",
     "output_type": "stream",
     "text": [
      "Image paths: ['64/642a23e8.jpg', '2f/2f357c87.jpg', '85/85192c70.jpg']\n",
      "Generating VQA for image: 64/642a23e8.jpg\n",
      "Generating VQA for image: 2f/2f357c87.jpg\n",
      "Generating VQA for image: 85/85192c70.jpg\n"
     ]
    },
    {
     "name": "stderr",
     "output_type": "stream",
     "text": [
      "\r  1%|▏         | 114/8132 [13:39<18:56:29,  8.50s/it]"
     ]
    },
    {
     "name": "stdout",
     "output_type": "stream",
     "text": [
      "Image paths: ['4a/4a01c9a6.jpg', '82/824f79e7.jpg', '4b/4b4f3c9f.jpg', 'c1/c1bf1062.jpg', '19/195390c5.jpg']\n",
      "Generating VQA for image: 4a/4a01c9a6.jpg\n",
      "Generating VQA for image: 82/824f79e7.jpg\n",
      "Generating VQA for image: 4b/4b4f3c9f.jpg\n",
      "Generating VQA for image: c1/c1bf1062.jpg\n",
      "Generating VQA for image: 19/195390c5.jpg\n"
     ]
    },
    {
     "name": "stderr",
     "output_type": "stream",
     "text": [
      "\r  1%|▏         | 115/8132 [13:48<19:05:43,  8.57s/it]"
     ]
    },
    {
     "name": "stdout",
     "output_type": "stream",
     "text": [
      "Image paths: ['bc/bc1cd1cf.jpg', 'ee/ee8ee952.jpg', '49/49b1b22b.jpg', '66/66f3a68c.jpg', 'eb/eb2fd881.jpg']\n",
      "Generating VQA for image: bc/bc1cd1cf.jpg\n",
      "Generating VQA for image: ee/ee8ee952.jpg\n",
      "Generating VQA for image: 49/49b1b22b.jpg\n",
      "Generating VQA for image: 66/66f3a68c.jpg\n",
      "Generating VQA for image: eb/eb2fd881.jpg\n"
     ]
    },
    {
     "name": "stderr",
     "output_type": "stream",
     "text": [
      "\r  1%|▏         | 116/8132 [13:57<19:11:11,  8.62s/it]"
     ]
    },
    {
     "name": "stdout",
     "output_type": "stream",
     "text": [
      "Image paths: ['e2/e239b5d1.jpg', '2f/2f357c87.jpg', '85/85192c70.jpg']\n",
      "Generating VQA for image: e2/e239b5d1.jpg\n",
      "Generating VQA for image: 2f/2f357c87.jpg\n",
      "Generating VQA for image: 85/85192c70.jpg\n"
     ]
    },
    {
     "name": "stderr",
     "output_type": "stream",
     "text": [
      "\r  1%|▏         | 117/8132 [14:02<17:09:51,  7.71s/it]"
     ]
    },
    {
     "name": "stdout",
     "output_type": "stream",
     "text": [
      "Image paths: ['35/3595924e.jpg', 'ad/ad3447f8.jpg', '9a/9ad22c9a.jpg', 'f0/f0ed3844.jpg', 'e1/e141f503.jpg', 'ee/ee3098f9.jpg']\n",
      "Generating VQA for image: 35/3595924e.jpg\n",
      "Generating VQA for image: ad/ad3447f8.jpg\n",
      "Generating VQA for image: 9a/9ad22c9a.jpg\n",
      "Generating VQA for image: f0/f0ed3844.jpg\n",
      "Generating VQA for image: e1/e141f503.jpg\n",
      "Generating VQA for image: ee/ee3098f9.jpg\n"
     ]
    },
    {
     "name": "stderr",
     "output_type": "stream",
     "text": [
      "\r  1%|▏         | 118/8132 [14:13<19:12:30,  8.63s/it]"
     ]
    },
    {
     "name": "stdout",
     "output_type": "stream",
     "text": [
      "Image paths: ['96/9678f8cf.jpg', '71/7154fd40.jpg', '49/49b1b22b.jpg', '66/66f3a68c.jpg', 'ee/ee8ee952.jpg']\n",
      "Generating VQA for image: 96/9678f8cf.jpg\n",
      "Generating VQA for image: 71/7154fd40.jpg\n",
      "Generating VQA for image: 49/49b1b22b.jpg\n",
      "Generating VQA for image: 66/66f3a68c.jpg\n",
      "Generating VQA for image: ee/ee8ee952.jpg\n"
     ]
    },
    {
     "name": "stderr",
     "output_type": "stream",
     "text": [
      "\r  1%|▏         | 119/8132 [14:22<19:32:10,  8.78s/it]"
     ]
    },
    {
     "name": "stdout",
     "output_type": "stream",
     "text": [
      "Image paths: ['38/387c8728.jpg', '9e/9e11d1c8.jpg', '0a/0ac7f95c.jpg', '0f/0f96bb06.jpg', 'fb/fbdd0cd4.jpg', '0a/0a257b10.jpg']\n",
      "Generating VQA for image: 38/387c8728.jpg\n",
      "Generating VQA for image: 9e/9e11d1c8.jpg\n",
      "Generating VQA for image: 0a/0ac7f95c.jpg\n",
      "Generating VQA for image: 0f/0f96bb06.jpg\n",
      "Generating VQA for image: fb/fbdd0cd4.jpg\n",
      "Generating VQA for image: 0a/0a257b10.jpg\n"
     ]
    },
    {
     "name": "stderr",
     "output_type": "stream",
     "text": [
      "\r  2%|▏         | 124/8132 [14:33<9:38:05,  4.33s/it] "
     ]
    },
    {
     "name": "stdout",
     "output_type": "stream",
     "text": [
      "Image paths: ['d6/d6214a6e.jpg', 'ee/ee8ee952.jpg', '49/49b1b22b.jpg', '02/02351bee.jpg', '66/66f3a68c.jpg']\n",
      "Generating VQA for image: d6/d6214a6e.jpg\n",
      "Generating VQA for image: ee/ee8ee952.jpg\n",
      "Generating VQA for image: 49/49b1b22b.jpg\n",
      "Generating VQA for image: 02/02351bee.jpg\n",
      "Generating VQA for image: 66/66f3a68c.jpg\n"
     ]
    },
    {
     "name": "stderr",
     "output_type": "stream",
     "text": [
      "\r  2%|▏         | 125/8132 [14:46<12:33:18,  5.64s/it]"
     ]
    },
    {
     "name": "stdout",
     "output_type": "stream",
     "text": [
      "Image paths: ['6a/6a5a6954.jpg', '92/920709f0.jpg', '0c/0c2e6e8a.jpg', 'cc/cc1558f5.jpg', '38/387b195d.jpg', '83/83723f29.jpg', 'fc/fc1d8674.jpg', '04/04b93a85.jpg']\n",
      "Generating VQA for image: 6a/6a5a6954.jpg\n",
      "Generating VQA for image: 92/920709f0.jpg\n",
      "Generating VQA for image: 0c/0c2e6e8a.jpg\n",
      "Generating VQA for image: cc/cc1558f5.jpg\n",
      "Generating VQA for image: 38/387b195d.jpg\n",
      "Generating VQA for image: 83/83723f29.jpg\n",
      "Generating VQA for image: fc/fc1d8674.jpg\n",
      "Generating VQA for image: 04/04b93a85.jpg\n"
     ]
    },
    {
     "name": "stderr",
     "output_type": "stream",
     "text": [
      "\r  2%|▏         | 127/8132 [15:00<13:44:47,  6.18s/it]"
     ]
    },
    {
     "name": "stdout",
     "output_type": "stream",
     "text": [
      "Image paths: ['51/51701a4c.jpg', 'ee/ee8ee952.jpg', '49/49b1b22b.jpg', '66/66f3a68c.jpg', '36/368a3950.jpg']\n",
      "Generating VQA for image: 51/51701a4c.jpg\n",
      "Generating VQA for image: ee/ee8ee952.jpg\n",
      "Generating VQA for image: 49/49b1b22b.jpg\n",
      "Generating VQA for image: 66/66f3a68c.jpg\n",
      "Generating VQA for image: 36/368a3950.jpg\n"
     ]
    },
    {
     "name": "stderr",
     "output_type": "stream",
     "text": [
      "\r  2%|▏         | 128/8132 [15:09<14:37:20,  6.58s/it]"
     ]
    },
    {
     "name": "stdout",
     "output_type": "stream",
     "text": [
      "Image paths: ['96/9628b545.jpg', '93/932f9938.jpg', '45/45494b85.jpg', '0f/0f235d8c.jpg', 'e1/e12801ae.jpg', '7b/7b4b20a5.jpg', '3c/3c6ffd31.jpg']\n",
      "Generating VQA for image: 96/9628b545.jpg\n",
      "Generating VQA for image: 93/932f9938.jpg\n",
      "Generating VQA for image: 45/45494b85.jpg\n",
      "Generating VQA for image: 0f/0f235d8c.jpg\n",
      "Generating VQA for image: e1/e12801ae.jpg\n",
      "Generating VQA for image: 7b/7b4b20a5.jpg\n",
      "Generating VQA for image: 3c/3c6ffd31.jpg\n"
     ]
    },
    {
     "name": "stderr",
     "output_type": "stream",
     "text": [
      "\r  2%|▏         | 129/8132 [15:22<17:46:22,  7.99s/it]"
     ]
    },
    {
     "name": "stdout",
     "output_type": "stream",
     "text": [
      "Image paths: ['ac/ac70d0ac.jpg', '2f/2f357c87.jpg', '85/85192c70.jpg']\n",
      "Generating VQA for image: ac/ac70d0ac.jpg\n",
      "Generating VQA for image: 2f/2f357c87.jpg\n",
      "Generating VQA for image: 85/85192c70.jpg\n"
     ]
    },
    {
     "name": "stderr",
     "output_type": "stream",
     "text": [
      "\r  2%|▏         | 130/8132 [15:28<16:35:17,  7.46s/it]"
     ]
    },
    {
     "name": "stdout",
     "output_type": "stream",
     "text": [
      "Image paths: ['58/587754f7.jpg', '2f/2f357c87.jpg', '85/85192c70.jpg']\n",
      "Generating VQA for image: 58/587754f7.jpg\n",
      "Generating VQA for image: 2f/2f357c87.jpg\n",
      "Generating VQA for image: 85/85192c70.jpg\n"
     ]
    },
    {
     "name": "stderr",
     "output_type": "stream",
     "text": [
      "\r  2%|▏         | 132/8132 [15:34<12:37:36,  5.68s/it]"
     ]
    },
    {
     "name": "stdout",
     "output_type": "stream",
     "text": [
      "Image paths: ['ce/ce90a5c9.jpg', 'ff/ff60b147.jpg', 'de/de20646a.jpg', '3d/3d92271a.jpg']\n",
      "Generating VQA for image: ce/ce90a5c9.jpg\n",
      "Generating VQA for image: ff/ff60b147.jpg\n",
      "Generating VQA for image: de/de20646a.jpg\n",
      "Generating VQA for image: 3d/3d92271a.jpg\n"
     ]
    },
    {
     "name": "stderr",
     "output_type": "stream",
     "text": [
      "\r  2%|▏         | 133/8132 [15:43<14:19:38,  6.45s/it]"
     ]
    },
    {
     "name": "stdout",
     "output_type": "stream",
     "text": [
      "Image paths: ['b9/b978496b.jpg', '76/760c6a50.jpg', '85/85e0f579.jpg', '87/87dfb91d.jpg']\n",
      "Generating VQA for image: b9/b978496b.jpg\n",
      "Generating VQA for image: 76/760c6a50.jpg\n",
      "Generating VQA for image: 85/85e0f579.jpg\n",
      "Generating VQA for image: 87/87dfb91d.jpg\n"
     ]
    },
    {
     "name": "stderr",
     "output_type": "stream",
     "text": [
      "\r  2%|▏         | 134/8132 [15:51<15:09:03,  6.82s/it]"
     ]
    },
    {
     "name": "stdout",
     "output_type": "stream",
     "text": [
      "Image paths: ['b5/b50aaddf.jpg', 'ec/ec476420.jpg', 'a0/a0dab2a5.jpg', 'c9/c9de9e6d.jpg', 'a9/a99b2991.jpg', '30/3074fd94.jpg', '2a/2affe3e5.jpg']\n",
      "Generating VQA for image: b5/b50aaddf.jpg\n",
      "Generating VQA for image: ec/ec476420.jpg\n",
      "Generating VQA for image: a0/a0dab2a5.jpg\n",
      "Generating VQA for image: c9/c9de9e6d.jpg\n",
      "Generating VQA for image: a9/a99b2991.jpg\n",
      "Generating VQA for image: 30/3074fd94.jpg\n",
      "Generating VQA for image: 2a/2affe3e5.jpg\n"
     ]
    },
    {
     "name": "stderr",
     "output_type": "stream",
     "text": [
      "\r  2%|▏         | 135/8132 [16:05<19:09:15,  8.62s/it]"
     ]
    },
    {
     "name": "stdout",
     "output_type": "stream",
     "text": [
      "Image paths: ['63/63d1df3e.jpg', '2f/2f357c87.jpg', '85/85192c70.jpg']\n",
      "Generating VQA for image: 63/63d1df3e.jpg\n",
      "Generating VQA for image: 2f/2f357c87.jpg\n",
      "Generating VQA for image: 85/85192c70.jpg\n"
     ]
    },
    {
     "name": "stderr",
     "output_type": "stream",
     "text": [
      "\r  2%|▏         | 136/8132 [16:10<17:24:12,  7.84s/it]"
     ]
    },
    {
     "name": "stdout",
     "output_type": "stream",
     "text": [
      "Image paths: ['89/8944eb3a.jpg', '2f/2f357c87.jpg', '85/85192c70.jpg']\n",
      "Generating VQA for image: 89/8944eb3a.jpg\n",
      "Generating VQA for image: 2f/2f357c87.jpg\n",
      "Generating VQA for image: 85/85192c70.jpg\n"
     ]
    },
    {
     "name": "stderr",
     "output_type": "stream",
     "text": [
      "\r  2%|▏         | 137/8132 [16:16<16:13:34,  7.31s/it]"
     ]
    },
    {
     "name": "stdout",
     "output_type": "stream",
     "text": [
      "Image paths: ['bf/bf1de2ec.jpg', 'a8/a81eb9b7.jpg', 'c1/c1a5b4be.jpg', '7d/7d80988c.jpg', '04/04fbca65.jpg']\n",
      "Generating VQA for image: bf/bf1de2ec.jpg\n",
      "Generating VQA for image: a8/a81eb9b7.jpg\n",
      "Generating VQA for image: c1/c1a5b4be.jpg\n",
      "Generating VQA for image: 7d/7d80988c.jpg\n",
      "Generating VQA for image: 04/04fbca65.jpg\n"
     ]
    },
    {
     "name": "stderr",
     "output_type": "stream",
     "text": [
      "\r  2%|▏         | 138/8132 [16:26<17:55:27,  8.07s/it]"
     ]
    },
    {
     "name": "stdout",
     "output_type": "stream",
     "text": [
      "Image paths: ['b9/b9a64784.jpg']\n",
      "Generating VQA for image: b9/b9a64784.jpg\n"
     ]
    },
    {
     "name": "stderr",
     "output_type": "stream",
     "text": [
      "\r  2%|▏         | 139/8132 [16:28<13:52:54,  6.25s/it]"
     ]
    },
    {
     "name": "stdout",
     "output_type": "stream",
     "text": [
      "Image paths: ['e7/e761f3de.jpg', 'cc/cc566b33.jpg', 'd5/d56298cc.jpg', 'b3/b3df5887.jpg', '01/01b16e09.jpg', '8b/8b99dee7.jpg']\n",
      "Generating VQA for image: e7/e761f3de.jpg\n",
      "Generating VQA for image: cc/cc566b33.jpg\n",
      "Generating VQA for image: d5/d56298cc.jpg\n",
      "Generating VQA for image: b3/b3df5887.jpg\n",
      "Generating VQA for image: 01/01b16e09.jpg\n",
      "Generating VQA for image: 8b/8b99dee7.jpg\n"
     ]
    },
    {
     "name": "stderr",
     "output_type": "stream",
     "text": [
      "\r  2%|▏         | 140/8132 [16:39<16:51:47,  7.60s/it]"
     ]
    },
    {
     "name": "stdout",
     "output_type": "stream",
     "text": [
      "Image paths: ['e1/e1d0ca0c.jpg', 'ee/ee8ee952.jpg', '49/49b1b22b.jpg', '66/66f3a68c.jpg', '95/95b65b6e.jpg']\n",
      "Generating VQA for image: e1/e1d0ca0c.jpg\n",
      "Generating VQA for image: ee/ee8ee952.jpg\n",
      "Generating VQA for image: 49/49b1b22b.jpg\n",
      "Generating VQA for image: 66/66f3a68c.jpg\n",
      "Generating VQA for image: 95/95b65b6e.jpg\n"
     ]
    },
    {
     "name": "stderr",
     "output_type": "stream",
     "text": [
      "\r  2%|▏         | 142/8132 [16:49<14:07:07,  6.36s/it]"
     ]
    },
    {
     "name": "stdout",
     "output_type": "stream",
     "text": [
      "Image paths: ['8b/8b22af49.jpg', 'ee/ee8ee952.jpg', 'bb/bb09549d.jpg', '66/66f3a68c.jpg', '49/49b1b22b.jpg']\n",
      "Generating VQA for image: 8b/8b22af49.jpg\n",
      "Generating VQA for image: ee/ee8ee952.jpg\n",
      "Generating VQA for image: bb/bb09549d.jpg\n",
      "Generating VQA for image: 66/66f3a68c.jpg\n",
      "Generating VQA for image: 49/49b1b22b.jpg\n"
     ]
    },
    {
     "name": "stderr",
     "output_type": "stream",
     "text": [
      "\r  2%|▏         | 143/8132 [16:58<15:30:12,  6.99s/it]"
     ]
    },
    {
     "name": "stdout",
     "output_type": "stream",
     "text": [
      "Image paths: ['f8/f8885b71.jpg', '2f/2f357c87.jpg', '85/85192c70.jpg']\n",
      "Generating VQA for image: f8/f8885b71.jpg\n",
      "Generating VQA for image: 2f/2f357c87.jpg\n",
      "Generating VQA for image: 85/85192c70.jpg\n"
     ]
    },
    {
     "name": "stderr",
     "output_type": "stream",
     "text": [
      "\r  2%|▏         | 144/8132 [17:03<14:47:07,  6.66s/it]"
     ]
    },
    {
     "name": "stdout",
     "output_type": "stream",
     "text": [
      "Image paths: ['1a/1a82adfa.jpg', '47/47f0c738.jpg', '9f/9f6f86ac.jpg', 'd8/d89025e7.jpg']\n",
      "Generating VQA for image: 1a/1a82adfa.jpg\n",
      "Generating VQA for image: 47/47f0c738.jpg\n",
      "Generating VQA for image: 9f/9f6f86ac.jpg\n",
      "Generating VQA for image: d8/d89025e7.jpg\n"
     ]
    },
    {
     "name": "stderr",
     "output_type": "stream",
     "text": [
      "\r  2%|▏         | 145/8132 [17:11<15:05:46,  6.80s/it]"
     ]
    },
    {
     "name": "stdout",
     "output_type": "stream",
     "text": [
      "Image paths: ['39/39915ff5.jpg', '2f/2f357c87.jpg', '85/85192c70.jpg']\n",
      "Generating VQA for image: 39/39915ff5.jpg\n",
      "Generating VQA for image: 2f/2f357c87.jpg\n",
      "Generating VQA for image: 85/85192c70.jpg\n"
     ]
    },
    {
     "name": "stderr",
     "output_type": "stream",
     "text": [
      "\r  2%|▏         | 147/8132 [17:16<11:13:51,  5.06s/it]"
     ]
    },
    {
     "name": "stdout",
     "output_type": "stream",
     "text": [
      "Image paths: ['6b/6b98edab.jpg', '05/05067f66.jpg', '60/60113f53.jpg', 'c0/c029b3a8.jpg', '43/4346e39f.jpg']\n",
      "Generating VQA for image: 6b/6b98edab.jpg\n",
      "Generating VQA for image: 05/05067f66.jpg\n",
      "Generating VQA for image: 60/60113f53.jpg\n",
      "Generating VQA for image: c0/c029b3a8.jpg\n",
      "Generating VQA for image: 43/4346e39f.jpg\n"
     ]
    },
    {
     "name": "stderr",
     "output_type": "stream",
     "text": [
      "\r  2%|▏         | 148/8132 [17:25<12:57:18,  5.84s/it]"
     ]
    },
    {
     "name": "stdout",
     "output_type": "stream",
     "text": [
      "Image paths: ['07/07b128cb.jpg', '05/05c13903.jpg', 'ae/ae097016.jpg', '81/812cc21e.jpg', '58/58f9f4d7.jpg', '43/439b411a.jpg', '73/73be9006.jpg', '4b/4b92983b.jpg', '4b/4b65bf41.jpg']\n",
      "Generating VQA for image: 07/07b128cb.jpg\n",
      "Generating VQA for image: 05/05c13903.jpg\n",
      "Generating VQA for image: ae/ae097016.jpg\n",
      "Generating VQA for image: 81/812cc21e.jpg\n",
      "Generating VQA for image: 58/58f9f4d7.jpg\n",
      "Generating VQA for image: 43/439b411a.jpg\n",
      "Generating VQA for image: 73/73be9006.jpg\n",
      "Generating VQA for image: 4b/4b92983b.jpg\n",
      "Generating VQA for image: 4b/4b65bf41.jpg\n"
     ]
    },
    {
     "name": "stderr",
     "output_type": "stream",
     "text": [
      "\r  2%|▏         | 149/8132 [17:41<18:47:30,  8.47s/it]"
     ]
    },
    {
     "name": "stdout",
     "output_type": "stream",
     "text": [
      "Image paths: ['a6/a66846ad.jpg', 'd8/d87e51cf.jpg', '80/80d0405a.jpg', '36/36cae1bf.jpg', '2a/2af5eb88.jpg']\n",
      "Generating VQA for image: a6/a66846ad.jpg\n",
      "Generating VQA for image: d8/d87e51cf.jpg\n",
      "Generating VQA for image: 80/80d0405a.jpg\n",
      "Generating VQA for image: 36/36cae1bf.jpg\n",
      "Generating VQA for image: 2a/2af5eb88.jpg\n"
     ]
    },
    {
     "name": "stderr",
     "output_type": "stream",
     "text": [
      "\r  2%|▏         | 151/8132 [17:50<14:59:20,  6.76s/it]"
     ]
    },
    {
     "name": "stdout",
     "output_type": "stream",
     "text": [
      "Image paths: ['53/53eab53e.jpg', 'be/be341e36.jpg', '49/49b1b22b.jpg', '66/66f3a68c.jpg', 'ee/ee8ee952.jpg']\n",
      "Generating VQA for image: 53/53eab53e.jpg\n",
      "Generating VQA for image: be/be341e36.jpg\n",
      "Generating VQA for image: 49/49b1b22b.jpg\n",
      "Generating VQA for image: 66/66f3a68c.jpg\n",
      "Generating VQA for image: ee/ee8ee952.jpg\n"
     ]
    },
    {
     "name": "stderr",
     "output_type": "stream",
     "text": [
      "\r  2%|▏         | 152/8132 [17:58<15:58:03,  7.20s/it]"
     ]
    },
    {
     "name": "stdout",
     "output_type": "stream",
     "text": [
      "Image paths: ['7a/7a56b170.jpg', 'ee/ee8ee952.jpg', '49/49b1b22b.jpg', '66/66f3a68c.jpg', 'e4/e4a5e93d.jpg']\n",
      "Generating VQA for image: 7a/7a56b170.jpg\n",
      "Generating VQA for image: ee/ee8ee952.jpg\n",
      "Generating VQA for image: 49/49b1b22b.jpg\n",
      "Generating VQA for image: 66/66f3a68c.jpg\n",
      "Generating VQA for image: e4/e4a5e93d.jpg\n"
     ]
    },
    {
     "name": "stderr",
     "output_type": "stream",
     "text": [
      "\r  2%|▏         | 153/8132 [18:07<16:45:57,  7.56s/it]"
     ]
    },
    {
     "name": "stdout",
     "output_type": "stream",
     "text": [
      "Image paths: ['44/44ce0a27.jpg', 'ee/ee8ee952.jpg', '49/49b1b22b.jpg', '66/66f3a68c.jpg', 'bc/bc6ad687.jpg']\n",
      "Generating VQA for image: 44/44ce0a27.jpg\n",
      "Generating VQA for image: ee/ee8ee952.jpg\n",
      "Generating VQA for image: 49/49b1b22b.jpg\n",
      "Generating VQA for image: 66/66f3a68c.jpg\n",
      "Generating VQA for image: bc/bc6ad687.jpg\n"
     ]
    },
    {
     "name": "stderr",
     "output_type": "stream",
     "text": [
      "\r  2%|▏         | 154/8132 [18:15<16:52:30,  7.61s/it]"
     ]
    },
    {
     "name": "stdout",
     "output_type": "stream",
     "text": [
      "Image paths: ['ae/aed8530f.jpg', 'ee/ee8ee952.jpg', '49/49b1b22b.jpg', '66/66f3a68c.jpg', '76/769f26d2.jpg']\n",
      "Generating VQA for image: ae/aed8530f.jpg\n",
      "Generating VQA for image: ee/ee8ee952.jpg\n",
      "Generating VQA for image: 49/49b1b22b.jpg\n",
      "Generating VQA for image: 66/66f3a68c.jpg\n",
      "Generating VQA for image: 76/769f26d2.jpg\n"
     ]
    },
    {
     "name": "stderr",
     "output_type": "stream",
     "text": [
      "\r  2%|▏         | 158/8132 [18:23<9:37:19,  4.34s/it] "
     ]
    },
    {
     "name": "stdout",
     "output_type": "stream",
     "text": [
      "Image paths: ['39/39826f9c.jpg', 'ee/ee8ee952.jpg', '49/49b1b22b.jpg', '66/66f3a68c.jpg', 'dd/dd177def.jpg']\n",
      "Generating VQA for image: 39/39826f9c.jpg\n",
      "Generating VQA for image: ee/ee8ee952.jpg\n",
      "Generating VQA for image: 49/49b1b22b.jpg\n",
      "Generating VQA for image: 66/66f3a68c.jpg\n",
      "Generating VQA for image: dd/dd177def.jpg\n"
     ]
    },
    {
     "name": "stderr",
     "output_type": "stream",
     "text": [
      "\r  2%|▏         | 160/8132 [18:32<9:30:37,  4.29s/it]"
     ]
    },
    {
     "name": "stdout",
     "output_type": "stream",
     "text": [
      "Image paths: ['c3/c33c89c3.jpg', '2f/2f357c87.jpg', '85/85192c70.jpg']\n",
      "Generating VQA for image: c3/c33c89c3.jpg\n",
      "Generating VQA for image: 2f/2f357c87.jpg\n",
      "Generating VQA for image: 85/85192c70.jpg\n"
     ]
    },
    {
     "name": "stderr",
     "output_type": "stream",
     "text": [
      "\r  2%|▏         | 161/8132 [18:38<10:10:04,  4.59s/it]"
     ]
    },
    {
     "name": "stdout",
     "output_type": "stream",
     "text": [
      "Image paths: ['19/1910d027.jpg', 'ee/ee8ee952.jpg', '49/49b1b22b.jpg', 'e2/e249899e.jpg', '66/66f3a68c.jpg']\n",
      "Generating VQA for image: 19/1910d027.jpg\n",
      "Generating VQA for image: ee/ee8ee952.jpg\n",
      "Generating VQA for image: 49/49b1b22b.jpg\n",
      "Generating VQA for image: e2/e249899e.jpg\n",
      "Generating VQA for image: 66/66f3a68c.jpg\n"
     ]
    },
    {
     "name": "stderr",
     "output_type": "stream",
     "text": [
      "\r  2%|▏         | 162/8132 [18:47<12:10:14,  5.50s/it]"
     ]
    },
    {
     "name": "stdout",
     "output_type": "stream",
     "text": [
      "Image paths: ['85/853801f0.jpg', '2f/2f357c87.jpg', '85/85192c70.jpg']\n",
      "Generating VQA for image: 85/853801f0.jpg\n",
      "Generating VQA for image: 2f/2f357c87.jpg\n",
      "Generating VQA for image: 85/85192c70.jpg\n"
     ]
    },
    {
     "name": "stderr",
     "output_type": "stream",
     "text": [
      "\r  2%|▏         | 163/8132 [18:53<12:26:56,  5.62s/it]"
     ]
    },
    {
     "name": "stdout",
     "output_type": "stream",
     "text": [
      "Image paths: ['84/846038c6.jpg', 'ee/ee8ee952.jpg', '49/49b1b22b.jpg', '66/66f3a68c.jpg', 'ea/ea374576.jpg']\n",
      "Generating VQA for image: 84/846038c6.jpg\n",
      "Generating VQA for image: ee/ee8ee952.jpg\n",
      "Generating VQA for image: 49/49b1b22b.jpg\n",
      "Generating VQA for image: 66/66f3a68c.jpg\n",
      "Generating VQA for image: ea/ea374576.jpg\n"
     ]
    },
    {
     "name": "stderr",
     "output_type": "stream",
     "text": [
      "\r  2%|▏         | 164/8132 [19:02<14:13:12,  6.42s/it]"
     ]
    },
    {
     "name": "stdout",
     "output_type": "stream",
     "text": [
      "Image paths: ['79/79de119f.jpg', 'd8/d87e51cf.jpg', '2a/2af5eb88.jpg', 'b2/b23d5d8d.jpg', '36/36cae1bf.jpg']\n",
      "Generating VQA for image: 79/79de119f.jpg\n",
      "Generating VQA for image: d8/d87e51cf.jpg\n",
      "Generating VQA for image: 2a/2af5eb88.jpg\n",
      "Generating VQA for image: b2/b23d5d8d.jpg\n",
      "Generating VQA for image: 36/36cae1bf.jpg\n"
     ]
    },
    {
     "name": "stderr",
     "output_type": "stream",
     "text": [
      "\r  2%|▏         | 165/8132 [19:10<15:15:30,  6.89s/it]"
     ]
    },
    {
     "name": "stdout",
     "output_type": "stream",
     "text": [
      "Image paths: ['5a/5af49794.jpg', 'ee/ee8ee952.jpg', '49/49b1b22b.jpg', '66/66f3a68c.jpg', '5a/5a85c3a1.jpg']\n",
      "Generating VQA for image: 5a/5af49794.jpg\n",
      "Generating VQA for image: ee/ee8ee952.jpg\n",
      "Generating VQA for image: 49/49b1b22b.jpg\n",
      "Generating VQA for image: 66/66f3a68c.jpg\n",
      "Generating VQA for image: 5a/5a85c3a1.jpg\n"
     ]
    },
    {
     "name": "stderr",
     "output_type": "stream",
     "text": [
      "\r  2%|▏         | 166/8132 [19:18<16:08:41,  7.30s/it]"
     ]
    },
    {
     "name": "stdout",
     "output_type": "stream",
     "text": [
      "Image paths: ['23/237fe6e7.jpg', 'ee/ee8ee952.jpg', '7f/7fca8e9f.jpg', '66/66f3a68c.jpg', '49/49b1b22b.jpg']\n",
      "Generating VQA for image: 23/237fe6e7.jpg\n",
      "Generating VQA for image: ee/ee8ee952.jpg\n",
      "Generating VQA for image: 7f/7fca8e9f.jpg\n",
      "Generating VQA for image: 66/66f3a68c.jpg\n",
      "Generating VQA for image: 49/49b1b22b.jpg\n"
     ]
    },
    {
     "name": "stderr",
     "output_type": "stream",
     "text": [
      "\r  2%|▏         | 168/8132 [19:27<13:25:44,  6.07s/it]"
     ]
    },
    {
     "name": "stdout",
     "output_type": "stream",
     "text": [
      "Image paths: ['35/3595924e.jpg']\n",
      "Generating VQA for image: 35/3595924e.jpg\n"
     ]
    },
    {
     "name": "stderr",
     "output_type": "stream",
     "text": [
      "\r  2%|▏         | 169/8132 [19:29<11:03:14,  5.00s/it]"
     ]
    },
    {
     "name": "stdout",
     "output_type": "stream",
     "text": [
      "Image paths: ['91/91e6d53c.jpg', '35/35e5accb.jpg', 'b9/b928843b.jpg', '39/39436b9e.jpg', '68/68c693be.jpg']\n",
      "Generating VQA for image: 91/91e6d53c.jpg\n",
      "Generating VQA for image: 35/35e5accb.jpg\n",
      "Generating VQA for image: b9/b928843b.jpg\n",
      "Generating VQA for image: 39/39436b9e.jpg\n",
      "Generating VQA for image: 68/68c693be.jpg\n"
     ]
    },
    {
     "name": "stderr",
     "output_type": "stream",
     "text": [
      "\r  2%|▏         | 171/8132 [19:38<10:35:56,  4.79s/it]"
     ]
    },
    {
     "name": "stdout",
     "output_type": "stream",
     "text": [
      "Image paths: ['13/132005c3.jpg', '2f/2f357c87.jpg', '85/85192c70.jpg']\n",
      "Generating VQA for image: 13/132005c3.jpg\n",
      "Generating VQA for image: 2f/2f357c87.jpg\n",
      "Generating VQA for image: 85/85192c70.jpg\n"
     ]
    },
    {
     "name": "stderr",
     "output_type": "stream",
     "text": [
      "\r  2%|▏         | 173/8132 [19:44<9:15:55,  4.19s/it] "
     ]
    },
    {
     "name": "stdout",
     "output_type": "stream",
     "text": [
      "Image paths: ['d9/d9f4c644.jpg', 'ee/ee8ee952.jpg', '49/49b1b22b.jpg', '66/66f3a68c.jpg', '42/4252767b.jpg']\n",
      "Generating VQA for image: d9/d9f4c644.jpg\n",
      "Generating VQA for image: ee/ee8ee952.jpg\n",
      "Generating VQA for image: 49/49b1b22b.jpg\n",
      "Generating VQA for image: 66/66f3a68c.jpg\n",
      "Generating VQA for image: 42/4252767b.jpg\n"
     ]
    },
    {
     "name": "stderr",
     "output_type": "stream",
     "text": [
      "\r  2%|▏         | 174/8132 [19:53<11:20:57,  5.13s/it]"
     ]
    },
    {
     "name": "stdout",
     "output_type": "stream",
     "text": [
      "Image paths: ['72/72afba1c.jpg', '2f/2f357c87.jpg', '85/85192c70.jpg']\n",
      "Generating VQA for image: 72/72afba1c.jpg\n",
      "Generating VQA for image: 2f/2f357c87.jpg\n",
      "Generating VQA for image: 85/85192c70.jpg\n"
     ]
    },
    {
     "name": "stderr",
     "output_type": "stream",
     "text": [
      "\r  2%|▏         | 175/8132 [19:58<11:35:30,  5.24s/it]"
     ]
    },
    {
     "name": "stdout",
     "output_type": "stream",
     "text": [
      "Image paths: ['c7/c7bcb0e4.jpg', 'ee/ee8ee952.jpg', '49/49b1b22b.jpg', '66/66f3a68c.jpg', 'd2/d28fcfa3.jpg']\n",
      "Generating VQA for image: c7/c7bcb0e4.jpg\n",
      "Generating VQA for image: ee/ee8ee952.jpg\n",
      "Generating VQA for image: 49/49b1b22b.jpg\n",
      "Generating VQA for image: 66/66f3a68c.jpg\n",
      "Generating VQA for image: d2/d28fcfa3.jpg\n"
     ]
    },
    {
     "name": "stderr",
     "output_type": "stream",
     "text": [
      "\r  2%|▏         | 177/8132 [20:07<10:46:37,  4.88s/it]"
     ]
    },
    {
     "name": "stdout",
     "output_type": "stream",
     "text": [
      "Image paths: ['9f/9f1f097c.jpg', '2f/2f357c87.jpg', '85/85192c70.jpg']\n",
      "Generating VQA for image: 9f/9f1f097c.jpg\n",
      "Generating VQA for image: 2f/2f357c87.jpg\n",
      "Generating VQA for image: 85/85192c70.jpg\n"
     ]
    },
    {
     "name": "stderr",
     "output_type": "stream",
     "text": [
      "\r  2%|▏         | 179/8132 [20:13<9:11:36,  4.16s/it] "
     ]
    },
    {
     "name": "stdout",
     "output_type": "stream",
     "text": [
      "Image paths: ['9c/9cdfaf38.jpg', '48/486764cc.jpg', '74/74a8e610.jpg', '21/21a69414.jpg', '2c/2cf22a74.jpg']\n",
      "Generating VQA for image: 9c/9cdfaf38.jpg\n",
      "Generating VQA for image: 48/486764cc.jpg\n",
      "Generating VQA for image: 74/74a8e610.jpg\n",
      "Generating VQA for image: 21/21a69414.jpg\n",
      "Generating VQA for image: 2c/2cf22a74.jpg\n"
     ]
    },
    {
     "name": "stderr",
     "output_type": "stream",
     "text": [
      "\r  2%|▏         | 181/8132 [20:21<9:17:29,  4.21s/it]"
     ]
    },
    {
     "name": "stdout",
     "output_type": "stream",
     "text": [
      "Image paths: ['b7/b76fe4e8.jpg', '67/676b5bd3.jpg', '1c/1cb783f3.jpg', 'df/dfc32dcd.jpg', '6e/6ebb04eb.jpg', 'be/bedf21ef.jpg', 'a5/a5e5dab0.jpg']\n",
      "Generating VQA for image: b7/b76fe4e8.jpg\n",
      "Generating VQA for image: 67/676b5bd3.jpg\n",
      "Generating VQA for image: 1c/1cb783f3.jpg\n",
      "Generating VQA for image: df/dfc32dcd.jpg\n",
      "Generating VQA for image: 6e/6ebb04eb.jpg\n",
      "Generating VQA for image: be/bedf21ef.jpg\n",
      "Generating VQA for image: a5/a5e5dab0.jpg\n"
     ]
    },
    {
     "name": "stderr",
     "output_type": "stream",
     "text": [
      "\r  2%|▏         | 182/8132 [20:35<13:27:41,  6.10s/it]"
     ]
    },
    {
     "name": "stdout",
     "output_type": "stream",
     "text": [
      "Image paths: ['5f/5fd67482.jpg', '1d/1dbcfc05.jpg', 'aa/aadf716d.jpg', 'ee/ee51c4bb.jpg', 'd0/d02e737a.jpg', '3c/3ca13464.jpg', '31/31a7a03d.jpg', '36/36416f86.jpg', 'f9/f905bc38.jpg', '9f/9fd98239.jpg', '98/9803551d.jpg']\n",
      "Generating VQA for image: 5f/5fd67482.jpg\n",
      "Generating VQA for image: 1d/1dbcfc05.jpg\n",
      "Generating VQA for image: aa/aadf716d.jpg\n",
      "Generating VQA for image: ee/ee51c4bb.jpg\n",
      "Generating VQA for image: d0/d02e737a.jpg\n",
      "Generating VQA for image: 3c/3ca13464.jpg\n",
      "Generating VQA for image: 31/31a7a03d.jpg\n",
      "Generating VQA for image: 36/36416f86.jpg\n",
      "Generating VQA for image: f9/f905bc38.jpg\n",
      "Generating VQA for image: 9f/9fd98239.jpg\n",
      "Generating VQA for image: 98/9803551d.jpg\n"
     ]
    },
    {
     "name": "stderr",
     "output_type": "stream",
     "text": [
      "\r  2%|▏         | 183/8132 [20:56<20:42:57,  9.38s/it]"
     ]
    },
    {
     "name": "stdout",
     "output_type": "stream",
     "text": [
      "Image paths: ['b5/b5dd8a7f.jpg', '2f/2f357c87.jpg', '85/85192c70.jpg']\n",
      "Generating VQA for image: b5/b5dd8a7f.jpg\n",
      "Generating VQA for image: 2f/2f357c87.jpg\n",
      "Generating VQA for image: 85/85192c70.jpg\n"
     ]
    },
    {
     "name": "stderr",
     "output_type": "stream",
     "text": [
      "\r  2%|▏         | 184/8132 [21:02<18:54:16,  8.56s/it]"
     ]
    },
    {
     "name": "stdout",
     "output_type": "stream",
     "text": [
      "Image paths: ['74/742ee232.jpg', 'ee/ee8ee952.jpg', '2b/2b6a743d.jpg', '66/66f3a68c.jpg', '49/49b1b22b.jpg']\n",
      "Generating VQA for image: 74/742ee232.jpg\n",
      "Generating VQA for image: ee/ee8ee952.jpg\n",
      "Generating VQA for image: 2b/2b6a743d.jpg\n",
      "Generating VQA for image: 66/66f3a68c.jpg\n",
      "Generating VQA for image: 49/49b1b22b.jpg\n"
     ]
    },
    {
     "name": "stderr",
     "output_type": "stream",
     "text": [
      "\r  2%|▏         | 185/8132 [21:11<19:08:15,  8.67s/it]"
     ]
    },
    {
     "name": "stdout",
     "output_type": "stream",
     "text": [
      "Image paths: ['65/65028ca0.jpg', '83/834ac873.jpg', '49/49b1b22b.jpg', '66/66f3a68c.jpg', 'ee/ee8ee952.jpg']\n",
      "Generating VQA for image: 65/65028ca0.jpg\n",
      "Generating VQA for image: 83/834ac873.jpg\n",
      "Generating VQA for image: 49/49b1b22b.jpg\n",
      "Generating VQA for image: 66/66f3a68c.jpg\n",
      "Generating VQA for image: ee/ee8ee952.jpg\n"
     ]
    },
    {
     "name": "stderr",
     "output_type": "stream",
     "text": [
      "\r  2%|▏         | 186/8132 [21:20<19:13:38,  8.71s/it]"
     ]
    },
    {
     "name": "stdout",
     "output_type": "stream",
     "text": [
      "Image paths: ['e6/e602a9af.jpg', 'cf/cfd004c8.jpg', 'ff/ff81dabb.jpg', '6c/6c2efa57.jpg', '6b/6bceb630.jpg', '56/566812fc.jpg', '5c/5c38d04c.jpg']\n",
      "Generating VQA for image: e6/e602a9af.jpg\n",
      "Generating VQA for image: cf/cfd004c8.jpg\n",
      "Generating VQA for image: ff/ff81dabb.jpg\n",
      "Generating VQA for image: 6c/6c2efa57.jpg\n",
      "Generating VQA for image: 6b/6bceb630.jpg\n",
      "Generating VQA for image: 56/566812fc.jpg\n",
      "Generating VQA for image: 5c/5c38d04c.jpg\n"
     ]
    },
    {
     "name": "stderr",
     "output_type": "stream",
     "text": [
      "\r  2%|▏         | 187/8132 [21:32<21:04:59,  9.55s/it]"
     ]
    },
    {
     "name": "stdout",
     "output_type": "stream",
     "text": [
      "Image paths: ['85/85adc05d.jpg', '2f/2f357c87.jpg', '85/85192c70.jpg']\n",
      "Generating VQA for image: 85/85adc05d.jpg\n",
      "Generating VQA for image: 2f/2f357c87.jpg\n",
      "Generating VQA for image: 85/85192c70.jpg\n"
     ]
    },
    {
     "name": "stderr",
     "output_type": "stream",
     "text": [
      "\r  2%|▏         | 188/8132 [21:38<18:36:56,  8.44s/it]"
     ]
    },
    {
     "name": "stdout",
     "output_type": "stream",
     "text": [
      "Image paths: ['c9/c9fcecc0.jpg', 'a1/a18ba13d.jpg', '2d/2dea2250.jpg', 'd2/d22d093c.jpg', 'c7/c7dd4009.jpg', '97/97a5eed6.jpg']\n",
      "Generating VQA for image: c9/c9fcecc0.jpg\n",
      "Generating VQA for image: a1/a18ba13d.jpg\n",
      "Generating VQA for image: 2d/2dea2250.jpg\n",
      "Generating VQA for image: d2/d22d093c.jpg\n",
      "Generating VQA for image: c7/c7dd4009.jpg\n",
      "Generating VQA for image: 97/97a5eed6.jpg\n"
     ]
    },
    {
     "name": "stderr",
     "output_type": "stream",
     "text": [
      "\r  2%|▏         | 189/8132 [21:52<22:09:31, 10.04s/it]"
     ]
    },
    {
     "name": "stdout",
     "output_type": "stream",
     "text": [
      "Image paths: ['f8/f8da1480.jpg', '2f/2f357c87.jpg', '85/85192c70.jpg']\n",
      "Generating VQA for image: f8/f8da1480.jpg\n",
      "Generating VQA for image: 2f/2f357c87.jpg\n",
      "Generating VQA for image: 85/85192c70.jpg\n"
     ]
    },
    {
     "name": "stderr",
     "output_type": "stream",
     "text": [
      "\r  2%|▏         | 190/8132 [21:58<19:29:16,  8.83s/it]"
     ]
    },
    {
     "name": "stdout",
     "output_type": "stream",
     "text": [
      "Image paths: ['d1/d1358088.jpg', 'ee/ee8ee952.jpg', '49/49b1b22b.jpg', '66/66f3a68c.jpg', '32/3248b377.jpg']\n",
      "Generating VQA for image: d1/d1358088.jpg\n",
      "Generating VQA for image: ee/ee8ee952.jpg\n",
      "Generating VQA for image: 49/49b1b22b.jpg\n",
      "Generating VQA for image: 66/66f3a68c.jpg\n",
      "Generating VQA for image: 32/3248b377.jpg\n"
     ]
    },
    {
     "name": "stderr",
     "output_type": "stream",
     "text": [
      "\r  2%|▏         | 191/8132 [22:07<19:42:53,  8.94s/it]"
     ]
    },
    {
     "name": "stdout",
     "output_type": "stream",
     "text": [
      "Image paths: ['ff/ffdda28f.jpg', '6a/6a7b00f6.jpg', 'a0/a0c6acaa.jpg', '54/5464b23b.jpg', 'ec/ec4eb7b0.jpg']\n",
      "Generating VQA for image: ff/ffdda28f.jpg\n",
      "Generating VQA for image: 6a/6a7b00f6.jpg\n",
      "Generating VQA for image: a0/a0c6acaa.jpg\n",
      "Generating VQA for image: 54/5464b23b.jpg\n",
      "Generating VQA for image: ec/ec4eb7b0.jpg\n"
     ]
    },
    {
     "name": "stderr",
     "output_type": "stream",
     "text": [
      "\r  2%|▏         | 192/8132 [22:16<19:41:44,  8.93s/it]"
     ]
    },
    {
     "name": "stdout",
     "output_type": "stream",
     "text": [
      "Image paths: ['08/08a6e6a9.jpg', '47/47f0c738.jpg', '9f/9f6f86ac.jpg', 'd8/d89025e7.jpg']\n",
      "Generating VQA for image: 08/08a6e6a9.jpg\n",
      "Generating VQA for image: 47/47f0c738.jpg\n",
      "Generating VQA for image: 9f/9f6f86ac.jpg\n",
      "Generating VQA for image: d8/d89025e7.jpg\n"
     ]
    },
    {
     "name": "stderr",
     "output_type": "stream",
     "text": [
      "\r  2%|▏         | 193/8132 [22:23<18:23:31,  8.34s/it]"
     ]
    },
    {
     "name": "stdout",
     "output_type": "stream",
     "text": [
      "Image paths: ['90/90d681de.jpg']\n",
      "Generating VQA for image: 90/90d681de.jpg\n"
     ]
    },
    {
     "name": "stderr",
     "output_type": "stream",
     "text": [
      "\r  2%|▏         | 194/8132 [22:24<14:08:02,  6.41s/it]"
     ]
    },
    {
     "name": "stdout",
     "output_type": "stream",
     "text": [
      "Image paths: ['0e/0e2a1774.jpg', 'ee/ee8ee952.jpg', '2c/2c3c2c80.jpg', '66/66f3a68c.jpg', '49/49b1b22b.jpg']\n",
      "Generating VQA for image: 0e/0e2a1774.jpg\n",
      "Generating VQA for image: ee/ee8ee952.jpg\n",
      "Generating VQA for image: 2c/2c3c2c80.jpg\n",
      "Generating VQA for image: 66/66f3a68c.jpg\n",
      "Generating VQA for image: 49/49b1b22b.jpg\n"
     ]
    },
    {
     "name": "stderr",
     "output_type": "stream",
     "text": [
      "\r  2%|▏         | 196/8132 [22:33<12:04:50,  5.48s/it]"
     ]
    },
    {
     "name": "stdout",
     "output_type": "stream",
     "text": [
      "Image paths: ['7d/7d0a761e.jpg', '2a/2a1702a4.jpg', '09/09cb06af.jpg']\n",
      "Generating VQA for image: 7d/7d0a761e.jpg\n",
      "Generating VQA for image: 2a/2a1702a4.jpg\n",
      "Generating VQA for image: 09/09cb06af.jpg\n"
     ]
    },
    {
     "name": "stderr",
     "output_type": "stream",
     "text": [
      "\r  2%|▏         | 197/8132 [22:38<11:55:32,  5.41s/it]"
     ]
    },
    {
     "name": "stdout",
     "output_type": "stream",
     "text": [
      "Image paths: ['10/10d0c5f4.jpg', 'e2/e252ded9.jpg', 'cc/cc8d8f10.jpg', '23/23c1d8d2.jpg', '4b/4bda7055.jpg']\n",
      "Generating VQA for image: 10/10d0c5f4.jpg\n",
      "Generating VQA for image: e2/e252ded9.jpg\n",
      "Generating VQA for image: cc/cc8d8f10.jpg\n",
      "Generating VQA for image: 23/23c1d8d2.jpg\n",
      "Generating VQA for image: 4b/4bda7055.jpg\n"
     ]
    },
    {
     "name": "stderr",
     "output_type": "stream",
     "text": [
      "\r  2%|▏         | 199/8132 [22:47<10:45:38,  4.88s/it]"
     ]
    },
    {
     "name": "stdout",
     "output_type": "stream",
     "text": [
      "Image paths: ['d0/d040cc58.jpg']\n",
      "Generating VQA for image: d0/d040cc58.jpg\n"
     ]
    },
    {
     "name": "stderr",
     "output_type": "stream",
     "text": [
      "\r  2%|▏         | 200/8132 [22:49<9:19:00,  4.23s/it] "
     ]
    },
    {
     "name": "stdout",
     "output_type": "stream",
     "text": [
      "Image paths: ['85/85ed2288.jpg', '2f/2f357c87.jpg', '85/85192c70.jpg']\n",
      "Generating VQA for image: 85/85ed2288.jpg\n",
      "Generating VQA for image: 2f/2f357c87.jpg\n",
      "Generating VQA for image: 85/85192c70.jpg\n"
     ]
    },
    {
     "name": "stderr",
     "output_type": "stream",
     "text": [
      "\r  2%|▏         | 202/8132 [22:54<8:05:38,  3.67s/it]"
     ]
    },
    {
     "name": "stdout",
     "output_type": "stream",
     "text": [
      "Image paths: ['ff/ff3977c5.jpg', 'c8/c88b7d96.jpg', 'bf/bff92adc.jpg', '6e/6e4d833a.jpg', '17/17b1f35f.jpg', '9a/9a2ecdff.jpg', '2f/2f6e0557.jpg', 'e4/e4db5a2a.jpg', '46/461b0577.jpg']\n",
      "Generating VQA for image: ff/ff3977c5.jpg\n",
      "Generating VQA for image: c8/c88b7d96.jpg\n",
      "Generating VQA for image: bf/bff92adc.jpg\n",
      "Generating VQA for image: 6e/6e4d833a.jpg\n",
      "Generating VQA for image: 17/17b1f35f.jpg\n",
      "Generating VQA for image: 9a/9a2ecdff.jpg\n",
      "Generating VQA for image: 2f/2f6e0557.jpg\n",
      "Generating VQA for image: e4/e4db5a2a.jpg\n",
      "Generating VQA for image: 46/461b0577.jpg\n"
     ]
    },
    {
     "name": "stderr",
     "output_type": "stream",
     "text": [
      "\r  3%|▎         | 204/8132 [23:12<12:04:41,  5.48s/it]"
     ]
    },
    {
     "name": "stdout",
     "output_type": "stream",
     "text": [
      "Image paths: ['bc/bc76d581.jpg', '07/073835f5.jpg', '96/96f44487.jpg', 'b1/b1f2edc2.jpg', 'ed/ed817872.jpg']\n",
      "Generating VQA for image: bc/bc76d581.jpg\n",
      "Generating VQA for image: 07/073835f5.jpg\n",
      "Generating VQA for image: 96/96f44487.jpg\n",
      "Generating VQA for image: b1/b1f2edc2.jpg\n",
      "Generating VQA for image: ed/ed817872.jpg\n"
     ]
    },
    {
     "name": "stderr",
     "output_type": "stream",
     "text": [
      "\r  3%|▎         | 205/8132 [23:21<13:50:10,  6.28s/it]"
     ]
    },
    {
     "name": "stdout",
     "output_type": "stream",
     "text": [
      "Image paths: ['37/370915ef.jpg', 'ee/ee8ee952.jpg', '49/49b1b22b.jpg', '66/66f3a68c.jpg', 'b6/b66f7455.jpg']\n",
      "Generating VQA for image: 37/370915ef.jpg\n",
      "Generating VQA for image: ee/ee8ee952.jpg\n",
      "Generating VQA for image: 49/49b1b22b.jpg\n",
      "Generating VQA for image: 66/66f3a68c.jpg\n",
      "Generating VQA for image: b6/b66f7455.jpg\n"
     ]
    },
    {
     "name": "stderr",
     "output_type": "stream",
     "text": [
      "\r  3%|▎         | 206/8132 [23:30<15:00:36,  6.82s/it]"
     ]
    },
    {
     "name": "stdout",
     "output_type": "stream",
     "text": [
      "Image paths: ['7a/7a422211.jpg']\n",
      "Generating VQA for image: 7a/7a422211.jpg\n"
     ]
    },
    {
     "name": "stderr",
     "output_type": "stream",
     "text": [
      "\r  3%|▎         | 207/8132 [23:32<12:18:24,  5.59s/it]"
     ]
    },
    {
     "name": "stdout",
     "output_type": "stream",
     "text": [
      "Image paths: ['98/98f7e507.jpg', 'ee/ee8ee952.jpg', '49/49b1b22b.jpg', '66/66f3a68c.jpg', '5c/5ced1934.jpg']\n",
      "Generating VQA for image: 98/98f7e507.jpg\n",
      "Generating VQA for image: ee/ee8ee952.jpg\n",
      "Generating VQA for image: 49/49b1b22b.jpg\n",
      "Generating VQA for image: 66/66f3a68c.jpg\n",
      "Generating VQA for image: 5c/5ced1934.jpg\n"
     ]
    },
    {
     "name": "stderr",
     "output_type": "stream",
     "text": [
      "\r  3%|▎         | 208/8132 [23:41<14:20:49,  6.52s/it]"
     ]
    },
    {
     "name": "stdout",
     "output_type": "stream",
     "text": [
      "Image paths: ['a5/a5b24543.jpg', '2f/2f357c87.jpg', '85/85192c70.jpg']\n",
      "Generating VQA for image: a5/a5b24543.jpg\n",
      "Generating VQA for image: 2f/2f357c87.jpg\n",
      "Generating VQA for image: 85/85192c70.jpg\n"
     ]
    },
    {
     "name": "stderr",
     "output_type": "stream",
     "text": [
      "\r  3%|▎         | 209/8132 [23:47<14:05:55,  6.41s/it]"
     ]
    },
    {
     "name": "stdout",
     "output_type": "stream",
     "text": [
      "Image paths: ['d2/d2fc4b8e.jpg', '05/05f61e11.jpg', '4c/4c8d0533.jpg', '10/1027f85f.jpg']\n",
      "Generating VQA for image: d2/d2fc4b8e.jpg\n",
      "Generating VQA for image: 05/05f61e11.jpg\n",
      "Generating VQA for image: 4c/4c8d0533.jpg\n",
      "Generating VQA for image: 10/1027f85f.jpg\n"
     ]
    },
    {
     "name": "stderr",
     "output_type": "stream",
     "text": [
      "\r  3%|▎         | 210/8132 [23:54<14:20:50,  6.52s/it]"
     ]
    },
    {
     "name": "stdout",
     "output_type": "stream",
     "text": [
      "Image paths: ['02/02bcf059.jpg', '2f/2f357c87.jpg', '85/85192c70.jpg']\n",
      "Generating VQA for image: 02/02bcf059.jpg\n",
      "Generating VQA for image: 2f/2f357c87.jpg\n",
      "Generating VQA for image: 85/85192c70.jpg\n"
     ]
    },
    {
     "name": "stderr",
     "output_type": "stream",
     "text": [
      "\r  3%|▎         | 211/8132 [24:00<13:59:20,  6.36s/it]"
     ]
    },
    {
     "name": "stdout",
     "output_type": "stream",
     "text": [
      "Image paths: ['7b/7b11cde2.jpg', 'ee/ee8ee952.jpg', '49/49b1b22b.jpg', '66/66f3a68c.jpg', 'd1/d1e54777.jpg']\n",
      "Generating VQA for image: 7b/7b11cde2.jpg\n",
      "Generating VQA for image: ee/ee8ee952.jpg\n",
      "Generating VQA for image: 49/49b1b22b.jpg\n",
      "Generating VQA for image: 66/66f3a68c.jpg\n",
      "Generating VQA for image: d1/d1e54777.jpg\n"
     ]
    },
    {
     "name": "stderr",
     "output_type": "stream",
     "text": [
      "\r  3%|▎         | 212/8132 [24:08<15:32:53,  7.07s/it]"
     ]
    },
    {
     "name": "stdout",
     "output_type": "stream",
     "text": [
      "Image paths: ['3d/3d37d631.jpg', '72/725555b9.jpg', '00/000db5a6.jpg', 'b9/b900ef85.jpg', '60/605bdf82.jpg', '74/74d92d01.jpg', '25/25637dd0.jpg']\n",
      "Generating VQA for image: 3d/3d37d631.jpg\n",
      "Generating VQA for image: 72/725555b9.jpg\n",
      "Generating VQA for image: 00/000db5a6.jpg\n",
      "Generating VQA for image: b9/b900ef85.jpg\n",
      "Generating VQA for image: 60/605bdf82.jpg\n",
      "Generating VQA for image: 74/74d92d01.jpg\n",
      "Generating VQA for image: 25/25637dd0.jpg\n"
     ]
    },
    {
     "name": "stderr",
     "output_type": "stream",
     "text": [
      "\r  3%|▎         | 213/8132 [24:21<19:17:48,  8.77s/it]"
     ]
    },
    {
     "name": "stdout",
     "output_type": "stream",
     "text": [
      "Image paths: ['2e/2ee597c8.jpg', 'f8/f8ccbd43.jpg', '3c/3cb3c66c.jpg', 'ce/cefe498e.jpg', '92/92be14c8.jpg', '08/080deeba.jpg', '4b/4b8a5933.jpg']\n",
      "Generating VQA for image: 2e/2ee597c8.jpg\n",
      "Generating VQA for image: f8/f8ccbd43.jpg\n",
      "Generating VQA for image: 3c/3cb3c66c.jpg\n",
      "Generating VQA for image: ce/cefe498e.jpg\n",
      "Generating VQA for image: 92/92be14c8.jpg\n",
      "Generating VQA for image: 08/080deeba.jpg\n",
      "Generating VQA for image: 4b/4b8a5933.jpg\n"
     ]
    },
    {
     "name": "stderr",
     "output_type": "stream",
     "text": [
      "\r  3%|▎         | 214/8132 [24:35<22:31:22, 10.24s/it]"
     ]
    },
    {
     "name": "stdout",
     "output_type": "stream",
     "text": [
      "Image paths: ['79/79551e14.jpg', 'ee/ee8ee952.jpg', '49/49b1b22b.jpg', '66/66f3a68c.jpg', 'bc/bce116fe.jpg']\n",
      "Generating VQA for image: 79/79551e14.jpg\n",
      "Generating VQA for image: ee/ee8ee952.jpg\n",
      "Generating VQA for image: 49/49b1b22b.jpg\n",
      "Generating VQA for image: 66/66f3a68c.jpg\n",
      "Generating VQA for image: bc/bce116fe.jpg\n"
     ]
    },
    {
     "name": "stderr",
     "output_type": "stream",
     "text": [
      "\r  3%|▎         | 215/8132 [24:43<21:19:56,  9.70s/it]"
     ]
    },
    {
     "name": "stdout",
     "output_type": "stream",
     "text": [
      "Image paths: ['2e/2e7e57d6.jpg', '75/759b1fb3.jpg', '7e/7ecf343f.jpg', '15/15e92115.jpg', 'be/bef67d6a.jpg', '23/2325bb0d.jpg', 'aa/aafc4604.jpg', 'a0/a033a243.jpg', 'e1/e101a675.jpg', 'a0/a040270a.jpg']\n",
      "Generating VQA for image: 2e/2e7e57d6.jpg\n",
      "Generating VQA for image: 75/759b1fb3.jpg\n",
      "Generating VQA for image: 7e/7ecf343f.jpg\n",
      "Generating VQA for image: 15/15e92115.jpg\n",
      "Generating VQA for image: be/bef67d6a.jpg\n",
      "Generating VQA for image: 23/2325bb0d.jpg\n",
      "Generating VQA for image: aa/aafc4604.jpg\n",
      "Generating VQA for image: a0/a033a243.jpg\n",
      "Generating VQA for image: e1/e101a675.jpg\n",
      "Generating VQA for image: a0/a040270a.jpg\n"
     ]
    },
    {
     "name": "stderr",
     "output_type": "stream",
     "text": [
      "\r  3%|▎         | 216/8132 [25:02<27:03:47, 12.31s/it]"
     ]
    },
    {
     "name": "stdout",
     "output_type": "stream",
     "text": [
      "Image paths: ['56/56bc5dbf.jpg', '02/0238f4a8.jpg', '1e/1ed47984.jpg', 'b4/b4bdc217.jpg', '87/87a4f6d4.jpg']\n",
      "Generating VQA for image: 56/56bc5dbf.jpg\n",
      "Generating VQA for image: 02/0238f4a8.jpg\n",
      "Generating VQA for image: 1e/1ed47984.jpg\n",
      "Generating VQA for image: b4/b4bdc217.jpg\n",
      "Generating VQA for image: 87/87a4f6d4.jpg\n"
     ]
    },
    {
     "name": "stderr",
     "output_type": "stream",
     "text": [
      "\r  3%|▎         | 217/8132 [25:12<25:18:25, 11.51s/it]"
     ]
    },
    {
     "name": "stdout",
     "output_type": "stream",
     "text": [
      "Image paths: ['49/491034be.jpg', '5c/5c720fd7.jpg', 'c7/c7a80343.jpg', 'cc/cc9d1cff.jpg', '67/67ab25bc.jpg', '6f/6f9f0b88.jpg']\n",
      "Generating VQA for image: 49/491034be.jpg\n",
      "Generating VQA for image: 5c/5c720fd7.jpg\n",
      "Generating VQA for image: c7/c7a80343.jpg\n",
      "Generating VQA for image: cc/cc9d1cff.jpg\n",
      "Generating VQA for image: 67/67ab25bc.jpg\n",
      "Generating VQA for image: 6f/6f9f0b88.jpg\n"
     ]
    },
    {
     "name": "stderr",
     "output_type": "stream",
     "text": [
      "\r  3%|▎         | 218/8132 [25:22<24:35:55, 11.19s/it]"
     ]
    },
    {
     "name": "stdout",
     "output_type": "stream",
     "text": [
      "Image paths: ['34/3469d606.jpg', 'ee/ee8ee952.jpg', '97/97e396b4.jpg', '66/66f3a68c.jpg', '49/49b1b22b.jpg']\n",
      "Generating VQA for image: 34/3469d606.jpg\n",
      "Generating VQA for image: ee/ee8ee952.jpg\n",
      "Generating VQA for image: 97/97e396b4.jpg\n",
      "Generating VQA for image: 66/66f3a68c.jpg\n",
      "Generating VQA for image: 49/49b1b22b.jpg\n"
     ]
    },
    {
     "name": "stderr",
     "output_type": "stream",
     "text": [
      "\r  3%|▎         | 219/8132 [25:30<22:46:03, 10.36s/it]"
     ]
    },
    {
     "name": "stdout",
     "output_type": "stream",
     "text": [
      "Image paths: ['83/8360d932.jpg', 'ee/ee8ee952.jpg', '49/49b1b22b.jpg', '66/66f3a68c.jpg', '90/900c746a.jpg']\n",
      "Generating VQA for image: 83/8360d932.jpg\n",
      "Generating VQA for image: ee/ee8ee952.jpg\n",
      "Generating VQA for image: 49/49b1b22b.jpg\n",
      "Generating VQA for image: 66/66f3a68c.jpg\n",
      "Generating VQA for image: 90/900c746a.jpg\n"
     ]
    },
    {
     "name": "stderr",
     "output_type": "stream",
     "text": [
      "\r  3%|▎         | 220/8132 [25:39<21:53:01,  9.96s/it]"
     ]
    },
    {
     "name": "stdout",
     "output_type": "stream",
     "text": [
      "Image paths: ['ce/ce697770.jpg', 'e4/e4fd012d.jpg', 'b6/b6690ce7.jpg', 'ae/aefadecf.jpg', '76/76624661.jpg', 'e5/e5d2a8e4.jpg', 'fa/fab85941.jpg', 'b6/b640855b.jpg', 'f1/f1777b56.jpg']\n",
      "Generating VQA for image: ce/ce697770.jpg\n",
      "Generating VQA for image: e4/e4fd012d.jpg\n",
      "Generating VQA for image: b6/b6690ce7.jpg\n",
      "Generating VQA for image: ae/aefadecf.jpg\n",
      "Generating VQA for image: 76/76624661.jpg\n",
      "Generating VQA for image: e5/e5d2a8e4.jpg\n",
      "Generating VQA for image: fa/fab85941.jpg\n",
      "Generating VQA for image: b6/b640855b.jpg\n",
      "Generating VQA for image: f1/f1777b56.jpg\n"
     ]
    },
    {
     "name": "stderr",
     "output_type": "stream",
     "text": [
      "\r  3%|▎         | 222/8132 [25:58<21:11:44,  9.65s/it]"
     ]
    },
    {
     "name": "stdout",
     "output_type": "stream",
     "text": [
      "Image paths: ['98/98476fdc.jpg', '2f/2f357c87.jpg', '85/85192c70.jpg']\n",
      "Generating VQA for image: 98/98476fdc.jpg\n",
      "Generating VQA for image: 2f/2f357c87.jpg\n",
      "Generating VQA for image: 85/85192c70.jpg\n"
     ]
    },
    {
     "name": "stderr",
     "output_type": "stream",
     "text": [
      "\r  3%|▎         | 224/8132 [26:13<19:27:20,  8.86s/it]"
     ]
    },
    {
     "name": "stdout",
     "output_type": "stream",
     "text": [
      "Image paths: ['aa/aa45de9c.jpg', '3e/3ee4417c.jpg', 'b6/b60c5c23.jpg', 'cb/cb8e3f8b.jpg']\n",
      "Generating VQA for image: aa/aa45de9c.jpg\n",
      "Generating VQA for image: 3e/3ee4417c.jpg\n",
      "Generating VQA for image: b6/b60c5c23.jpg\n",
      "Generating VQA for image: cb/cb8e3f8b.jpg\n"
     ]
    },
    {
     "name": "stderr",
     "output_type": "stream",
     "text": [
      "\r  3%|▎         | 225/8132 [26:23<19:46:35,  9.00s/it]"
     ]
    },
    {
     "name": "stdout",
     "output_type": "stream",
     "text": [
      "Image paths: ['8b/8bff2b99.jpg', '35/35f1c130.jpg', '4c/4cfa932c.jpg', 'ed/edd7b781.jpg', '6f/6f20229e.jpg', 'd8/d89d4ac8.jpg']\n",
      "Generating VQA for image: 8b/8bff2b99.jpg\n",
      "Generating VQA for image: 35/35f1c130.jpg\n",
      "Generating VQA for image: 4c/4cfa932c.jpg\n",
      "Generating VQA for image: ed/edd7b781.jpg\n",
      "Generating VQA for image: 6f/6f20229e.jpg\n",
      "Generating VQA for image: d8/d89d4ac8.jpg\n"
     ]
    },
    {
     "name": "stderr",
     "output_type": "stream",
     "text": [
      "\r  3%|▎         | 226/8132 [26:36<22:01:54, 10.03s/it]"
     ]
    },
    {
     "name": "stdout",
     "output_type": "stream",
     "text": [
      "Image paths: ['5a/5a8bcbbb.jpg', 'da/dafdfed7.jpg', 'ee/ee8ee952.jpg', '66/66f3a68c.jpg', '49/49b1b22b.jpg']\n",
      "Generating VQA for image: 5a/5a8bcbbb.jpg\n",
      "Generating VQA for image: da/dafdfed7.jpg\n",
      "Generating VQA for image: ee/ee8ee952.jpg\n",
      "Generating VQA for image: 66/66f3a68c.jpg\n",
      "Generating VQA for image: 49/49b1b22b.jpg\n"
     ]
    },
    {
     "name": "stderr",
     "output_type": "stream",
     "text": [
      "\r  3%|▎         | 227/8132 [26:46<22:09:18, 10.09s/it]"
     ]
    },
    {
     "name": "stdout",
     "output_type": "stream",
     "text": [
      "Image paths: ['cf/cfd0511f.jpg', '22/22ac2371.jpg', 'e7/e7d31373.jpg', '0b/0bf437fb.jpg', '41/41a94660.jpg', '79/7910f1bf.jpg', '36/3616cac1.jpg', 'f4/f4baa5cd.jpg']\n",
      "Generating VQA for image: cf/cfd0511f.jpg\n",
      "Generating VQA for image: 22/22ac2371.jpg\n",
      "Generating VQA for image: e7/e7d31373.jpg\n",
      "Generating VQA for image: 0b/0bf437fb.jpg\n",
      "Generating VQA for image: 41/41a94660.jpg\n",
      "Generating VQA for image: 79/7910f1bf.jpg\n",
      "Generating VQA for image: 36/3616cac1.jpg\n",
      "Generating VQA for image: f4/f4baa5cd.jpg\n"
     ]
    },
    {
     "name": "stderr",
     "output_type": "stream",
     "text": [
      "\r  3%|▎         | 228/8132 [27:02<25:33:29, 11.64s/it]"
     ]
    },
    {
     "name": "stdout",
     "output_type": "stream",
     "text": [
      "Image paths: ['11/11983582.jpg', 'ee/ee8ee952.jpg', '49/49b1b22b.jpg', '66/66f3a68c.jpg', '7a/7a580299.jpg']\n",
      "Generating VQA for image: 11/11983582.jpg\n",
      "Generating VQA for image: ee/ee8ee952.jpg\n",
      "Generating VQA for image: 49/49b1b22b.jpg\n",
      "Generating VQA for image: 66/66f3a68c.jpg\n",
      "Generating VQA for image: 7a/7a580299.jpg\n"
     ]
    },
    {
     "name": "stderr",
     "output_type": "stream",
     "text": [
      "\r  3%|▎         | 229/8132 [27:13<24:44:43, 11.27s/it]"
     ]
    },
    {
     "name": "stdout",
     "output_type": "stream",
     "text": [
      "Image paths: ['59/595eed91.jpg', 'ac/ac9e0d00.jpg', '7f/7facdd7b.jpg', '40/40242213.jpg', '0f/0f504d76.jpg', 'd3/d3c82b9e.jpg', '1c/1c454252.jpg', 'f1/f166fc36.jpg']\n",
      "Generating VQA for image: 59/595eed91.jpg\n",
      "Generating VQA for image: ac/ac9e0d00.jpg\n",
      "Generating VQA for image: 7f/7facdd7b.jpg\n",
      "Generating VQA for image: 40/40242213.jpg\n",
      "Generating VQA for image: 0f/0f504d76.jpg\n",
      "Generating VQA for image: d3/d3c82b9e.jpg\n",
      "Generating VQA for image: 1c/1c454252.jpg\n",
      "Generating VQA for image: f1/f166fc36.jpg\n"
     ]
    },
    {
     "name": "stderr",
     "output_type": "stream",
     "text": [
      "\r  3%|▎         | 230/8132 [27:32<29:46:37, 13.57s/it]"
     ]
    },
    {
     "name": "stdout",
     "output_type": "stream",
     "text": [
      "Image paths: ['f4/f44d5971.jpg', 'e2/e23b149a.jpg', 'e1/e18de013.jpg', '84/8444016f.jpg', 'f0/f0bf42c8.jpg', 'fc/fcc8c5b3.jpg']\n",
      "Generating VQA for image: f4/f44d5971.jpg\n",
      "Generating VQA for image: e2/e23b149a.jpg\n",
      "Generating VQA for image: e1/e18de013.jpg\n",
      "Generating VQA for image: 84/8444016f.jpg\n",
      "Generating VQA for image: f0/f0bf42c8.jpg\n",
      "Generating VQA for image: fc/fcc8c5b3.jpg\n"
     ]
    },
    {
     "name": "stderr",
     "output_type": "stream",
     "text": [
      "\r  3%|▎         | 231/8132 [27:45<29:42:03, 13.53s/it]"
     ]
    },
    {
     "name": "stdout",
     "output_type": "stream",
     "text": [
      "Image paths: ['4b/4bc7a61a.jpg', '5e/5ede9c69.jpg', 'd8/d87e51cf.jpg', '2a/2af5eb88.jpg', '36/36cae1bf.jpg']\n",
      "Generating VQA for image: 4b/4bc7a61a.jpg\n",
      "Generating VQA for image: 5e/5ede9c69.jpg\n",
      "Generating VQA for image: d8/d87e51cf.jpg\n",
      "Generating VQA for image: 2a/2af5eb88.jpg\n",
      "Generating VQA for image: 36/36cae1bf.jpg\n"
     ]
    },
    {
     "name": "stderr",
     "output_type": "stream",
     "text": [
      "\r  3%|▎         | 232/8132 [27:54<26:34:58, 12.11s/it]"
     ]
    },
    {
     "name": "stdout",
     "output_type": "stream",
     "text": [
      "Image paths: ['05/0511e6f1.jpg', 'd6/d6770a65.jpg', 'f2/f2aeda44.jpg', '34/3461f8e9.jpg', 'e0/e08360f8.jpg', '51/51391ed0.jpg']\n",
      "Generating VQA for image: 05/0511e6f1.jpg\n",
      "Generating VQA for image: d6/d6770a65.jpg\n",
      "Generating VQA for image: f2/f2aeda44.jpg\n",
      "Generating VQA for image: 34/3461f8e9.jpg\n",
      "Generating VQA for image: e0/e08360f8.jpg\n",
      "Generating VQA for image: 51/51391ed0.jpg\n"
     ]
    },
    {
     "name": "stderr",
     "output_type": "stream",
     "text": [
      "\r  3%|▎         | 233/8132 [28:05<26:03:09, 11.87s/it]"
     ]
    },
    {
     "name": "stdout",
     "output_type": "stream",
     "text": [
      "Image paths: ['b2/b2883369.jpg', 'f3/f31af2ee.jpg', 'd3/d3cc2efd.jpg', 'e2/e2d2815d.jpg']\n",
      "Generating VQA for image: b2/b2883369.jpg\n",
      "Generating VQA for image: f3/f31af2ee.jpg\n",
      "Generating VQA for image: d3/d3cc2efd.jpg\n",
      "Generating VQA for image: e2/e2d2815d.jpg\n"
     ]
    },
    {
     "name": "stderr",
     "output_type": "stream",
     "text": [
      "\r  3%|▎         | 235/8132 [28:13<18:05:17,  8.25s/it]"
     ]
    },
    {
     "name": "stdout",
     "output_type": "stream",
     "text": [
      "Image paths: ['70/70334947.jpg', 'a4/a45d2bf3.jpg', '36/36f71242.jpg', '9e/9e612f2f.jpg', '76/76c25cc3.jpg']\n",
      "Generating VQA for image: 70/70334947.jpg\n",
      "Generating VQA for image: a4/a45d2bf3.jpg\n",
      "Generating VQA for image: 36/36f71242.jpg\n",
      "Generating VQA for image: 9e/9e612f2f.jpg\n",
      "Generating VQA for image: 76/76c25cc3.jpg\n"
     ]
    },
    {
     "name": "stderr",
     "output_type": "stream",
     "text": [
      "\r  3%|▎         | 236/8132 [28:23<18:39:24,  8.51s/it]"
     ]
    },
    {
     "name": "stdout",
     "output_type": "stream",
     "text": [
      "Image paths: ['54/541c7389.jpg', '47/47f0c738.jpg', '9f/9f6f86ac.jpg', 'd8/d89025e7.jpg']\n",
      "Generating VQA for image: 54/541c7389.jpg\n",
      "Generating VQA for image: 47/47f0c738.jpg\n",
      "Generating VQA for image: 9f/9f6f86ac.jpg\n",
      "Generating VQA for image: d8/d89025e7.jpg\n"
     ]
    },
    {
     "name": "stderr",
     "output_type": "stream",
     "text": [
      "\r  3%|▎         | 237/8132 [28:30<17:58:45,  8.20s/it]"
     ]
    },
    {
     "name": "stdout",
     "output_type": "stream",
     "text": [
      "Image paths: ['aa/aa20713e.jpg', 'cc/cce7e813.jpg', 'a3/a360919e.jpg', '3e/3ea16863.jpg', 'ad/ad3230be.jpg', '7d/7d8ed7af.jpg']\n",
      "Generating VQA for image: aa/aa20713e.jpg\n",
      "Generating VQA for image: cc/cce7e813.jpg\n",
      "Generating VQA for image: a3/a360919e.jpg\n",
      "Generating VQA for image: 3e/3ea16863.jpg\n",
      "Generating VQA for image: ad/ad3230be.jpg\n",
      "Generating VQA for image: 7d/7d8ed7af.jpg\n"
     ]
    },
    {
     "name": "stderr",
     "output_type": "stream",
     "text": [
      "\r  3%|▎         | 238/8132 [28:43<20:42:34,  9.44s/it]"
     ]
    },
    {
     "name": "stdout",
     "output_type": "stream",
     "text": [
      "Image paths: ['4f/4fa197ed.jpg', '9e/9efc9b1c.jpg', 'c6/c6d31046.jpg', '45/45b1c8e9.jpg']\n",
      "Generating VQA for image: 4f/4fa197ed.jpg\n",
      "Generating VQA for image: 9e/9efc9b1c.jpg\n",
      "Generating VQA for image: c6/c6d31046.jpg\n",
      "Generating VQA for image: 45/45b1c8e9.jpg\n"
     ]
    },
    {
     "name": "stderr",
     "output_type": "stream",
     "text": [
      "\r  3%|▎         | 239/8132 [28:52<20:27:47,  9.33s/it]"
     ]
    },
    {
     "name": "stdout",
     "output_type": "stream",
     "text": [
      "Image paths: ['e8/e8ea7d87.jpg']\n",
      "Generating VQA for image: e8/e8ea7d87.jpg\n"
     ]
    },
    {
     "name": "stderr",
     "output_type": "stream",
     "text": [
      "\r  3%|▎         | 240/8132 [28:54<15:54:26,  7.26s/it]"
     ]
    },
    {
     "name": "stdout",
     "output_type": "stream",
     "text": [
      "Image paths: ['34/346e0730.jpg', '6a/6a4338ff.jpg', 'ea/eaddb8fc.jpg', 'a6/a6a93940.jpg', '63/635966da.jpg']\n",
      "Generating VQA for image: 34/346e0730.jpg\n",
      "Generating VQA for image: 6a/6a4338ff.jpg\n",
      "Generating VQA for image: ea/eaddb8fc.jpg\n",
      "Generating VQA for image: a6/a6a93940.jpg\n",
      "Generating VQA for image: 63/635966da.jpg\n"
     ]
    },
    {
     "name": "stderr",
     "output_type": "stream",
     "text": [
      "\r  3%|▎         | 241/8132 [29:03<17:11:05,  7.84s/it]"
     ]
    },
    {
     "name": "stdout",
     "output_type": "stream",
     "text": [
      "Image paths: ['a1/a1f48866.jpg', 'ee/ee8ee952.jpg', '14/14bf47f2.jpg', '66/66f3a68c.jpg', '49/49b1b22b.jpg']\n",
      "Generating VQA for image: a1/a1f48866.jpg\n",
      "Generating VQA for image: ee/ee8ee952.jpg\n",
      "Generating VQA for image: 14/14bf47f2.jpg\n",
      "Generating VQA for image: 66/66f3a68c.jpg\n",
      "Generating VQA for image: 49/49b1b22b.jpg\n"
     ]
    },
    {
     "name": "stderr",
     "output_type": "stream",
     "text": [
      "\r  3%|▎         | 242/8132 [29:12<17:58:31,  8.20s/it]"
     ]
    },
    {
     "name": "stdout",
     "output_type": "stream",
     "text": [
      "Image paths: ['52/52ade503.jpg', 'ee/ee8dd995.jpg', 'a6/a69ee32c.jpg', 'ae/aed3ecc4.jpg']\n",
      "Generating VQA for image: 52/52ade503.jpg\n",
      "Generating VQA for image: ee/ee8dd995.jpg\n",
      "Generating VQA for image: a6/a69ee32c.jpg\n",
      "Generating VQA for image: ae/aed3ecc4.jpg\n"
     ]
    },
    {
     "name": "stderr",
     "output_type": "stream",
     "text": [
      "\r  3%|▎         | 244/8132 [29:19<13:28:51,  6.15s/it]"
     ]
    },
    {
     "name": "stdout",
     "output_type": "stream",
     "text": [
      "Image paths: ['9e/9e52e1ed.jpg', 'ee/ee8ee952.jpg', '49/49b1b22b.jpg', '66/66f3a68c.jpg', '5a/5ab7fbcd.jpg']\n",
      "Generating VQA for image: 9e/9e52e1ed.jpg\n",
      "Generating VQA for image: ee/ee8ee952.jpg\n",
      "Generating VQA for image: 49/49b1b22b.jpg\n",
      "Generating VQA for image: 66/66f3a68c.jpg\n",
      "Generating VQA for image: 5a/5ab7fbcd.jpg\n"
     ]
    },
    {
     "name": "stderr",
     "output_type": "stream",
     "text": [
      "\r  3%|▎         | 245/8132 [29:29<15:03:18,  6.87s/it]"
     ]
    },
    {
     "name": "stdout",
     "output_type": "stream",
     "text": [
      "Image paths: ['9c/9cb595e3.jpg', '2f/2f357c87.jpg', '85/85192c70.jpg']\n",
      "Generating VQA for image: 9c/9cb595e3.jpg\n",
      "Generating VQA for image: 2f/2f357c87.jpg\n",
      "Generating VQA for image: 85/85192c70.jpg\n"
     ]
    },
    {
     "name": "stderr",
     "output_type": "stream",
     "text": [
      "\r  3%|▎         | 246/8132 [29:34<14:17:44,  6.53s/it]"
     ]
    },
    {
     "name": "stdout",
     "output_type": "stream",
     "text": [
      "Image paths: ['d4/d4b72692.jpg', 'ee/ee8ee952.jpg', '49/49b1b22b.jpg', '66/66f3a68c.jpg', '05/0585ffed.jpg']\n",
      "Generating VQA for image: d4/d4b72692.jpg\n",
      "Generating VQA for image: ee/ee8ee952.jpg\n",
      "Generating VQA for image: 49/49b1b22b.jpg\n",
      "Generating VQA for image: 66/66f3a68c.jpg\n",
      "Generating VQA for image: 05/0585ffed.jpg\n"
     ]
    },
    {
     "name": "stderr",
     "output_type": "stream",
     "text": [
      "\r  3%|▎         | 247/8132 [29:43<15:55:51,  7.27s/it]"
     ]
    },
    {
     "name": "stdout",
     "output_type": "stream",
     "text": [
      "Image paths: ['f2/f2ea3078.jpg', '20/20533b83.jpg', '4a/4a46f191.jpg', 'f8/f88fd3fc.jpg', '4f/4fa61b52.jpg']\n",
      "Generating VQA for image: f2/f2ea3078.jpg\n",
      "Generating VQA for image: 20/20533b83.jpg\n",
      "Generating VQA for image: 4a/4a46f191.jpg\n",
      "Generating VQA for image: f8/f88fd3fc.jpg\n",
      "Generating VQA for image: 4f/4fa61b52.jpg\n"
     ]
    },
    {
     "name": "stderr",
     "output_type": "stream",
     "text": [
      "\r  3%|▎         | 248/8132 [29:52<16:46:32,  7.66s/it]"
     ]
    },
    {
     "name": "stdout",
     "output_type": "stream",
     "text": [
      "Image paths: ['d6/d68c46d4.jpg', '80/804ca9f5.jpg', '31/31befbfd.jpg', 'a7/a76f8757.jpg', '68/68445f0b.jpg', '1d/1ddd4495.jpg', '6e/6e69e5b6.jpg']\n",
      "Generating VQA for image: d6/d68c46d4.jpg\n",
      "Generating VQA for image: 80/804ca9f5.jpg\n",
      "Generating VQA for image: 31/31befbfd.jpg\n",
      "Generating VQA for image: a7/a76f8757.jpg\n",
      "Generating VQA for image: 68/68445f0b.jpg\n",
      "Generating VQA for image: 1d/1ddd4495.jpg\n",
      "Generating VQA for image: 6e/6e69e5b6.jpg\n"
     ]
    },
    {
     "name": "stderr",
     "output_type": "stream",
     "text": [
      "\r  3%|▎         | 249/8132 [30:09<22:30:03, 10.28s/it]"
     ]
    },
    {
     "name": "stdout",
     "output_type": "stream",
     "text": [
      "Image paths: ['60/604717bf.jpg', 'ee/ee8ee952.jpg', '49/49b1b22b.jpg', '66/66f3a68c.jpg', '24/248fcd4f.jpg']\n",
      "Generating VQA for image: 60/604717bf.jpg\n",
      "Generating VQA for image: ee/ee8ee952.jpg\n",
      "Generating VQA for image: 49/49b1b22b.jpg\n",
      "Generating VQA for image: 66/66f3a68c.jpg\n",
      "Generating VQA for image: 24/248fcd4f.jpg\n"
     ]
    },
    {
     "name": "stderr",
     "output_type": "stream",
     "text": [
      "\r  3%|▎         | 250/8132 [30:18<22:02:54, 10.07s/it]"
     ]
    },
    {
     "name": "stdout",
     "output_type": "stream",
     "text": [
      "Image paths: ['93/93a034ba.jpg', 'ee/ee8ee952.jpg', '49/49b1b22b.jpg', '66/66f3a68c.jpg', 'a1/a1813a75.jpg']\n",
      "Generating VQA for image: 93/93a034ba.jpg\n",
      "Generating VQA for image: ee/ee8ee952.jpg\n",
      "Generating VQA for image: 49/49b1b22b.jpg\n",
      "Generating VQA for image: 66/66f3a68c.jpg\n",
      "Generating VQA for image: a1/a1813a75.jpg\n"
     ]
    },
    {
     "name": "stderr",
     "output_type": "stream",
     "text": [
      "\r  3%|▎         | 251/8132 [30:27<21:20:31,  9.75s/it]"
     ]
    },
    {
     "name": "stdout",
     "output_type": "stream",
     "text": [
      "Image paths: ['e4/e4adedfd.jpg', '90/902271d9.jpg']\n",
      "Generating VQA for image: e4/e4adedfd.jpg\n",
      "Generating VQA for image: 90/902271d9.jpg\n"
     ]
    },
    {
     "name": "stderr",
     "output_type": "stream",
     "text": [
      "\r  3%|▎         | 253/8132 [30:31<13:30:00,  6.17s/it]"
     ]
    },
    {
     "name": "stdout",
     "output_type": "stream",
     "text": [
      "Image paths: ['d7/d741b973.jpg', '31/313a94cc.jpg', '9e/9eb555dd.jpg']\n",
      "Generating VQA for image: d7/d741b973.jpg\n",
      "Generating VQA for image: 31/313a94cc.jpg\n",
      "Generating VQA for image: 9e/9eb555dd.jpg\n"
     ]
    },
    {
     "name": "stderr",
     "output_type": "stream",
     "text": [
      "\r  3%|▎         | 255/8132 [30:37<10:30:47,  4.80s/it]"
     ]
    },
    {
     "name": "stdout",
     "output_type": "stream",
     "text": [
      "Image paths: ['c1/c11f7c3d.jpg', '71/71d82a6b.jpg', '1b/1b2e5434.jpg', '87/87dfb91d.jpg']\n",
      "Generating VQA for image: c1/c11f7c3d.jpg\n",
      "Generating VQA for image: 71/71d82a6b.jpg\n",
      "Generating VQA for image: 1b/1b2e5434.jpg\n",
      "Generating VQA for image: 87/87dfb91d.jpg\n"
     ]
    },
    {
     "name": "stderr",
     "output_type": "stream",
     "text": [
      "\r  3%|▎         | 256/8132 [30:46<12:36:37,  5.76s/it]"
     ]
    },
    {
     "name": "stdout",
     "output_type": "stream",
     "text": [
      "Image paths: ['38/3821a87b.jpg', '0c/0cd7b43c.jpg', 'a7/a74ce57e.jpg', '93/936239e6.jpg', '9a/9af7cd1a.jpg', '62/62e7de10.jpg']\n",
      "Generating VQA for image: 38/3821a87b.jpg\n",
      "Generating VQA for image: 0c/0cd7b43c.jpg\n",
      "Generating VQA for image: a7/a74ce57e.jpg\n",
      "Generating VQA for image: 93/936239e6.jpg\n",
      "Generating VQA for image: 9a/9af7cd1a.jpg\n",
      "Generating VQA for image: 62/62e7de10.jpg\n"
     ]
    },
    {
     "name": "stderr",
     "output_type": "stream",
     "text": [
      "\r  3%|▎         | 258/8132 [30:57<12:22:44,  5.66s/it]"
     ]
    },
    {
     "name": "stdout",
     "output_type": "stream",
     "text": [
      "Image paths: ['8a/8a6b0b4b.jpg', '79/79bc9d09.jpg', 'ee/eebc1d97.jpg', 'f8/f8daf448.jpg', '55/552ac40d.jpg']\n",
      "Generating VQA for image: 8a/8a6b0b4b.jpg\n",
      "Generating VQA for image: 79/79bc9d09.jpg\n",
      "Generating VQA for image: ee/eebc1d97.jpg\n",
      "Generating VQA for image: f8/f8daf448.jpg\n",
      "Generating VQA for image: 55/552ac40d.jpg\n"
     ]
    },
    {
     "name": "stderr",
     "output_type": "stream",
     "text": [
      "\r  3%|▎         | 259/8132 [31:07<14:27:36,  6.61s/it]"
     ]
    },
    {
     "name": "stdout",
     "output_type": "stream",
     "text": [
      "Image paths: ['9c/9c6c27ca.jpg', 'd0/d0e6feba.jpg', '21/211e8895.jpg']\n",
      "Generating VQA for image: 9c/9c6c27ca.jpg\n",
      "Generating VQA for image: d0/d0e6feba.jpg\n",
      "Generating VQA for image: 21/211e8895.jpg\n"
     ]
    },
    {
     "name": "stderr",
     "output_type": "stream",
     "text": [
      "\r  3%|▎         | 260/8132 [31:13<14:05:09,  6.44s/it]"
     ]
    },
    {
     "name": "stdout",
     "output_type": "stream",
     "text": [
      "Image paths: ['61/6192ca36.jpg', '2b/2ba70b5c.jpg', '04/04a0237e.jpg', 'be/be296719.jpg', 'e0/e0024fc1.jpg']\n",
      "Generating VQA for image: 61/6192ca36.jpg\n",
      "Generating VQA for image: 2b/2ba70b5c.jpg\n",
      "Generating VQA for image: 04/04a0237e.jpg\n",
      "Generating VQA for image: be/be296719.jpg\n",
      "Generating VQA for image: e0/e0024fc1.jpg\n"
     ]
    },
    {
     "name": "stderr",
     "output_type": "stream",
     "text": [
      "\r  3%|▎         | 261/8132 [31:22<15:46:01,  7.21s/it]"
     ]
    },
    {
     "name": "stdout",
     "output_type": "stream",
     "text": [
      "Image paths: ['1e/1ef5bf65.jpg', 'ee/ee8ee952.jpg', '49/49b1b22b.jpg', '04/044ebd88.jpg', '66/66f3a68c.jpg']\n",
      "Generating VQA for image: 1e/1ef5bf65.jpg\n",
      "Generating VQA for image: ee/ee8ee952.jpg\n",
      "Generating VQA for image: 49/49b1b22b.jpg\n",
      "Generating VQA for image: 04/044ebd88.jpg\n",
      "Generating VQA for image: 66/66f3a68c.jpg\n"
     ]
    },
    {
     "name": "stderr",
     "output_type": "stream",
     "text": [
      "\r  3%|▎         | 262/8132 [31:32<17:27:39,  7.99s/it]"
     ]
    },
    {
     "name": "stdout",
     "output_type": "stream",
     "text": [
      "Image paths: ['c0/c03c952e.jpg', 'a0/a03d9e14.jpg', '5b/5b742975.jpg', 'e7/e77d223c.jpg', '88/881f72b6.jpg', 'ca/ca25f1fe.jpg', '11/11f3e8c4.jpg']\n",
      "Generating VQA for image: c0/c03c952e.jpg\n",
      "Generating VQA for image: a0/a03d9e14.jpg\n",
      "Generating VQA for image: 5b/5b742975.jpg\n",
      "Generating VQA for image: e7/e77d223c.jpg\n",
      "Generating VQA for image: 88/881f72b6.jpg\n",
      "Generating VQA for image: ca/ca25f1fe.jpg\n",
      "Generating VQA for image: 11/11f3e8c4.jpg\n"
     ]
    },
    {
     "name": "stderr",
     "output_type": "stream",
     "text": [
      "\r  3%|▎         | 263/8132 [31:46<20:51:40,  9.54s/it]"
     ]
    },
    {
     "name": "stdout",
     "output_type": "stream",
     "text": [
      "Image paths: ['4b/4bec7b82.jpg', 'a4/a4574c89.jpg', '9b/9b5b198d.jpg', '16/164ce0cd.jpg', 'c8/c8bf665e.jpg', '98/9892be4c.jpg']\n",
      "Generating VQA for image: 4b/4bec7b82.jpg\n",
      "Generating VQA for image: a4/a4574c89.jpg\n",
      "Generating VQA for image: 9b/9b5b198d.jpg\n",
      "Generating VQA for image: 16/164ce0cd.jpg\n",
      "Generating VQA for image: c8/c8bf665e.jpg\n",
      "Generating VQA for image: 98/9892be4c.jpg\n"
     ]
    },
    {
     "name": "stderr",
     "output_type": "stream",
     "text": [
      "\r  3%|▎         | 264/8132 [31:58<22:21:16, 10.23s/it]"
     ]
    },
    {
     "name": "stdout",
     "output_type": "stream",
     "text": [
      "Image paths: ['16/166210c4.jpg', 'd8/d87e51cf.jpg', '2a/2af5eb88.jpg', '36/36cae1bf.jpg', 'bb/bb23ae5d.jpg']\n",
      "Generating VQA for image: 16/166210c4.jpg\n",
      "Generating VQA for image: d8/d87e51cf.jpg\n",
      "Generating VQA for image: 2a/2af5eb88.jpg\n",
      "Generating VQA for image: 36/36cae1bf.jpg\n",
      "Generating VQA for image: bb/bb23ae5d.jpg\n"
     ]
    },
    {
     "name": "stderr",
     "output_type": "stream",
     "text": [
      "\r  3%|▎         | 265/8132 [32:08<21:56:14, 10.04s/it]"
     ]
    },
    {
     "name": "stdout",
     "output_type": "stream",
     "text": [
      "Image paths: ['b1/b15dbb0f.jpg', 'ee/ee8ee952.jpg', '49/49b1b22b.jpg', '66/66f3a68c.jpg', '49/497ab44f.jpg']\n",
      "Generating VQA for image: b1/b15dbb0f.jpg\n",
      "Generating VQA for image: ee/ee8ee952.jpg\n",
      "Generating VQA for image: 49/49b1b22b.jpg\n",
      "Generating VQA for image: 66/66f3a68c.jpg\n",
      "Generating VQA for image: 49/497ab44f.jpg\n"
     ]
    },
    {
     "name": "stderr",
     "output_type": "stream",
     "text": [
      "\r  3%|▎         | 266/8132 [32:17<21:46:02,  9.96s/it]"
     ]
    },
    {
     "name": "stdout",
     "output_type": "stream",
     "text": [
      "Image paths: ['45/459d99f7.jpg', 'ee/ee8ee952.jpg', '49/49b1b22b.jpg', '66/66f3a68c.jpg', 'a7/a7cafa9f.jpg']\n",
      "Generating VQA for image: 45/459d99f7.jpg\n",
      "Generating VQA for image: ee/ee8ee952.jpg\n",
      "Generating VQA for image: 49/49b1b22b.jpg\n",
      "Generating VQA for image: 66/66f3a68c.jpg\n",
      "Generating VQA for image: a7/a7cafa9f.jpg\n"
     ]
    },
    {
     "name": "stderr",
     "output_type": "stream",
     "text": [
      "\r  3%|▎         | 267/8132 [32:27<21:18:47,  9.76s/it]"
     ]
    },
    {
     "name": "stdout",
     "output_type": "stream",
     "text": [
      "Image paths: ['e4/e4ac56c3.jpg', '64/64326cbf.jpg', '42/42ca1bef.jpg', '02/02ad7e46.jpg', 'b7/b79efaf1.jpg', '44/44da93f1.jpg', 'e9/e9a22c0f.jpg']\n",
      "Generating VQA for image: e4/e4ac56c3.jpg\n",
      "Generating VQA for image: 64/64326cbf.jpg\n",
      "Generating VQA for image: 42/42ca1bef.jpg\n",
      "Generating VQA for image: 02/02ad7e46.jpg\n",
      "Generating VQA for image: b7/b79efaf1.jpg\n",
      "Generating VQA for image: 44/44da93f1.jpg\n",
      "Generating VQA for image: e9/e9a22c0f.jpg\n"
     ]
    },
    {
     "name": "stderr",
     "output_type": "stream",
     "text": [
      "\r  3%|▎         | 268/8132 [32:39<22:41:26, 10.39s/it]"
     ]
    },
    {
     "name": "stdout",
     "output_type": "stream",
     "text": [
      "Image paths: ['a6/a6906433.jpg', 'e9/e9a0cc6f.jpg', 'd8/d87c3524.jpg', '9b/9b98ae95.jpg', 'a3/a3dc5509.jpg', '5a/5a555f4b.jpg']\n",
      "Generating VQA for image: a6/a6906433.jpg\n",
      "Generating VQA for image: e9/e9a0cc6f.jpg\n",
      "Generating VQA for image: d8/d87c3524.jpg\n",
      "Generating VQA for image: 9b/9b98ae95.jpg\n",
      "Generating VQA for image: a3/a3dc5509.jpg\n",
      "Generating VQA for image: 5a/5a555f4b.jpg\n"
     ]
    },
    {
     "name": "stderr",
     "output_type": "stream",
     "text": [
      "\r  3%|▎         | 269/8132 [32:51<23:48:41, 10.90s/it]"
     ]
    },
    {
     "name": "stdout",
     "output_type": "stream",
     "text": [
      "Image paths: ['c3/c310ac15.jpg', 'ee/ee8ee952.jpg', '49/49b1b22b.jpg', '66/66f3a68c.jpg', '56/56739ada.jpg']\n",
      "Generating VQA for image: c3/c310ac15.jpg\n",
      "Generating VQA for image: ee/ee8ee952.jpg\n",
      "Generating VQA for image: 49/49b1b22b.jpg\n",
      "Generating VQA for image: 66/66f3a68c.jpg\n",
      "Generating VQA for image: 56/56739ada.jpg\n"
     ]
    },
    {
     "name": "stderr",
     "output_type": "stream",
     "text": [
      "\r  3%|▎         | 270/8132 [32:59<22:23:12, 10.25s/it]"
     ]
    },
    {
     "name": "stdout",
     "output_type": "stream",
     "text": [
      "Image paths: ['9e/9e35fce2.jpg', '7e/7ebe7c17.jpg', '78/78a06fa0.jpg', '83/83defd5b.jpg', '22/22b25cfc.jpg', '01/01e20e64.jpg']\n",
      "Generating VQA for image: 9e/9e35fce2.jpg\n",
      "Generating VQA for image: 7e/7ebe7c17.jpg\n",
      "Generating VQA for image: 78/78a06fa0.jpg\n",
      "Generating VQA for image: 83/83defd5b.jpg\n",
      "Generating VQA for image: 22/22b25cfc.jpg\n",
      "Generating VQA for image: 01/01e20e64.jpg\n"
     ]
    },
    {
     "name": "stderr",
     "output_type": "stream",
     "text": [
      "\r  3%|▎         | 272/8132 [33:11<18:04:23,  8.28s/it]"
     ]
    },
    {
     "name": "stdout",
     "output_type": "stream",
     "text": [
      "Image paths: ['60/60da6164.jpg', 'ee/ee8ee952.jpg', '49/49b1b22b.jpg', 'af/afda139e.jpg', '66/66f3a68c.jpg']\n",
      "Generating VQA for image: 60/60da6164.jpg\n",
      "Generating VQA for image: ee/ee8ee952.jpg\n",
      "Generating VQA for image: 49/49b1b22b.jpg\n",
      "Generating VQA for image: af/afda139e.jpg\n",
      "Generating VQA for image: 66/66f3a68c.jpg\n"
     ]
    },
    {
     "name": "stderr",
     "output_type": "stream",
     "text": [
      "\r  3%|▎         | 273/8132 [33:21<19:02:58,  8.73s/it]"
     ]
    },
    {
     "name": "stdout",
     "output_type": "stream",
     "text": [
      "Image paths: ['f2/f203ccfd.jpg', '60/60b4b49c.jpg', 'ea/eae159a6.jpg', '87/87dfb91d.jpg']\n",
      "Generating VQA for image: f2/f203ccfd.jpg\n",
      "Generating VQA for image: 60/60b4b49c.jpg\n",
      "Generating VQA for image: ea/eae159a6.jpg\n",
      "Generating VQA for image: 87/87dfb91d.jpg\n"
     ]
    },
    {
     "name": "stderr",
     "output_type": "stream",
     "text": [
      "\r  3%|▎         | 274/8132 [33:30<18:50:44,  8.63s/it]"
     ]
    },
    {
     "name": "stdout",
     "output_type": "stream",
     "text": [
      "Image paths: ['49/494e01ae.jpg', 'ee/ee8ee952.jpg', '49/49b1b22b.jpg', '66/66f3a68c.jpg', 'ec/ec913922.jpg']\n",
      "Generating VQA for image: 49/494e01ae.jpg\n",
      "Generating VQA for image: ee/ee8ee952.jpg\n",
      "Generating VQA for image: 49/49b1b22b.jpg\n",
      "Generating VQA for image: 66/66f3a68c.jpg\n",
      "Generating VQA for image: ec/ec913922.jpg\n"
     ]
    },
    {
     "name": "stderr",
     "output_type": "stream",
     "text": [
      "\r  3%|▎         | 275/8132 [33:40<19:40:14,  9.01s/it]"
     ]
    },
    {
     "name": "stdout",
     "output_type": "stream",
     "text": [
      "Image paths: ['00/001d5722.jpg', 'ee/ee8ee952.jpg', '49/49b1b22b.jpg', '66/66f3a68c.jpg', '2a/2a702d0d.jpg']\n",
      "Generating VQA for image: 00/001d5722.jpg\n",
      "Generating VQA for image: ee/ee8ee952.jpg\n",
      "Generating VQA for image: 49/49b1b22b.jpg\n",
      "Generating VQA for image: 66/66f3a68c.jpg\n",
      "Generating VQA for image: 2a/2a702d0d.jpg\n"
     ]
    },
    {
     "name": "stderr",
     "output_type": "stream",
     "text": [
      "\r  3%|▎         | 276/8132 [33:50<20:11:09,  9.25s/it]"
     ]
    },
    {
     "name": "stdout",
     "output_type": "stream",
     "text": [
      "Image paths: ['38/38b608e0.jpg', 'ee/ee8ee952.jpg', '49/49b1b22b.jpg', '66/66f3a68c.jpg', '9f/9f08d0cf.jpg']\n",
      "Generating VQA for image: 38/38b608e0.jpg\n",
      "Generating VQA for image: ee/ee8ee952.jpg\n",
      "Generating VQA for image: 49/49b1b22b.jpg\n",
      "Generating VQA for image: 66/66f3a68c.jpg\n",
      "Generating VQA for image: 9f/9f08d0cf.jpg\n"
     ]
    },
    {
     "name": "stderr",
     "output_type": "stream",
     "text": [
      "\r  3%|▎         | 277/8132 [34:00<20:38:14,  9.46s/it]"
     ]
    },
    {
     "name": "stdout",
     "output_type": "stream",
     "text": [
      "Image paths: ['d6/d69609c9.jpg', 'ee/ee8ee952.jpg', '49/49b1b22b.jpg', '66/66f3a68c.jpg', '8a/8a970c53.jpg']\n",
      "Generating VQA for image: d6/d69609c9.jpg\n",
      "Generating VQA for image: ee/ee8ee952.jpg\n",
      "Generating VQA for image: 49/49b1b22b.jpg\n",
      "Generating VQA for image: 66/66f3a68c.jpg\n",
      "Generating VQA for image: 8a/8a970c53.jpg\n"
     ]
    },
    {
     "name": "stderr",
     "output_type": "stream",
     "text": [
      "\r  3%|▎         | 278/8132 [34:09<20:17:40,  9.30s/it]"
     ]
    },
    {
     "name": "stdout",
     "output_type": "stream",
     "text": [
      "Image paths: ['17/173ea07e.jpg', 'ee/ee8ee952.jpg', '49/49b1b22b.jpg', '66/66f3a68c.jpg', 'f4/f477a583.jpg']\n",
      "Generating VQA for image: 17/173ea07e.jpg\n",
      "Generating VQA for image: ee/ee8ee952.jpg\n",
      "Generating VQA for image: 49/49b1b22b.jpg\n",
      "Generating VQA for image: 66/66f3a68c.jpg\n",
      "Generating VQA for image: f4/f477a583.jpg\n"
     ]
    },
    {
     "name": "stderr",
     "output_type": "stream",
     "text": [
      "\r  3%|▎         | 279/8132 [34:18<20:35:13,  9.44s/it]"
     ]
    },
    {
     "name": "stdout",
     "output_type": "stream",
     "text": [
      "Image paths: ['51/51c8c34d.jpg', '2f/2f357c87.jpg', '85/85192c70.jpg']\n",
      "Generating VQA for image: 51/51c8c34d.jpg\n",
      "Generating VQA for image: 2f/2f357c87.jpg\n",
      "Generating VQA for image: 85/85192c70.jpg\n"
     ]
    },
    {
     "name": "stderr",
     "output_type": "stream",
     "text": [
      "\r  3%|▎         | 280/8132 [34:24<18:22:50,  8.43s/it]"
     ]
    },
    {
     "name": "stdout",
     "output_type": "stream",
     "text": [
      "Image paths: ['0f/0fa059c1.jpg', 'ee/ee8ee952.jpg', '49/49b1b22b.jpg', '66/66f3a68c.jpg', '27/27549135.jpg']\n",
      "Generating VQA for image: 0f/0fa059c1.jpg\n",
      "Generating VQA for image: ee/ee8ee952.jpg\n",
      "Generating VQA for image: 49/49b1b22b.jpg\n",
      "Generating VQA for image: 66/66f3a68c.jpg\n",
      "Generating VQA for image: 27/27549135.jpg\n"
     ]
    },
    {
     "name": "stderr",
     "output_type": "stream",
     "text": [
      "\r  3%|▎         | 281/8132 [34:33<18:21:02,  8.41s/it]"
     ]
    },
    {
     "name": "stdout",
     "output_type": "stream",
     "text": [
      "Image paths: ['9b/9bbd5c53.jpg', '0d/0d305496.jpg', '60/60c712f4.jpg', '14/1417f756.jpg', 'b9/b99515de.jpg']\n",
      "Generating VQA for image: 9b/9bbd5c53.jpg\n",
      "Generating VQA for image: 0d/0d305496.jpg\n",
      "Generating VQA for image: 60/60c712f4.jpg\n",
      "Generating VQA for image: 14/1417f756.jpg\n",
      "Generating VQA for image: b9/b99515de.jpg\n"
     ]
    },
    {
     "name": "stderr",
     "output_type": "stream",
     "text": [
      "\r  3%|▎         | 283/8132 [34:43<15:14:55,  6.99s/it]"
     ]
    },
    {
     "name": "stdout",
     "output_type": "stream",
     "text": [
      "Image paths: ['9a/9ac559b7.jpg', '6e/6ef5682c.jpg', '85/851d124e.jpg', '1b/1b9474d1.jpg', '69/69eae15f.jpg', '3c/3c10c0e5.jpg']\n",
      "Generating VQA for image: 9a/9ac559b7.jpg\n",
      "Generating VQA for image: 6e/6ef5682c.jpg\n",
      "Generating VQA for image: 85/851d124e.jpg\n",
      "Generating VQA for image: 1b/1b9474d1.jpg\n",
      "Generating VQA for image: 69/69eae15f.jpg\n",
      "Generating VQA for image: 3c/3c10c0e5.jpg\n"
     ]
    },
    {
     "name": "stderr",
     "output_type": "stream",
     "text": [
      "\r  3%|▎         | 284/8132 [34:56<18:09:20,  8.33s/it]"
     ]
    },
    {
     "name": "stdout",
     "output_type": "stream",
     "text": [
      "Image paths: ['a7/a7e11bf2.jpg', '2f/2f357c87.jpg', '85/85192c70.jpg']\n",
      "Generating VQA for image: a7/a7e11bf2.jpg\n",
      "Generating VQA for image: 2f/2f357c87.jpg\n",
      "Generating VQA for image: 85/85192c70.jpg\n"
     ]
    },
    {
     "name": "stderr",
     "output_type": "stream",
     "text": [
      "\r  4%|▎         | 285/8132 [35:02<16:48:30,  7.71s/it]"
     ]
    },
    {
     "name": "stdout",
     "output_type": "stream",
     "text": [
      "Image paths: ['c1/c1a3da84.jpg', 'd6/d6c7430a.jpg', '4c/4c780dbe.jpg', 'c7/c76bad04.jpg', '02/02a8b499.jpg', 'e0/e0596344.jpg', '24/24e9638e.jpg']\n",
      "Generating VQA for image: c1/c1a3da84.jpg\n",
      "Generating VQA for image: d6/d6c7430a.jpg\n",
      "Generating VQA for image: 4c/4c780dbe.jpg\n",
      "Generating VQA for image: c7/c76bad04.jpg\n",
      "Generating VQA for image: 02/02a8b499.jpg\n",
      "Generating VQA for image: e0/e0596344.jpg\n",
      "Generating VQA for image: 24/24e9638e.jpg\n"
     ]
    },
    {
     "name": "stderr",
     "output_type": "stream",
     "text": [
      "\r  4%|▎         | 286/8132 [35:16<20:59:10,  9.63s/it]"
     ]
    },
    {
     "name": "stdout",
     "output_type": "stream",
     "text": [
      "Image paths: ['a3/a3cd7eb1.jpg', 'cc/cc0334ab.jpg', '49/49b1b22b.jpg', '66/66f3a68c.jpg', 'ee/ee8ee952.jpg']\n",
      "Generating VQA for image: a3/a3cd7eb1.jpg\n",
      "Generating VQA for image: cc/cc0334ab.jpg\n",
      "Generating VQA for image: 49/49b1b22b.jpg\n",
      "Generating VQA for image: 66/66f3a68c.jpg\n",
      "Generating VQA for image: ee/ee8ee952.jpg\n"
     ]
    },
    {
     "name": "stderr",
     "output_type": "stream",
     "text": [
      "\r  4%|▎         | 287/8132 [35:26<20:41:18,  9.49s/it]"
     ]
    },
    {
     "name": "stdout",
     "output_type": "stream",
     "text": [
      "Image paths: ['46/46c0611a.jpg', '13/1379bc71.jpg', 'e6/e677be2c.jpg', 'df/dfc15890.jpg']\n",
      "Generating VQA for image: 46/46c0611a.jpg\n",
      "Generating VQA for image: 13/1379bc71.jpg\n",
      "Generating VQA for image: e6/e677be2c.jpg\n",
      "Generating VQA for image: df/dfc15890.jpg\n"
     ]
    },
    {
     "name": "stderr",
     "output_type": "stream",
     "text": [
      "\r  4%|▎         | 288/8132 [35:34<19:52:37,  9.12s/it]"
     ]
    },
    {
     "name": "stdout",
     "output_type": "stream",
     "text": [
      "Image paths: ['7b/7b9fdb8e.jpg', '5a/5adf1d4d.jpg', '20/20eb5bd7.jpg', 'cf/cf7ea1eb.jpg', '8d/8d3799fd.jpg', 'b0/b033fe27.jpg']\n",
      "Generating VQA for image: 7b/7b9fdb8e.jpg\n",
      "Generating VQA for image: 5a/5adf1d4d.jpg\n",
      "Generating VQA for image: 20/20eb5bd7.jpg\n",
      "Generating VQA for image: cf/cf7ea1eb.jpg\n",
      "Generating VQA for image: 8d/8d3799fd.jpg\n",
      "Generating VQA for image: b0/b033fe27.jpg\n"
     ]
    },
    {
     "name": "stderr",
     "output_type": "stream",
     "text": [
      "\r  4%|▎         | 289/8132 [35:46<21:53:13, 10.05s/it]"
     ]
    },
    {
     "name": "stdout",
     "output_type": "stream",
     "text": [
      "Image paths: ['b6/b6a25f85.jpg', 'c0/c0ced830.jpg', '3b/3b7bf2b4.jpg']\n",
      "Generating VQA for image: b6/b6a25f85.jpg\n",
      "Generating VQA for image: c0/c0ced830.jpg\n",
      "Generating VQA for image: 3b/3b7bf2b4.jpg\n"
     ]
    },
    {
     "name": "stderr",
     "output_type": "stream",
     "text": [
      "\r  4%|▎         | 290/8132 [35:51<18:46:55,  8.62s/it]"
     ]
    },
    {
     "name": "stdout",
     "output_type": "stream",
     "text": [
      "Image paths: ['3d/3dfc9642.jpg', '47/47f0c738.jpg', '9f/9f6f86ac.jpg', 'd8/d89025e7.jpg']\n",
      "Generating VQA for image: 3d/3dfc9642.jpg\n",
      "Generating VQA for image: 47/47f0c738.jpg\n",
      "Generating VQA for image: 9f/9f6f86ac.jpg\n",
      "Generating VQA for image: d8/d89025e7.jpg\n"
     ]
    },
    {
     "name": "stderr",
     "output_type": "stream",
     "text": [
      "\r  4%|▎         | 291/8132 [35:58<17:38:47,  8.10s/it]"
     ]
    },
    {
     "name": "stdout",
     "output_type": "stream",
     "text": [
      "Image paths: ['14/14112f88.jpg', '61/613b9f25.jpg', '8a/8a923ba9.jpg', 'a6/a6018b11.jpg', 'ca/ca5e6da2.jpg', 'bf/bf6cc216.jpg']\n",
      "Generating VQA for image: 14/14112f88.jpg\n",
      "Generating VQA for image: 61/613b9f25.jpg\n",
      "Generating VQA for image: 8a/8a923ba9.jpg\n",
      "Generating VQA for image: a6/a6018b11.jpg\n",
      "Generating VQA for image: ca/ca5e6da2.jpg\n",
      "Generating VQA for image: bf/bf6cc216.jpg\n"
     ]
    },
    {
     "name": "stderr",
     "output_type": "stream",
     "text": [
      "\r  4%|▎         | 292/8132 [36:11<20:32:50,  9.43s/it]"
     ]
    },
    {
     "name": "stdout",
     "output_type": "stream",
     "text": [
      "Image paths: ['37/37f539fb.jpg']\n",
      "Generating VQA for image: 37/37f539fb.jpg\n"
     ]
    },
    {
     "name": "stderr",
     "output_type": "stream",
     "text": [
      "\r  4%|▎         | 293/8132 [36:13<15:40:54,  7.20s/it]"
     ]
    },
    {
     "name": "stdout",
     "output_type": "stream",
     "text": [
      "Image paths: ['87/87f2e3a0.jpg', '68/68748aa2.jpg', 'e4/e40b5500.jpg', '3b/3bb94c26.jpg', '1b/1b796dba.jpg', 'e1/e197e1f8.jpg', 'd3/d3eb8c94.jpg', 'de/ded9f8b3.jpg']\n",
      "Generating VQA for image: 87/87f2e3a0.jpg\n",
      "Generating VQA for image: 68/68748aa2.jpg\n",
      "Generating VQA for image: e4/e40b5500.jpg\n",
      "Generating VQA for image: 3b/3bb94c26.jpg\n",
      "Generating VQA for image: 1b/1b796dba.jpg\n",
      "Generating VQA for image: e1/e197e1f8.jpg\n",
      "Generating VQA for image: d3/d3eb8c94.jpg\n",
      "Generating VQA for image: de/ded9f8b3.jpg\n"
     ]
    },
    {
     "name": "stderr",
     "output_type": "stream",
     "text": [
      "\r  4%|▎         | 294/8132 [36:28<20:49:10,  9.56s/it]"
     ]
    },
    {
     "name": "stdout",
     "output_type": "stream",
     "text": [
      "Image paths: ['e0/e0b885e0.jpg', 'ee/ee8ee952.jpg', '49/49b1b22b.jpg', '66/66f3a68c.jpg', '13/13a79ff0.jpg']\n",
      "Generating VQA for image: e0/e0b885e0.jpg\n",
      "Generating VQA for image: ee/ee8ee952.jpg\n",
      "Generating VQA for image: 49/49b1b22b.jpg\n",
      "Generating VQA for image: 66/66f3a68c.jpg\n",
      "Generating VQA for image: 13/13a79ff0.jpg\n"
     ]
    },
    {
     "name": "stderr",
     "output_type": "stream",
     "text": [
      "\r  4%|▎         | 295/8132 [36:36<20:04:18,  9.22s/it]"
     ]
    },
    {
     "name": "stdout",
     "output_type": "stream",
     "text": [
      "Image paths: ['b8/b8d45ca9.jpg', 'ee/ee8ee952.jpg', 'a3/a32ff0df.jpg', '66/66f3a68c.jpg', '49/49b1b22b.jpg']\n",
      "Generating VQA for image: b8/b8d45ca9.jpg\n",
      "Generating VQA for image: ee/ee8ee952.jpg\n",
      "Generating VQA for image: a3/a32ff0df.jpg\n",
      "Generating VQA for image: 66/66f3a68c.jpg\n",
      "Generating VQA for image: 49/49b1b22b.jpg\n"
     ]
    },
    {
     "name": "stderr",
     "output_type": "stream",
     "text": [
      "\r  4%|▎         | 297/8132 [36:48<16:42:20,  7.68s/it]"
     ]
    },
    {
     "name": "stdout",
     "output_type": "stream",
     "text": [
      "Image paths: ['ae/ae7e798a.jpg', '2f/2f357c87.jpg', '85/85192c70.jpg']\n",
      "Generating VQA for image: ae/ae7e798a.jpg\n",
      "Generating VQA for image: 2f/2f357c87.jpg\n",
      "Generating VQA for image: 85/85192c70.jpg\n"
     ]
    },
    {
     "name": "stderr",
     "output_type": "stream",
     "text": [
      "\r  4%|▎         | 298/8132 [36:54<15:44:57,  7.24s/it]"
     ]
    },
    {
     "name": "stdout",
     "output_type": "stream",
     "text": [
      "Image paths: ['87/874f86c4.jpg']\n",
      "Generating VQA for image: 87/874f86c4.jpg\n"
     ]
    },
    {
     "name": "stderr",
     "output_type": "stream",
     "text": [
      "\r  4%|▎         | 299/8132 [36:56<12:38:36,  5.81s/it]"
     ]
    },
    {
     "name": "stdout",
     "output_type": "stream",
     "text": [
      "Image paths: ['63/63325df8.jpg', 'ee/ee8ee952.jpg', '49/49b1b22b.jpg', '66/66f3a68c.jpg', '77/77dfd3a1.jpg']\n",
      "Generating VQA for image: 63/63325df8.jpg\n",
      "Generating VQA for image: ee/ee8ee952.jpg\n",
      "Generating VQA for image: 49/49b1b22b.jpg\n",
      "Generating VQA for image: 66/66f3a68c.jpg\n",
      "Generating VQA for image: 77/77dfd3a1.jpg\n"
     ]
    },
    {
     "name": "stderr",
     "output_type": "stream",
     "text": [
      "\r  4%|▎         | 300/8132 [37:05<14:28:09,  6.65s/it]"
     ]
    },
    {
     "name": "stdout",
     "output_type": "stream",
     "text": [
      "Image paths: ['82/821b4a4a.jpg', '07/072f9b04.jpg', '5c/5cee6078.jpg', '62/626363bf.jpg', '02/0217c0f7.jpg', 'a6/a6f32c2d.jpg']\n",
      "Generating VQA for image: 82/821b4a4a.jpg\n",
      "Generating VQA for image: 07/072f9b04.jpg\n",
      "Generating VQA for image: 5c/5cee6078.jpg\n",
      "Generating VQA for image: 62/626363bf.jpg\n",
      "Generating VQA for image: 02/0217c0f7.jpg\n",
      "Generating VQA for image: a6/a6f32c2d.jpg\n"
     ]
    },
    {
     "name": "stderr",
     "output_type": "stream",
     "text": [
      "\r  4%|▎         | 302/8132 [37:15<13:13:02,  6.08s/it]"
     ]
    },
    {
     "name": "stdout",
     "output_type": "stream",
     "text": [
      "Image paths: ['d5/d51194c0.jpg', 'ee/ee8ee952.jpg', '49/49b1b22b.jpg', '66/66f3a68c.jpg', '49/496c275a.jpg']\n",
      "Generating VQA for image: d5/d51194c0.jpg\n",
      "Generating VQA for image: ee/ee8ee952.jpg\n",
      "Generating VQA for image: 49/49b1b22b.jpg\n",
      "Generating VQA for image: 66/66f3a68c.jpg\n",
      "Generating VQA for image: 49/496c275a.jpg\n"
     ]
    },
    {
     "name": "stderr",
     "output_type": "stream",
     "text": [
      "\r  4%|▎         | 303/8132 [37:26<15:53:37,  7.31s/it]"
     ]
    },
    {
     "name": "stdout",
     "output_type": "stream",
     "text": [
      "Image paths: ['12/125b417a.jpg']\n",
      "Generating VQA for image: 12/125b417a.jpg\n"
     ]
    },
    {
     "name": "stderr",
     "output_type": "stream",
     "text": [
      "\r  4%|▎         | 304/8132 [37:28<12:57:14,  5.96s/it]"
     ]
    },
    {
     "name": "stdout",
     "output_type": "stream",
     "text": [
      "Image paths: ['aa/aa984eb9.jpg', '16/16a1166e.jpg', '50/50b14bc3.jpg', 'be/be497c40.jpg', '01/01398681.jpg', '71/712b768c.jpg']\n",
      "Generating VQA for image: aa/aa984eb9.jpg\n",
      "Generating VQA for image: 16/16a1166e.jpg\n",
      "Generating VQA for image: 50/50b14bc3.jpg\n",
      "Generating VQA for image: be/be497c40.jpg\n",
      "Generating VQA for image: 01/01398681.jpg\n",
      "Generating VQA for image: 71/712b768c.jpg\n"
     ]
    },
    {
     "name": "stderr",
     "output_type": "stream",
     "text": [
      "\r  4%|▍         | 305/8132 [37:42<17:08:38,  7.89s/it]"
     ]
    },
    {
     "name": "stdout",
     "output_type": "stream",
     "text": [
      "Image paths: ['e2/e2e74d51.jpg', 'ee/ee8ee952.jpg', '49/49b1b22b.jpg', '66/66f3a68c.jpg', 'e8/e8cfd27c.jpg']\n",
      "Generating VQA for image: e2/e2e74d51.jpg\n",
      "Generating VQA for image: ee/ee8ee952.jpg\n",
      "Generating VQA for image: 49/49b1b22b.jpg\n",
      "Generating VQA for image: 66/66f3a68c.jpg\n",
      "Generating VQA for image: e8/e8cfd27c.jpg\n"
     ]
    },
    {
     "name": "stderr",
     "output_type": "stream",
     "text": [
      "\r  4%|▍         | 306/8132 [37:52<18:30:58,  8.52s/it]"
     ]
    },
    {
     "name": "stdout",
     "output_type": "stream",
     "text": [
      "Image paths: ['aa/aa5a7690.jpg', '58/589eb177.jpg', '8f/8fe121be.jpg', 'b3/b3b79a77.jpg', 'cd/cd0e0a4f.jpg', '20/20533b83.jpg', 'db/dbcf2fde.jpg', 'c7/c7164f68.jpg']\n",
      "Generating VQA for image: aa/aa5a7690.jpg\n",
      "Generating VQA for image: 58/589eb177.jpg\n",
      "Generating VQA for image: 8f/8fe121be.jpg\n",
      "Generating VQA for image: b3/b3b79a77.jpg\n",
      "Generating VQA for image: cd/cd0e0a4f.jpg\n",
      "Generating VQA for image: 20/20533b83.jpg\n",
      "Generating VQA for image: db/dbcf2fde.jpg\n",
      "Generating VQA for image: c7/c7164f68.jpg\n"
     ]
    },
    {
     "name": "stderr",
     "output_type": "stream",
     "text": [
      "\r  4%|▍         | 307/8132 [38:08<23:21:37, 10.75s/it]"
     ]
    },
    {
     "name": "stdout",
     "output_type": "stream",
     "text": [
      "Image paths: ['4a/4a405a9a.jpg', 'ee/ee8ee952.jpg', '49/49b1b22b.jpg', '66/66f3a68c.jpg', '8e/8e8e7394.jpg']\n",
      "Generating VQA for image: 4a/4a405a9a.jpg\n",
      "Generating VQA for image: ee/ee8ee952.jpg\n",
      "Generating VQA for image: 49/49b1b22b.jpg\n",
      "Generating VQA for image: 66/66f3a68c.jpg\n",
      "Generating VQA for image: 8e/8e8e7394.jpg\n"
     ]
    },
    {
     "name": "stderr",
     "output_type": "stream",
     "text": [
      "\r  4%|▍         | 308/8132 [38:17<22:16:10, 10.25s/it]"
     ]
    },
    {
     "name": "stdout",
     "output_type": "stream",
     "text": [
      "Image paths: ['20/20533b83.jpg']\n",
      "Generating VQA for image: 20/20533b83.jpg\n"
     ]
    },
    {
     "name": "stderr",
     "output_type": "stream",
     "text": [
      "\r  4%|▍         | 309/8132 [38:19<16:55:31,  7.79s/it]"
     ]
    },
    {
     "name": "stdout",
     "output_type": "stream",
     "text": [
      "Image paths: ['d6/d6ccd10f.jpg', 'd8/d87e51cf.jpg', 'd3/d3c5d06d.jpg', '2a/2af5eb88.jpg', '36/36cae1bf.jpg']\n",
      "Generating VQA for image: d6/d6ccd10f.jpg\n",
      "Generating VQA for image: d8/d87e51cf.jpg\n",
      "Generating VQA for image: d3/d3c5d06d.jpg\n",
      "Generating VQA for image: 2a/2af5eb88.jpg\n",
      "Generating VQA for image: 36/36cae1bf.jpg\n"
     ]
    },
    {
     "name": "stderr",
     "output_type": "stream",
     "text": [
      "\r  4%|▍         | 310/8132 [38:29<18:00:28,  8.29s/it]"
     ]
    },
    {
     "name": "stdout",
     "output_type": "stream",
     "text": [
      "Image paths: ['fd/fd11f07f.jpg', '3a/3ae191ee.jpg', '6a/6ad91981.jpg', '30/30bc16e6.jpg', '69/69f0d402.jpg', '36/361b5bb1.jpg']\n",
      "Generating VQA for image: fd/fd11f07f.jpg\n",
      "Generating VQA for image: 3a/3ae191ee.jpg\n",
      "Generating VQA for image: 6a/6ad91981.jpg\n",
      "Generating VQA for image: 30/30bc16e6.jpg\n",
      "Generating VQA for image: 69/69f0d402.jpg\n",
      "Generating VQA for image: 36/361b5bb1.jpg\n"
     ]
    },
    {
     "name": "stderr",
     "output_type": "stream",
     "text": [
      "\r  4%|▍         | 311/8132 [38:41<20:24:34,  9.39s/it]"
     ]
    },
    {
     "name": "stdout",
     "output_type": "stream",
     "text": [
      "Image paths: ['5f/5fea6c32.jpg', 'f2/f2354c65.jpg', '11/110a7923.jpg', 'c2/c23277d2.jpg', '1f/1fc15875.jpg', '30/30e11484.jpg', 'fe/fe65f2eb.jpg', 'd9/d908f568.jpg', '79/7939dbdc.jpg', 'd5/d5e1b25b.jpg']\n",
      "Generating VQA for image: 5f/5fea6c32.jpg\n",
      "Generating VQA for image: f2/f2354c65.jpg\n",
      "Generating VQA for image: 11/110a7923.jpg\n",
      "Generating VQA for image: c2/c23277d2.jpg\n",
      "Generating VQA for image: 1f/1fc15875.jpg\n",
      "Generating VQA for image: 30/30e11484.jpg\n",
      "Generating VQA for image: fe/fe65f2eb.jpg\n",
      "Generating VQA for image: d9/d908f568.jpg\n",
      "Generating VQA for image: 79/7939dbdc.jpg\n",
      "Generating VQA for image: d5/d5e1b25b.jpg\n"
     ]
    },
    {
     "name": "stderr",
     "output_type": "stream",
     "text": [
      "\r  4%|▍         | 312/8132 [39:00<26:36:27, 12.25s/it]"
     ]
    },
    {
     "name": "stdout",
     "output_type": "stream",
     "text": [
      "Image paths: ['34/34624234.jpg', '2f/2f357c87.jpg', '85/85192c70.jpg']\n",
      "Generating VQA for image: 34/34624234.jpg\n",
      "Generating VQA for image: 2f/2f357c87.jpg\n",
      "Generating VQA for image: 85/85192c70.jpg\n"
     ]
    },
    {
     "name": "stderr",
     "output_type": "stream",
     "text": [
      "\r  4%|▍         | 313/8132 [39:06<22:35:37, 10.40s/it]"
     ]
    },
    {
     "name": "stdout",
     "output_type": "stream",
     "text": [
      "Image paths: ['1b/1baadaa7.jpg', '83/8370fd66.jpg', '9e/9e7f8b98.jpg', 'de/de5088ab.jpg', '13/13d2dcdd.jpg']\n",
      "Generating VQA for image: 1b/1baadaa7.jpg\n",
      "Generating VQA for image: 83/8370fd66.jpg\n",
      "Generating VQA for image: 9e/9e7f8b98.jpg\n",
      "Generating VQA for image: de/de5088ab.jpg\n",
      "Generating VQA for image: 13/13d2dcdd.jpg\n"
     ]
    },
    {
     "name": "stderr",
     "output_type": "stream",
     "text": [
      "\r  4%|▍         | 314/8132 [39:16<22:28:58, 10.35s/it]"
     ]
    },
    {
     "name": "stdout",
     "output_type": "stream",
     "text": [
      "Image paths: ['f9/f9833864.jpg', '39/394ebc25.jpg', 'e5/e52d606a.jpg', '2c/2c81cd18.jpg', '81/814577df.jpg']\n",
      "Generating VQA for image: f9/f9833864.jpg\n",
      "Generating VQA for image: 39/394ebc25.jpg\n",
      "Generating VQA for image: e5/e52d606a.jpg\n",
      "Generating VQA for image: 2c/2c81cd18.jpg\n",
      "Generating VQA for image: 81/814577df.jpg\n"
     ]
    },
    {
     "name": "stderr",
     "output_type": "stream",
     "text": [
      "\r  4%|▍         | 315/8132 [39:25<21:32:29,  9.92s/it]"
     ]
    },
    {
     "name": "stdout",
     "output_type": "stream",
     "text": [
      "Image paths: ['dd/dd018315.jpg', 'c0/c09095b9.jpg', '36/36d91b21.jpg', '79/799a1304.jpg', 'af/af67c8cf.jpg']\n",
      "Generating VQA for image: dd/dd018315.jpg\n",
      "Generating VQA for image: c0/c09095b9.jpg\n",
      "Generating VQA for image: 36/36d91b21.jpg\n",
      "Generating VQA for image: 79/799a1304.jpg\n",
      "Generating VQA for image: af/af67c8cf.jpg\n"
     ]
    },
    {
     "name": "stderr",
     "output_type": "stream",
     "text": [
      "\r  4%|▍         | 317/8132 [39:34<16:06:24,  7.42s/it]"
     ]
    },
    {
     "name": "stdout",
     "output_type": "stream",
     "text": [
      "Image paths: ['ac/ac5f696e.jpg', 'ee/ee8ee952.jpg', '49/49b1b22b.jpg', '66/66f3a68c.jpg', '1b/1b11abb1.jpg']\n",
      "Generating VQA for image: ac/ac5f696e.jpg\n",
      "Generating VQA for image: ee/ee8ee952.jpg\n",
      "Generating VQA for image: 49/49b1b22b.jpg\n",
      "Generating VQA for image: 66/66f3a68c.jpg\n",
      "Generating VQA for image: 1b/1b11abb1.jpg\n"
     ]
    },
    {
     "name": "stderr",
     "output_type": "stream",
     "text": [
      "\r  4%|▍         | 318/8132 [39:42<16:42:32,  7.70s/it]"
     ]
    },
    {
     "name": "stdout",
     "output_type": "stream",
     "text": [
      "Image paths: ['1a/1ab4846c.jpg', '61/615915a3.jpg', 'b2/b2febcad.jpg', '1f/1f73b672.jpg', '69/69c7bd3b.jpg', '55/55ca922a.jpg']\n",
      "Generating VQA for image: 1a/1ab4846c.jpg\n",
      "Generating VQA for image: 61/615915a3.jpg\n",
      "Generating VQA for image: b2/b2febcad.jpg\n",
      "Generating VQA for image: 1f/1f73b672.jpg\n",
      "Generating VQA for image: 69/69c7bd3b.jpg\n",
      "Generating VQA for image: 55/55ca922a.jpg\n"
     ]
    },
    {
     "name": "stderr",
     "output_type": "stream",
     "text": [
      "\r  4%|▍         | 319/8132 [39:54<18:42:07,  8.62s/it]"
     ]
    },
    {
     "name": "stdout",
     "output_type": "stream",
     "text": [
      "Image paths: ['9d/9db62608.jpg', 'cc/cce601ab.jpg', 'd8/d87e51cf.jpg', '2a/2af5eb88.jpg', '36/36cae1bf.jpg']\n",
      "Generating VQA for image: 9d/9db62608.jpg\n",
      "Generating VQA for image: cc/cce601ab.jpg\n",
      "Generating VQA for image: d8/d87e51cf.jpg\n",
      "Generating VQA for image: 2a/2af5eb88.jpg\n",
      "Generating VQA for image: 36/36cae1bf.jpg\n"
     ]
    },
    {
     "name": "stderr",
     "output_type": "stream",
     "text": [
      "\r  4%|▍         | 320/8132 [40:02<18:45:49,  8.65s/it]"
     ]
    },
    {
     "name": "stdout",
     "output_type": "stream",
     "text": [
      "Image paths: ['80/8031be27.jpg', '16/160e3696.jpg', 'fc/fc321052.jpg', 'cf/cf7bf4c3.jpg', '53/530a80f6.jpg', 'c5/c5b8bd66.jpg']\n",
      "Generating VQA for image: 80/8031be27.jpg\n",
      "Generating VQA for image: 16/160e3696.jpg\n",
      "Generating VQA for image: fc/fc321052.jpg\n",
      "Generating VQA for image: cf/cf7bf4c3.jpg\n",
      "Generating VQA for image: 53/530a80f6.jpg\n",
      "Generating VQA for image: c5/c5b8bd66.jpg\n"
     ]
    },
    {
     "name": "stderr",
     "output_type": "stream",
     "text": [
      "\r  4%|▍         | 321/8132 [40:13<20:01:31,  9.23s/it]"
     ]
    },
    {
     "name": "stdout",
     "output_type": "stream",
     "text": [
      "Image paths: ['b0/b0fbd2a3.jpg', '24/24fbf557.jpg', 'b7/b71d94a8.jpg', 'c2/c2e6836e.jpg', '55/55f09637.jpg', '5b/5bf9f747.jpg', 'fd/fdaa7532.jpg']\n",
      "Generating VQA for image: b0/b0fbd2a3.jpg\n",
      "Generating VQA for image: 24/24fbf557.jpg\n",
      "Generating VQA for image: b7/b71d94a8.jpg\n",
      "Generating VQA for image: c2/c2e6836e.jpg\n",
      "Generating VQA for image: 55/55f09637.jpg\n",
      "Generating VQA for image: 5b/5bf9f747.jpg\n",
      "Generating VQA for image: fd/fdaa7532.jpg\n"
     ]
    },
    {
     "name": "stderr",
     "output_type": "stream",
     "text": [
      "\r  4%|▍         | 322/8132 [40:26<22:31:00, 10.38s/it]"
     ]
    },
    {
     "name": "stdout",
     "output_type": "stream",
     "text": [
      "Image paths: ['2b/2b769369.jpg', 'e7/e76b608e.jpg', 'ee/eee0de44.jpg', '56/566685cb.jpg', '7a/7a15fbcc.jpg', '81/81eb7b75.jpg', '8f/8fa048d3.jpg']\n",
      "Generating VQA for image: 2b/2b769369.jpg\n",
      "Generating VQA for image: e7/e76b608e.jpg\n",
      "Generating VQA for image: ee/eee0de44.jpg\n",
      "Generating VQA for image: 56/566685cb.jpg\n",
      "Generating VQA for image: 7a/7a15fbcc.jpg\n",
      "Generating VQA for image: 81/81eb7b75.jpg\n",
      "Generating VQA for image: 8f/8fa048d3.jpg\n"
     ]
    },
    {
     "name": "stderr",
     "output_type": "stream",
     "text": [
      "\r  4%|▍         | 323/8132 [40:39<23:45:27, 10.95s/it]"
     ]
    },
    {
     "name": "stdout",
     "output_type": "stream",
     "text": [
      "Image paths: ['d1/d1e2f39d.jpg', '88/889112ea.jpg', '9b/9bdddf97.jpg', '2a/2a8d8c7e.jpg', 'ac/ac672fe5.jpg', '94/94cf31e1.jpg', 'c6/c66a81fb.jpg']\n",
      "Generating VQA for image: d1/d1e2f39d.jpg\n",
      "Generating VQA for image: 88/889112ea.jpg\n",
      "Generating VQA for image: 9b/9bdddf97.jpg\n",
      "Generating VQA for image: 2a/2a8d8c7e.jpg\n",
      "Generating VQA for image: ac/ac672fe5.jpg\n",
      "Generating VQA for image: 94/94cf31e1.jpg\n",
      "Generating VQA for image: c6/c66a81fb.jpg\n"
     ]
    },
    {
     "name": "stderr",
     "output_type": "stream",
     "text": [
      "\r  4%|▍         | 324/8132 [40:57<28:17:04, 13.04s/it]"
     ]
    },
    {
     "name": "stdout",
     "output_type": "stream",
     "text": [
      "Image paths: ['b2/b2a1e3c8.jpg']\n",
      "Generating VQA for image: b2/b2a1e3c8.jpg\n"
     ]
    },
    {
     "name": "stderr",
     "output_type": "stream",
     "text": [
      "\r  4%|▍         | 325/8132 [40:59<21:12:12,  9.78s/it]"
     ]
    },
    {
     "name": "stdout",
     "output_type": "stream",
     "text": [
      "Image paths: ['e0/e070a116.jpg', '2f/2f357c87.jpg', '85/85192c70.jpg']\n",
      "Generating VQA for image: e0/e070a116.jpg\n",
      "Generating VQA for image: 2f/2f357c87.jpg\n",
      "Generating VQA for image: 85/85192c70.jpg\n"
     ]
    },
    {
     "name": "stderr",
     "output_type": "stream",
     "text": [
      "\r  4%|▍         | 327/8132 [41:04<14:23:32,  6.64s/it]"
     ]
    },
    {
     "name": "stdout",
     "output_type": "stream",
     "text": [
      "Image paths: ['96/965c85a5.jpg', '45/45ee2a2e.jpg', 'ee/ee8ee952.jpg', '66/66f3a68c.jpg', '49/49b1b22b.jpg']\n",
      "Generating VQA for image: 96/965c85a5.jpg\n",
      "Generating VQA for image: 45/45ee2a2e.jpg\n",
      "Generating VQA for image: ee/ee8ee952.jpg\n",
      "Generating VQA for image: 66/66f3a68c.jpg\n",
      "Generating VQA for image: 49/49b1b22b.jpg\n"
     ]
    },
    {
     "name": "stderr",
     "output_type": "stream",
     "text": [
      "\r  4%|▍         | 329/8132 [41:13<12:14:00,  5.64s/it]"
     ]
    },
    {
     "name": "stdout",
     "output_type": "stream",
     "text": [
      "Image paths: ['b7/b7e36cf2.jpg']\n",
      "Generating VQA for image: b7/b7e36cf2.jpg\n"
     ]
    },
    {
     "name": "stderr",
     "output_type": "stream",
     "text": [
      "\r  4%|▍         | 330/8132 [41:15<10:31:45,  4.86s/it]"
     ]
    },
    {
     "name": "stdout",
     "output_type": "stream",
     "text": [
      "Image paths: ['8d/8d39646a.jpg', '02/026a8c30.jpg', '76/7616bc7d.jpg', '02/0226e628.jpg', 'cb/cbb9fb55.jpg', 'b5/b5618ae1.jpg']\n",
      "Generating VQA for image: 8d/8d39646a.jpg\n",
      "Generating VQA for image: 02/026a8c30.jpg\n",
      "Generating VQA for image: 76/7616bc7d.jpg\n",
      "Generating VQA for image: 02/0226e628.jpg\n",
      "Generating VQA for image: cb/cbb9fb55.jpg\n",
      "Generating VQA for image: b5/b5618ae1.jpg\n"
     ]
    },
    {
     "name": "stderr",
     "output_type": "stream",
     "text": [
      "\r  4%|▍         | 331/8132 [41:26<13:59:29,  6.46s/it]"
     ]
    },
    {
     "name": "stdout",
     "output_type": "stream",
     "text": [
      "Image paths: ['63/6342ef76.jpg', '3e/3e07231c.jpg', 'f4/f44d7924.jpg', '8b/8b0d04c4.jpg']\n",
      "Generating VQA for image: 63/6342ef76.jpg\n",
      "Generating VQA for image: 3e/3e07231c.jpg\n",
      "Generating VQA for image: f4/f44d7924.jpg\n",
      "Generating VQA for image: 8b/8b0d04c4.jpg\n"
     ]
    },
    {
     "name": "stderr",
     "output_type": "stream",
     "text": [
      "\r  4%|▍         | 332/8132 [41:34<14:23:40,  6.64s/it]"
     ]
    },
    {
     "name": "stdout",
     "output_type": "stream",
     "text": [
      "Image paths: ['7d/7d4b6adf.jpg', '8c/8cee102a.jpg', 'a4/a49a2beb.jpg', 'b1/b1490176.jpg']\n",
      "Generating VQA for image: 7d/7d4b6adf.jpg\n",
      "Generating VQA for image: 8c/8cee102a.jpg\n",
      "Generating VQA for image: a4/a49a2beb.jpg\n",
      "Generating VQA for image: b1/b1490176.jpg\n"
     ]
    },
    {
     "name": "stderr",
     "output_type": "stream",
     "text": [
      "\r  4%|▍         | 333/8132 [41:41<14:35:45,  6.74s/it]"
     ]
    },
    {
     "name": "stdout",
     "output_type": "stream",
     "text": [
      "Image paths: ['6f/6f78dd34.jpg', 'cd/cd6c3d35.jpg', '20/20533b83.jpg', 'fc/fcd6229d.jpg', 'cf/cf48a875.jpg', 'ec/ecc6f4f6.jpg']\n",
      "Generating VQA for image: 6f/6f78dd34.jpg\n",
      "Generating VQA for image: cd/cd6c3d35.jpg\n",
      "Generating VQA for image: 20/20533b83.jpg\n",
      "Generating VQA for image: fc/fcd6229d.jpg\n",
      "Generating VQA for image: cf/cf48a875.jpg\n",
      "Generating VQA for image: ec/ecc6f4f6.jpg\n"
     ]
    },
    {
     "name": "stderr",
     "output_type": "stream",
     "text": [
      "\r  4%|▍         | 334/8132 [41:52<17:12:23,  7.94s/it]"
     ]
    },
    {
     "name": "stdout",
     "output_type": "stream",
     "text": [
      "Image paths: ['95/953722db.jpg', 'b6/b67abc20.jpg', '79/7949bdd1.jpg', '9e/9e3a234a.jpg', '11/11c39840.jpg']\n",
      "Generating VQA for image: 95/953722db.jpg\n",
      "Generating VQA for image: b6/b67abc20.jpg\n",
      "Generating VQA for image: 79/7949bdd1.jpg\n",
      "Generating VQA for image: 9e/9e3a234a.jpg\n",
      "Generating VQA for image: 11/11c39840.jpg\n"
     ]
    },
    {
     "name": "stderr",
     "output_type": "stream",
     "text": [
      "\r  4%|▍         | 335/8132 [42:01<18:15:24,  8.43s/it]"
     ]
    },
    {
     "name": "stdout",
     "output_type": "stream",
     "text": [
      "Image paths: ['1e/1e28d2b4.jpg', '2f/2f357c87.jpg', '85/85192c70.jpg']\n",
      "Generating VQA for image: 1e/1e28d2b4.jpg\n",
      "Generating VQA for image: 2f/2f357c87.jpg\n",
      "Generating VQA for image: 85/85192c70.jpg\n"
     ]
    },
    {
     "name": "stderr",
     "output_type": "stream",
     "text": [
      "\r  4%|▍         | 336/8132 [42:07<16:29:20,  7.61s/it]"
     ]
    },
    {
     "name": "stdout",
     "output_type": "stream",
     "text": [
      "Image paths: ['06/066bcbe1.jpg', 'd8/d87e51cf.jpg', '8e/8e01be33.jpg', '2a/2af5eb88.jpg', '36/36cae1bf.jpg']\n",
      "Generating VQA for image: 06/066bcbe1.jpg\n",
      "Generating VQA for image: d8/d87e51cf.jpg\n",
      "Generating VQA for image: 8e/8e01be33.jpg\n",
      "Generating VQA for image: 2a/2af5eb88.jpg\n",
      "Generating VQA for image: 36/36cae1bf.jpg\n"
     ]
    },
    {
     "name": "stderr",
     "output_type": "stream",
     "text": [
      "\r  4%|▍         | 337/8132 [42:15<16:46:32,  7.75s/it]"
     ]
    },
    {
     "name": "stdout",
     "output_type": "stream",
     "text": [
      "Image paths: ['6f/6fbd3169.jpg', 'ee/ee8ee952.jpg', '49/49b1b22b.jpg', '66/66f3a68c.jpg', '41/41680989.jpg']\n",
      "Generating VQA for image: 6f/6fbd3169.jpg\n",
      "Generating VQA for image: ee/ee8ee952.jpg\n",
      "Generating VQA for image: 49/49b1b22b.jpg\n",
      "Generating VQA for image: 66/66f3a68c.jpg\n",
      "Generating VQA for image: 41/41680989.jpg\n"
     ]
    },
    {
     "name": "stderr",
     "output_type": "stream",
     "text": [
      "\r  4%|▍         | 338/8132 [42:23<17:14:55,  7.97s/it]"
     ]
    },
    {
     "name": "stdout",
     "output_type": "stream",
     "text": [
      "Image paths: ['90/9064d02e.jpg']\n",
      "Generating VQA for image: 90/9064d02e.jpg\n"
     ]
    },
    {
     "name": "stderr",
     "output_type": "stream",
     "text": [
      "\r  4%|▍         | 339/8132 [42:25<13:16:13,  6.13s/it]"
     ]
    },
    {
     "name": "stdout",
     "output_type": "stream",
     "text": [
      "Image paths: ['d9/d96e58b0.jpg', 'c8/c88133ce.jpg', '53/531048f5.jpg', 'f0/f070bb15.jpg', 'df/df15f5e2.jpg']\n",
      "Generating VQA for image: d9/d96e58b0.jpg\n",
      "Generating VQA for image: c8/c88133ce.jpg\n",
      "Generating VQA for image: 53/531048f5.jpg\n",
      "Generating VQA for image: f0/f070bb15.jpg\n",
      "Generating VQA for image: df/df15f5e2.jpg\n"
     ]
    },
    {
     "name": "stderr",
     "output_type": "stream",
     "text": [
      "\r  4%|▍         | 340/8132 [42:34<15:04:05,  6.96s/it]"
     ]
    },
    {
     "name": "stdout",
     "output_type": "stream",
     "text": [
      "Image paths: ['a3/a3feebf0.jpg', 'd8/d87e51cf.jpg', 'f5/f5fa049a.jpg', '36/36cae1bf.jpg', '2a/2af5eb88.jpg']\n",
      "Generating VQA for image: a3/a3feebf0.jpg\n",
      "Generating VQA for image: d8/d87e51cf.jpg\n",
      "Generating VQA for image: f5/f5fa049a.jpg\n",
      "Generating VQA for image: 36/36cae1bf.jpg\n",
      "Generating VQA for image: 2a/2af5eb88.jpg\n"
     ]
    },
    {
     "name": "stderr",
     "output_type": "stream",
     "text": [
      "\r  4%|▍         | 342/8132 [42:42<12:15:26,  5.66s/it]"
     ]
    },
    {
     "name": "stdout",
     "output_type": "stream",
     "text": [
      "Image paths: ['50/50ee3c4c.jpg', '8d/8d2a75a1.jpg', '31/316308ba.jpg', 'c8/c82dcb45.jpg', '0b/0b3c0854.jpg', '0c/0c37328f.jpg', '65/65fff764.jpg', '43/43abc800.jpg', '6a/6a3c8dbb.jpg']\n",
      "Generating VQA for image: 50/50ee3c4c.jpg\n",
      "Generating VQA for image: 8d/8d2a75a1.jpg\n",
      "Generating VQA for image: 31/316308ba.jpg\n",
      "Generating VQA for image: c8/c82dcb45.jpg\n",
      "Generating VQA for image: 0b/0b3c0854.jpg\n",
      "Generating VQA for image: 0c/0c37328f.jpg\n",
      "Generating VQA for image: 65/65fff764.jpg\n",
      "Generating VQA for image: 43/43abc800.jpg\n",
      "Generating VQA for image: 6a/6a3c8dbb.jpg\n"
     ]
    },
    {
     "name": "stderr",
     "output_type": "stream",
     "text": [
      "\r  4%|▍         | 344/8132 [43:00<14:47:32,  6.84s/it]"
     ]
    },
    {
     "name": "stdout",
     "output_type": "stream",
     "text": [
      "Image paths: ['2f/2fbce6cc.jpg', 'ee/ee8ee952.jpg', '49/49b1b22b.jpg', '66/66f3a68c.jpg', 'b1/b1113f78.jpg']\n",
      "Generating VQA for image: 2f/2fbce6cc.jpg\n",
      "Generating VQA for image: ee/ee8ee952.jpg\n",
      "Generating VQA for image: 49/49b1b22b.jpg\n",
      "Generating VQA for image: 66/66f3a68c.jpg\n",
      "Generating VQA for image: b1/b1113f78.jpg\n"
     ]
    },
    {
     "name": "stderr",
     "output_type": "stream",
     "text": [
      "\r  4%|▍         | 345/8132 [43:08<15:31:11,  7.18s/it]"
     ]
    },
    {
     "name": "stdout",
     "output_type": "stream",
     "text": [
      "Image paths: ['af/afd88005.jpg', 'fb/fbb9d506.jpg', '7a/7af3e499.jpg', 'a8/a88aa85f.jpg', '4e/4e28d7cf.jpg']\n",
      "Generating VQA for image: af/afd88005.jpg\n",
      "Generating VQA for image: fb/fbb9d506.jpg\n",
      "Generating VQA for image: 7a/7af3e499.jpg\n",
      "Generating VQA for image: a8/a88aa85f.jpg\n",
      "Generating VQA for image: 4e/4e28d7cf.jpg\n"
     ]
    },
    {
     "name": "stderr",
     "output_type": "stream",
     "text": [
      "\r  4%|▍         | 346/8132 [43:16<15:57:13,  7.38s/it]"
     ]
    },
    {
     "name": "stdout",
     "output_type": "stream",
     "text": [
      "Image paths: ['2b/2b8a597f.jpg', 'aa/aa6d6d48.jpg', '76/768c0c44.jpg', 'b4/b41d1f9c.jpg', '27/27d433b4.jpg', '9a/9a21a9bd.jpg']\n",
      "Generating VQA for image: 2b/2b8a597f.jpg\n",
      "Generating VQA for image: aa/aa6d6d48.jpg\n",
      "Generating VQA for image: 76/768c0c44.jpg\n",
      "Generating VQA for image: b4/b41d1f9c.jpg\n",
      "Generating VQA for image: 27/27d433b4.jpg\n",
      "Generating VQA for image: 9a/9a21a9bd.jpg\n"
     ]
    },
    {
     "name": "stderr",
     "output_type": "stream",
     "text": [
      "\r  4%|▍         | 347/8132 [43:28<18:25:59,  8.52s/it]"
     ]
    },
    {
     "name": "stdout",
     "output_type": "stream",
     "text": [
      "Image paths: ['2f/2f35fd98.jpg', '47/47f0c738.jpg', '9f/9f6f86ac.jpg', 'd8/d89025e7.jpg']\n",
      "Generating VQA for image: 2f/2f35fd98.jpg\n",
      "Generating VQA for image: 47/47f0c738.jpg\n",
      "Generating VQA for image: 9f/9f6f86ac.jpg\n",
      "Generating VQA for image: d8/d89025e7.jpg\n"
     ]
    },
    {
     "name": "stderr",
     "output_type": "stream",
     "text": [
      "\r  4%|▍         | 348/8132 [43:34<17:05:00,  7.90s/it]"
     ]
    },
    {
     "name": "stdout",
     "output_type": "stream",
     "text": [
      "Image paths: ['e1/e1a916a3.jpg', 'cc/cc8246ff.jpg', '9b/9b85a460.jpg', '93/9373e1ad.jpg', '22/2289f6b0.jpg', '33/331bebe5.jpg', '5b/5b2b7483.jpg', '6a/6af3c1dd.jpg']\n",
      "Generating VQA for image: e1/e1a916a3.jpg\n",
      "Generating VQA for image: cc/cc8246ff.jpg\n",
      "Generating VQA for image: 9b/9b85a460.jpg\n",
      "Generating VQA for image: 93/9373e1ad.jpg\n",
      "Generating VQA for image: 22/2289f6b0.jpg\n",
      "Generating VQA for image: 33/331bebe5.jpg\n",
      "Generating VQA for image: 5b/5b2b7483.jpg\n",
      "Generating VQA for image: 6a/6af3c1dd.jpg\n"
     ]
    },
    {
     "name": "stderr",
     "output_type": "stream",
     "text": [
      "\r  4%|▍         | 349/8132 [43:50<21:45:45, 10.07s/it]"
     ]
    },
    {
     "name": "stdout",
     "output_type": "stream",
     "text": [
      "Image paths: ['5c/5c27e4f3.jpg', 'ee/ee8ee952.jpg', '49/49b1b22b.jpg', '66/66f3a68c.jpg', '70/7065076a.jpg']\n",
      "Generating VQA for image: 5c/5c27e4f3.jpg\n",
      "Generating VQA for image: ee/ee8ee952.jpg\n",
      "Generating VQA for image: 49/49b1b22b.jpg\n",
      "Generating VQA for image: 66/66f3a68c.jpg\n",
      "Generating VQA for image: 70/7065076a.jpg\n"
     ]
    },
    {
     "name": "stderr",
     "output_type": "stream",
     "text": [
      "\r  4%|▍         | 350/8132 [43:59<21:02:23,  9.73s/it]"
     ]
    },
    {
     "name": "stdout",
     "output_type": "stream",
     "text": [
      "Image paths: ['7e/7ef15467.jpg', '1a/1a7eb446.jpg', 'e8/e88ab799.jpg', '16/161d089a.jpg', '78/7898636b.jpg', 'f9/f9572665.jpg']\n",
      "Generating VQA for image: 7e/7ef15467.jpg\n",
      "Generating VQA for image: 1a/1a7eb446.jpg\n",
      "Generating VQA for image: e8/e88ab799.jpg\n",
      "Generating VQA for image: 16/161d089a.jpg\n",
      "Generating VQA for image: 78/7898636b.jpg\n",
      "Generating VQA for image: f9/f9572665.jpg\n"
     ]
    },
    {
     "name": "stderr",
     "output_type": "stream",
     "text": [
      "\r  4%|▍         | 351/8132 [44:09<21:36:05,  9.99s/it]"
     ]
    },
    {
     "name": "stdout",
     "output_type": "stream",
     "text": [
      "Image paths: ['26/26a875ad.jpg', 'd8/d87e51cf.jpg', '91/913fb6db.jpg', '36/36cae1bf.jpg', '2a/2af5eb88.jpg']\n",
      "Generating VQA for image: 26/26a875ad.jpg\n",
      "Generating VQA for image: d8/d87e51cf.jpg\n",
      "Generating VQA for image: 91/913fb6db.jpg\n",
      "Generating VQA for image: 36/36cae1bf.jpg\n",
      "Generating VQA for image: 2a/2af5eb88.jpg\n"
     ]
    },
    {
     "name": "stderr",
     "output_type": "stream",
     "text": [
      "\r  4%|▍         | 352/8132 [44:18<20:38:18,  9.55s/it]"
     ]
    },
    {
     "name": "stdout",
     "output_type": "stream",
     "text": [
      "Image paths: ['9c/9c422826.jpg', 'fa/fae343de.jpg', '4c/4cb0620a.jpg', 'a8/a88698d4.jpg', '4c/4cff5203.jpg', '9e/9ec1c713.jpg']\n",
      "Generating VQA for image: 9c/9c422826.jpg\n",
      "Generating VQA for image: fa/fae343de.jpg\n",
      "Generating VQA for image: 4c/4cb0620a.jpg\n",
      "Generating VQA for image: a8/a88698d4.jpg\n",
      "Generating VQA for image: 4c/4cff5203.jpg\n",
      "Generating VQA for image: 9e/9ec1c713.jpg\n"
     ]
    },
    {
     "name": "stderr",
     "output_type": "stream",
     "text": [
      "\r  4%|▍         | 353/8132 [44:29<21:52:13, 10.12s/it]"
     ]
    },
    {
     "name": "stdout",
     "output_type": "stream",
     "text": [
      "Image paths: ['87/87c11ce5.jpg']\n",
      "Generating VQA for image: 87/87c11ce5.jpg\n"
     ]
    },
    {
     "name": "stderr",
     "output_type": "stream",
     "text": [
      "\r  4%|▍         | 355/8132 [44:31<12:41:22,  5.87s/it]"
     ]
    },
    {
     "name": "stdout",
     "output_type": "stream",
     "text": [
      "Image paths: ['ca/cafa39ea.jpg', '22/22730e24.jpg', 'ef/ef3c3de1.jpg', 'd2/d227ab4f.jpg', '61/610b36b8.jpg', '9e/9e0cff50.jpg']\n",
      "Generating VQA for image: ca/cafa39ea.jpg\n",
      "Generating VQA for image: 22/22730e24.jpg\n",
      "Generating VQA for image: ef/ef3c3de1.jpg\n",
      "Generating VQA for image: d2/d227ab4f.jpg\n",
      "Generating VQA for image: 61/610b36b8.jpg\n",
      "Generating VQA for image: 9e/9e0cff50.jpg\n"
     ]
    },
    {
     "name": "stderr",
     "output_type": "stream",
     "text": [
      "\r  4%|▍         | 356/8132 [44:44<16:24:17,  7.59s/it]"
     ]
    },
    {
     "name": "stdout",
     "output_type": "stream",
     "text": [
      "Image paths: ['ad/ad7653af.jpg', '2f/2f357c87.jpg', '85/85192c70.jpg']\n",
      "Generating VQA for image: ad/ad7653af.jpg\n",
      "Generating VQA for image: 2f/2f357c87.jpg\n",
      "Generating VQA for image: 85/85192c70.jpg\n"
     ]
    },
    {
     "name": "stderr",
     "output_type": "stream",
     "text": [
      "\r  4%|▍         | 357/8132 [44:50<15:19:58,  7.10s/it]"
     ]
    },
    {
     "name": "stdout",
     "output_type": "stream",
     "text": [
      "Image paths: ['f3/f322b65f.jpg', 'ee/ee8ee952.jpg', '49/49b1b22b.jpg', '66/66f3a68c.jpg', '73/730b9840.jpg']\n",
      "Generating VQA for image: f3/f322b65f.jpg\n",
      "Generating VQA for image: ee/ee8ee952.jpg\n",
      "Generating VQA for image: 49/49b1b22b.jpg\n",
      "Generating VQA for image: 66/66f3a68c.jpg\n",
      "Generating VQA for image: 73/730b9840.jpg\n"
     ]
    },
    {
     "name": "stderr",
     "output_type": "stream",
     "text": [
      "\r  4%|▍         | 358/8132 [44:58<16:12:02,  7.50s/it]"
     ]
    },
    {
     "name": "stdout",
     "output_type": "stream",
     "text": [
      "Image paths: ['e5/e50db716.jpg', 'dd/dd20a0e5.jpg', 'ee/ee8ee952.jpg', '66/66f3a68c.jpg', '49/49b1b22b.jpg']\n",
      "Generating VQA for image: e5/e50db716.jpg\n",
      "Generating VQA for image: dd/dd20a0e5.jpg\n",
      "Generating VQA for image: ee/ee8ee952.jpg\n",
      "Generating VQA for image: 66/66f3a68c.jpg\n",
      "Generating VQA for image: 49/49b1b22b.jpg\n"
     ]
    },
    {
     "name": "stderr",
     "output_type": "stream",
     "text": [
      "\r  4%|▍         | 359/8132 [45:07<17:16:27,  8.00s/it]"
     ]
    },
    {
     "name": "stdout",
     "output_type": "stream",
     "text": [
      "Image paths: ['c1/c1d24a11.jpg', '2f/2f357c87.jpg', '85/85192c70.jpg']\n",
      "Generating VQA for image: c1/c1d24a11.jpg\n",
      "Generating VQA for image: 2f/2f357c87.jpg\n",
      "Generating VQA for image: 85/85192c70.jpg\n"
     ]
    },
    {
     "name": "stderr",
     "output_type": "stream",
     "text": [
      "\r  4%|▍         | 360/8132 [45:13<15:52:44,  7.36s/it]"
     ]
    },
    {
     "name": "stdout",
     "output_type": "stream",
     "text": [
      "Image paths: ['78/7804b079.jpg', 'ee/ee8ee952.jpg', '49/49b1b22b.jpg', '66/66f3a68c.jpg', '34/34944310.jpg']\n",
      "Generating VQA for image: 78/7804b079.jpg\n",
      "Generating VQA for image: ee/ee8ee952.jpg\n",
      "Generating VQA for image: 49/49b1b22b.jpg\n",
      "Generating VQA for image: 66/66f3a68c.jpg\n",
      "Generating VQA for image: 34/34944310.jpg\n"
     ]
    },
    {
     "name": "stderr",
     "output_type": "stream",
     "text": [
      "\r  4%|▍         | 361/8132 [45:23<17:16:40,  8.00s/it]"
     ]
    },
    {
     "name": "stdout",
     "output_type": "stream",
     "text": [
      "Image paths: ['a7/a7d2c900.jpg', '9c/9ce3d15e.jpg', '81/8113de8f.jpg', '00/008a8f42.jpg', 'cf/cf49c72b.jpg', 'a9/a9f683ec.jpg', '64/64499623.jpg']\n",
      "Generating VQA for image: a7/a7d2c900.jpg\n",
      "Generating VQA for image: 9c/9ce3d15e.jpg\n",
      "Generating VQA for image: 81/8113de8f.jpg\n",
      "Generating VQA for image: 00/008a8f42.jpg\n",
      "Generating VQA for image: cf/cf49c72b.jpg\n",
      "Generating VQA for image: a9/a9f683ec.jpg\n",
      "Generating VQA for image: 64/64499623.jpg\n"
     ]
    },
    {
     "name": "stderr",
     "output_type": "stream",
     "text": [
      "\r  4%|▍         | 363/8132 [45:37<16:14:00,  7.52s/it]"
     ]
    },
    {
     "name": "stdout",
     "output_type": "stream",
     "text": [
      "Image paths: ['11/11ac1d98.jpg', '35/35414980.jpg', '57/5740a44b.jpg', '35/35d3e8c9.jpg', 'ea/ea51a2b9.jpg']\n",
      "Generating VQA for image: 11/11ac1d98.jpg\n",
      "Generating VQA for image: 35/35414980.jpg\n",
      "Generating VQA for image: 57/5740a44b.jpg\n",
      "Generating VQA for image: 35/35d3e8c9.jpg\n",
      "Generating VQA for image: ea/ea51a2b9.jpg\n"
     ]
    },
    {
     "name": "stderr",
     "output_type": "stream",
     "text": [
      "\r  4%|▍         | 364/8132 [45:45<16:44:06,  7.76s/it]"
     ]
    },
    {
     "name": "stdout",
     "output_type": "stream",
     "text": [
      "Image paths: ['06/065d7ce8.jpg', '57/5767c86e.jpg', '31/3184dd76.jpg', 'd3/d3d592fa.jpg', 'a0/a03f7241.jpg', '44/44548508.jpg']\n",
      "Generating VQA for image: 06/065d7ce8.jpg\n",
      "Generating VQA for image: 57/5767c86e.jpg\n",
      "Generating VQA for image: 31/3184dd76.jpg\n",
      "Generating VQA for image: d3/d3d592fa.jpg\n",
      "Generating VQA for image: a0/a03f7241.jpg\n",
      "Generating VQA for image: 44/44548508.jpg\n"
     ]
    },
    {
     "name": "stderr",
     "output_type": "stream",
     "text": [
      "\r  4%|▍         | 365/8132 [45:57<19:11:40,  8.90s/it]"
     ]
    },
    {
     "name": "stdout",
     "output_type": "stream",
     "text": [
      "Image paths: ['53/538099fd.jpg', 'ee/ee8ee952.jpg', '49/49b1b22b.jpg', '66/66f3a68c.jpg', 'cf/cfbdd6bb.jpg']\n",
      "Generating VQA for image: 53/538099fd.jpg\n",
      "Generating VQA for image: ee/ee8ee952.jpg\n",
      "Generating VQA for image: 49/49b1b22b.jpg\n",
      "Generating VQA for image: 66/66f3a68c.jpg\n",
      "Generating VQA for image: cf/cfbdd6bb.jpg\n"
     ]
    },
    {
     "name": "stderr",
     "output_type": "stream",
     "text": [
      "\r  5%|▍         | 366/8132 [46:06<18:54:58,  8.77s/it]"
     ]
    },
    {
     "name": "stdout",
     "output_type": "stream",
     "text": [
      "Image paths: ['d5/d5a3b3de.jpg', '2f/2f357c87.jpg', '85/85192c70.jpg']\n",
      "Generating VQA for image: d5/d5a3b3de.jpg\n",
      "Generating VQA for image: 2f/2f357c87.jpg\n",
      "Generating VQA for image: 85/85192c70.jpg\n"
     ]
    },
    {
     "name": "stderr",
     "output_type": "stream",
     "text": [
      "\r  5%|▍         | 368/8132 [46:11<13:22:25,  6.20s/it]"
     ]
    },
    {
     "name": "stdout",
     "output_type": "stream",
     "text": [
      "Image paths: ['5a/5a69b810.jpg', '47/47f0c738.jpg', '9f/9f6f86ac.jpg', 'd8/d89025e7.jpg']\n",
      "Generating VQA for image: 5a/5a69b810.jpg\n",
      "Generating VQA for image: 47/47f0c738.jpg\n",
      "Generating VQA for image: 9f/9f6f86ac.jpg\n",
      "Generating VQA for image: d8/d89025e7.jpg\n"
     ]
    },
    {
     "name": "stderr",
     "output_type": "stream",
     "text": [
      "\r  5%|▍         | 369/8132 [46:18<13:28:16,  6.25s/it]"
     ]
    },
    {
     "name": "stdout",
     "output_type": "stream",
     "text": [
      "Image paths: ['ec/ecef3e56.jpg', '1e/1e02ad3b.jpg', '5e/5ecc6e98.jpg', '2d/2dc907a0.jpg', '9d/9da9d65f.jpg', '97/975c68f2.jpg']\n",
      "Generating VQA for image: ec/ecef3e56.jpg\n",
      "Generating VQA for image: 1e/1e02ad3b.jpg\n",
      "Generating VQA for image: 5e/5ecc6e98.jpg\n",
      "Generating VQA for image: 2d/2dc907a0.jpg\n",
      "Generating VQA for image: 9d/9da9d65f.jpg\n",
      "Generating VQA for image: 97/975c68f2.jpg\n"
     ]
    },
    {
     "name": "stderr",
     "output_type": "stream",
     "text": [
      "\r  5%|▍         | 370/8132 [46:29<16:13:03,  7.52s/it]"
     ]
    },
    {
     "name": "stdout",
     "output_type": "stream",
     "text": [
      "Image paths: ['38/3864f6b7.jpg', '32/321bf533.jpg', 'ae/ae874f49.jpg', '67/6773148b.jpg', '7c/7cc58f4b.jpg', '20/20533b83.jpg', 'f3/f35037d6.jpg', 'c8/c89d791e.jpg']\n",
      "Generating VQA for image: 38/3864f6b7.jpg\n",
      "Generating VQA for image: 32/321bf533.jpg\n",
      "Generating VQA for image: ae/ae874f49.jpg\n",
      "Generating VQA for image: 67/6773148b.jpg\n",
      "Generating VQA for image: 7c/7cc58f4b.jpg\n",
      "Generating VQA for image: 20/20533b83.jpg\n",
      "Generating VQA for image: f3/f35037d6.jpg\n",
      "Generating VQA for image: c8/c89d791e.jpg\n"
     ]
    },
    {
     "name": "stderr",
     "output_type": "stream",
     "text": [
      "\r  5%|▍         | 371/8132 [46:43<19:48:51,  9.19s/it]"
     ]
    },
    {
     "name": "stdout",
     "output_type": "stream",
     "text": [
      "Image paths: ['81/8168ff97.jpg']\n",
      "Generating VQA for image: 81/8168ff97.jpg\n"
     ]
    },
    {
     "name": "stderr",
     "output_type": "stream",
     "text": [
      "\r  5%|▍         | 372/8132 [46:45<15:28:45,  7.18s/it]"
     ]
    },
    {
     "name": "stdout",
     "output_type": "stream",
     "text": [
      "Image paths: ['6d/6d7763cb.jpg', 'c9/c99bcecc.jpg', '49/49b1b22b.jpg', '66/66f3a68c.jpg', 'ee/ee8ee952.jpg']\n",
      "Generating VQA for image: 6d/6d7763cb.jpg\n",
      "Generating VQA for image: c9/c99bcecc.jpg\n",
      "Generating VQA for image: 49/49b1b22b.jpg\n",
      "Generating VQA for image: 66/66f3a68c.jpg\n",
      "Generating VQA for image: ee/ee8ee952.jpg\n"
     ]
    },
    {
     "name": "stderr",
     "output_type": "stream",
     "text": [
      "\r  5%|▍         | 373/8132 [46:53<16:14:55,  7.54s/it]"
     ]
    },
    {
     "name": "stdout",
     "output_type": "stream",
     "text": [
      "Image paths: ['c2/c23ef1b4.jpg', '67/676315c6.jpg']\n",
      "Generating VQA for image: c2/c23ef1b4.jpg\n",
      "Generating VQA for image: 67/676315c6.jpg\n"
     ]
    },
    {
     "name": "stderr",
     "output_type": "stream",
     "text": [
      "\r  5%|▍         | 375/8132 [46:57<10:44:50,  4.99s/it]"
     ]
    },
    {
     "name": "stdout",
     "output_type": "stream",
     "text": [
      "Image paths: ['fc/fcf5b6a8.jpg', 'ee/ee8ee952.jpg', '49/49b1b22b.jpg', '66/66f3a68c.jpg', '21/21a709a6.jpg']\n",
      "Generating VQA for image: fc/fcf5b6a8.jpg\n",
      "Generating VQA for image: ee/ee8ee952.jpg\n",
      "Generating VQA for image: 49/49b1b22b.jpg\n",
      "Generating VQA for image: 66/66f3a68c.jpg\n",
      "Generating VQA for image: 21/21a709a6.jpg\n"
     ]
    },
    {
     "name": "stderr",
     "output_type": "stream",
     "text": [
      "\r  5%|▍         | 376/8132 [47:05<12:31:29,  5.81s/it]"
     ]
    },
    {
     "name": "stdout",
     "output_type": "stream",
     "text": [
      "Image paths: ['e7/e7c8f8cf.jpg', '9a/9a825f48.jpg', 'aa/aa89701f.jpg', '09/094248f3.jpg', 'a8/a886f071.jpg']\n",
      "Generating VQA for image: e7/e7c8f8cf.jpg\n",
      "Generating VQA for image: 9a/9a825f48.jpg\n",
      "Generating VQA for image: aa/aa89701f.jpg\n",
      "Generating VQA for image: 09/094248f3.jpg\n",
      "Generating VQA for image: a8/a886f071.jpg\n"
     ]
    },
    {
     "name": "stderr",
     "output_type": "stream",
     "text": [
      "\r  5%|▍         | 378/8132 [47:14<11:24:25,  5.30s/it]"
     ]
    },
    {
     "name": "stdout",
     "output_type": "stream",
     "text": [
      "Image paths: ['44/44047e21.jpg', 'ee/ee8ee952.jpg', '49/49b1b22b.jpg', '66/66f3a68c.jpg', '20/209145f8.jpg']\n",
      "Generating VQA for image: 44/44047e21.jpg\n",
      "Generating VQA for image: ee/ee8ee952.jpg\n",
      "Generating VQA for image: 49/49b1b22b.jpg\n",
      "Generating VQA for image: 66/66f3a68c.jpg\n",
      "Generating VQA for image: 20/209145f8.jpg\n"
     ]
    },
    {
     "name": "stderr",
     "output_type": "stream",
     "text": [
      "\r  5%|▍         | 379/8132 [47:23<13:03:39,  6.06s/it]"
     ]
    },
    {
     "name": "stdout",
     "output_type": "stream",
     "text": [
      "Image paths: ['dc/dcf77e34.jpg', '3a/3ad42e15.jpg', 'e9/e9f14d61.jpg', 'fc/fc45f280.jpg', 'f5/f56e8ff6.jpg']\n",
      "Generating VQA for image: dc/dcf77e34.jpg\n",
      "Generating VQA for image: 3a/3ad42e15.jpg\n",
      "Generating VQA for image: e9/e9f14d61.jpg\n",
      "Generating VQA for image: fc/fc45f280.jpg\n",
      "Generating VQA for image: f5/f56e8ff6.jpg\n"
     ]
    },
    {
     "name": "stderr",
     "output_type": "stream",
     "text": [
      "\r  5%|▍         | 380/8132 [47:32<14:23:47,  6.69s/it]"
     ]
    },
    {
     "name": "stdout",
     "output_type": "stream",
     "text": [
      "Image paths: ['b8/b80ccf0e.jpg', '22/22f868c5.jpg', '49/49b1b22b.jpg', '66/66f3a68c.jpg', 'ee/ee8ee952.jpg']\n",
      "Generating VQA for image: b8/b80ccf0e.jpg\n",
      "Generating VQA for image: 22/22f868c5.jpg\n",
      "Generating VQA for image: 49/49b1b22b.jpg\n",
      "Generating VQA for image: 66/66f3a68c.jpg\n",
      "Generating VQA for image: ee/ee8ee952.jpg\n"
     ]
    },
    {
     "name": "stderr",
     "output_type": "stream",
     "text": [
      "\r  5%|▍         | 381/8132 [47:40<15:31:31,  7.21s/it]"
     ]
    },
    {
     "name": "stdout",
     "output_type": "stream",
     "text": [
      "Image paths: ['20/20503444.jpg', 'ee/ee8ee952.jpg', '49/49b1b22b.jpg', '66/66f3a68c.jpg', '3f/3fff1e4b.jpg']\n",
      "Generating VQA for image: 20/20503444.jpg\n",
      "Generating VQA for image: ee/ee8ee952.jpg\n",
      "Generating VQA for image: 49/49b1b22b.jpg\n",
      "Generating VQA for image: 66/66f3a68c.jpg\n",
      "Generating VQA for image: 3f/3fff1e4b.jpg\n"
     ]
    },
    {
     "name": "stderr",
     "output_type": "stream",
     "text": [
      "\r  5%|▍         | 382/8132 [47:49<16:02:28,  7.45s/it]"
     ]
    },
    {
     "name": "stdout",
     "output_type": "stream",
     "text": [
      "Image paths: ['c1/c1558e7c.jpg', '23/23333050.jpg', 'd6/d6c64c95.jpg', '87/87dfb91d.jpg']\n",
      "Generating VQA for image: c1/c1558e7c.jpg\n",
      "Generating VQA for image: 23/23333050.jpg\n",
      "Generating VQA for image: d6/d6c64c95.jpg\n",
      "Generating VQA for image: 87/87dfb91d.jpg\n"
     ]
    },
    {
     "name": "stderr",
     "output_type": "stream",
     "text": [
      "\r  5%|▍         | 383/8132 [47:56<15:57:54,  7.42s/it]"
     ]
    },
    {
     "name": "stdout",
     "output_type": "stream",
     "text": [
      "Image paths: ['7c/7cd921cd.jpg', 'ee/ee8ee952.jpg', '49/49b1b22b.jpg', '66/66f3a68c.jpg', '19/19e72fb2.jpg']\n",
      "Generating VQA for image: 7c/7cd921cd.jpg\n",
      "Generating VQA for image: ee/ee8ee952.jpg\n",
      "Generating VQA for image: 49/49b1b22b.jpg\n",
      "Generating VQA for image: 66/66f3a68c.jpg\n",
      "Generating VQA for image: 19/19e72fb2.jpg\n"
     ]
    },
    {
     "name": "stderr",
     "output_type": "stream",
     "text": [
      "\r  5%|▍         | 384/8132 [48:04<16:36:06,  7.71s/it]"
     ]
    },
    {
     "name": "stdout",
     "output_type": "stream",
     "text": [
      "Image paths: ['7e/7e236cf8.jpg', 'd8/d87e51cf.jpg', '2a/2af5eb88.jpg', '0b/0ba378f4.jpg', '36/36cae1bf.jpg']\n",
      "Generating VQA for image: 7e/7e236cf8.jpg\n",
      "Generating VQA for image: d8/d87e51cf.jpg\n",
      "Generating VQA for image: 2a/2af5eb88.jpg\n",
      "Generating VQA for image: 0b/0ba378f4.jpg\n",
      "Generating VQA for image: 36/36cae1bf.jpg\n"
     ]
    },
    {
     "name": "stderr",
     "output_type": "stream",
     "text": [
      "\r  5%|▍         | 388/8132 [48:12<9:01:05,  4.19s/it] "
     ]
    },
    {
     "name": "stdout",
     "output_type": "stream",
     "text": [
      "Image paths: ['bb/bb86acd2.jpg', 'b4/b45ccf74.jpg', 'ea/ea2ba59e.jpg', '55/55f374c6.jpg', '80/80b55f99.jpg', '7d/7da95df8.jpg']\n",
      "Generating VQA for image: bb/bb86acd2.jpg\n",
      "Generating VQA for image: b4/b45ccf74.jpg\n",
      "Generating VQA for image: ea/ea2ba59e.jpg\n",
      "Generating VQA for image: 55/55f374c6.jpg\n",
      "Generating VQA for image: 80/80b55f99.jpg\n",
      "Generating VQA for image: 7d/7da95df8.jpg\n"
     ]
    },
    {
     "name": "stderr",
     "output_type": "stream",
     "text": [
      "\r  5%|▍         | 390/8132 [48:25<10:17:49,  4.79s/it]"
     ]
    },
    {
     "name": "stdout",
     "output_type": "stream",
     "text": [
      "Image paths: ['d7/d7c41e61.jpg', 'ee/ee8ee952.jpg', '49/49b1b22b.jpg', '66/66f3a68c.jpg', '3e/3e6a2cb8.jpg']\n",
      "Generating VQA for image: d7/d7c41e61.jpg\n",
      "Generating VQA for image: ee/ee8ee952.jpg\n",
      "Generating VQA for image: 49/49b1b22b.jpg\n",
      "Generating VQA for image: 66/66f3a68c.jpg\n",
      "Generating VQA for image: 3e/3e6a2cb8.jpg\n"
     ]
    },
    {
     "name": "stderr",
     "output_type": "stream",
     "text": [
      "\r  5%|▍         | 391/8132 [48:33<11:50:45,  5.51s/it]"
     ]
    },
    {
     "name": "stdout",
     "output_type": "stream",
     "text": [
      "Image paths: ['4c/4c4e85c2.jpg', '3b/3b7bf2b4.jpg', 'fa/fa5a6fff.jpg']\n",
      "Generating VQA for image: 4c/4c4e85c2.jpg\n",
      "Generating VQA for image: 3b/3b7bf2b4.jpg\n",
      "Generating VQA for image: fa/fa5a6fff.jpg\n"
     ]
    },
    {
     "name": "stderr",
     "output_type": "stream",
     "text": [
      "\r  5%|▍         | 394/8132 [48:38<8:12:26,  3.82s/it] "
     ]
    },
    {
     "name": "stdout",
     "output_type": "stream",
     "text": [
      "Image paths: ['a8/a8d96a0d.jpg', 'e6/e6c8a72b.jpg', '02/024abb70.jpg', '9c/9c79162e.jpg', 'd3/d3a98b2e.jpg', 'e8/e8f1580f.jpg']\n",
      "Generating VQA for image: a8/a8d96a0d.jpg\n",
      "Generating VQA for image: e6/e6c8a72b.jpg\n",
      "Generating VQA for image: 02/024abb70.jpg\n",
      "Generating VQA for image: 9c/9c79162e.jpg\n",
      "Generating VQA for image: d3/d3a98b2e.jpg\n",
      "Generating VQA for image: e8/e8f1580f.jpg\n"
     ]
    },
    {
     "name": "stderr",
     "output_type": "stream",
     "text": [
      "\r  5%|▍         | 396/8132 [48:49<9:11:50,  4.28s/it]"
     ]
    },
    {
     "name": "stdout",
     "output_type": "stream",
     "text": [
      "Image paths: ['24/244edda3.jpg', 'ee/ee8ee952.jpg', '49/49b1b22b.jpg', '66/66f3a68c.jpg', 'd8/d890ea1e.jpg']\n",
      "Generating VQA for image: 24/244edda3.jpg\n",
      "Generating VQA for image: ee/ee8ee952.jpg\n",
      "Generating VQA for image: 49/49b1b22b.jpg\n",
      "Generating VQA for image: 66/66f3a68c.jpg\n",
      "Generating VQA for image: d8/d890ea1e.jpg\n"
     ]
    },
    {
     "name": "stderr",
     "output_type": "stream",
     "text": [
      "\r  5%|▍         | 397/8132 [48:58<10:46:12,  5.01s/it]"
     ]
    },
    {
     "name": "stdout",
     "output_type": "stream",
     "text": [
      "Image paths: ['bc/bcd6cf83.jpg', 'dc/dcac50f1.jpg', '60/60b138cc.jpg', 'fc/fc9da14b.jpg', 'b5/b5108009.jpg', '43/4380e213.jpg', '25/25637dd0.jpg']\n",
      "Generating VQA for image: bc/bcd6cf83.jpg\n",
      "Generating VQA for image: dc/dcac50f1.jpg\n",
      "Generating VQA for image: 60/60b138cc.jpg\n",
      "Generating VQA for image: fc/fc9da14b.jpg\n",
      "Generating VQA for image: b5/b5108009.jpg\n",
      "Generating VQA for image: 43/4380e213.jpg\n",
      "Generating VQA for image: 25/25637dd0.jpg\n"
     ]
    },
    {
     "name": "stderr",
     "output_type": "stream",
     "text": [
      "\r  5%|▍         | 398/8132 [49:10<13:57:03,  6.49s/it]"
     ]
    },
    {
     "name": "stdout",
     "output_type": "stream",
     "text": [
      "Image paths: ['74/745a9ea8.jpg', '8d/8d567e19.jpg', '20/20533b83.jpg', 'f0/f0c69600.jpg', 'e6/e69c89ba.jpg', '8e/8e94d31c.jpg']\n",
      "Generating VQA for image: 74/745a9ea8.jpg\n",
      "Generating VQA for image: 8d/8d567e19.jpg\n",
      "Generating VQA for image: 20/20533b83.jpg\n",
      "Generating VQA for image: f0/f0c69600.jpg\n",
      "Generating VQA for image: e6/e69c89ba.jpg\n",
      "Generating VQA for image: 8e/8e94d31c.jpg\n"
     ]
    },
    {
     "name": "stderr",
     "output_type": "stream",
     "text": [
      "\r  5%|▍         | 399/8132 [49:22<16:17:18,  7.58s/it]"
     ]
    },
    {
     "name": "stdout",
     "output_type": "stream",
     "text": [
      "Image paths: ['44/441934b6.jpg', 'ee/ee8ee952.jpg', '64/64527bcd.jpg', '66/66f3a68c.jpg', '49/49b1b22b.jpg']\n",
      "Generating VQA for image: 44/441934b6.jpg\n",
      "Generating VQA for image: ee/ee8ee952.jpg\n",
      "Generating VQA for image: 64/64527bcd.jpg\n",
      "Generating VQA for image: 66/66f3a68c.jpg\n",
      "Generating VQA for image: 49/49b1b22b.jpg\n"
     ]
    },
    {
     "name": "stderr",
     "output_type": "stream",
     "text": [
      "\r  5%|▍         | 400/8132 [49:30<16:51:00,  7.85s/it]"
     ]
    },
    {
     "name": "stdout",
     "output_type": "stream",
     "text": [
      "Image paths: ['d5/d557ecb0.jpg']\n",
      "Generating VQA for image: d5/d557ecb0.jpg\n"
     ]
    },
    {
     "name": "stderr",
     "output_type": "stream",
     "text": [
      "\r  5%|▍         | 401/8132 [49:32<13:34:30,  6.32s/it]"
     ]
    },
    {
     "name": "stdout",
     "output_type": "stream",
     "text": [
      "Image paths: ['98/987b333f.jpg', '0f/0fd46856.jpg', 'ce/ced732f1.jpg', 'd4/d483a18a.jpg', '29/29cd4a58.jpg', '83/83ad499f.jpg', '04/04421eea.jpg']\n",
      "Generating VQA for image: 98/987b333f.jpg\n",
      "Generating VQA for image: 0f/0fd46856.jpg\n",
      "Generating VQA for image: ce/ced732f1.jpg\n",
      "Generating VQA for image: d4/d483a18a.jpg\n",
      "Generating VQA for image: 29/29cd4a58.jpg\n",
      "Generating VQA for image: 83/83ad499f.jpg\n",
      "Generating VQA for image: 04/04421eea.jpg\n"
     ]
    },
    {
     "name": "stderr",
     "output_type": "stream",
     "text": [
      "\r  5%|▍         | 402/8132 [49:46<17:54:15,  8.34s/it]"
     ]
    },
    {
     "name": "stdout",
     "output_type": "stream",
     "text": [
      "Image paths: ['8a/8a1b7fe8.jpg', 'ee/ee8ee952.jpg', '49/49b1b22b.jpg', '66/66f3a68c.jpg', '2d/2d7404ac.jpg']\n",
      "Generating VQA for image: 8a/8a1b7fe8.jpg\n",
      "Generating VQA for image: ee/ee8ee952.jpg\n",
      "Generating VQA for image: 49/49b1b22b.jpg\n",
      "Generating VQA for image: 66/66f3a68c.jpg\n",
      "Generating VQA for image: 2d/2d7404ac.jpg\n"
     ]
    },
    {
     "name": "stderr",
     "output_type": "stream",
     "text": [
      "\r  5%|▍         | 404/8132 [49:54<13:53:07,  6.47s/it]"
     ]
    },
    {
     "name": "stdout",
     "output_type": "stream",
     "text": [
      "Image paths: ['9d/9da5e92b.jpg', 'ee/ee8ee952.jpg', '49/49b1b22b.jpg', '66/66f3a68c.jpg', 'ba/ba201158.jpg']\n",
      "Generating VQA for image: 9d/9da5e92b.jpg\n",
      "Generating VQA for image: ee/ee8ee952.jpg\n",
      "Generating VQA for image: 49/49b1b22b.jpg\n",
      "Generating VQA for image: 66/66f3a68c.jpg\n",
      "Generating VQA for image: ba/ba201158.jpg\n"
     ]
    },
    {
     "name": "stderr",
     "output_type": "stream",
     "text": [
      "\r  5%|▍         | 405/8132 [50:03<15:23:03,  7.17s/it]"
     ]
    },
    {
     "name": "stdout",
     "output_type": "stream",
     "text": [
      "Image paths: ['ea/ea57a273.jpg', 'ee/ee8ee952.jpg', '49/49b1b22b.jpg', '66/66f3a68c.jpg', 'b1/b145e14e.jpg']\n",
      "Generating VQA for image: ea/ea57a273.jpg\n",
      "Generating VQA for image: ee/ee8ee952.jpg\n",
      "Generating VQA for image: 49/49b1b22b.jpg\n",
      "Generating VQA for image: 66/66f3a68c.jpg\n",
      "Generating VQA for image: b1/b145e14e.jpg\n"
     ]
    },
    {
     "name": "stderr",
     "output_type": "stream",
     "text": [
      "\r  5%|▍         | 406/8132 [50:13<16:49:30,  7.84s/it]"
     ]
    },
    {
     "name": "stdout",
     "output_type": "stream",
     "text": [
      "Image paths: ['bf/bf791d76.jpg', 'd8/d87e51cf.jpg', '2a/2af5eb88.jpg', '36/36cae1bf.jpg', '44/441d5535.jpg']\n",
      "Generating VQA for image: bf/bf791d76.jpg\n",
      "Generating VQA for image: d8/d87e51cf.jpg\n",
      "Generating VQA for image: 2a/2af5eb88.jpg\n",
      "Generating VQA for image: 36/36cae1bf.jpg\n",
      "Generating VQA for image: 44/441d5535.jpg\n"
     ]
    },
    {
     "name": "stderr",
     "output_type": "stream",
     "text": [
      "\r  5%|▌         | 407/8132 [50:24<18:24:57,  8.58s/it]"
     ]
    },
    {
     "name": "stdout",
     "output_type": "stream",
     "text": [
      "Image paths: ['ff/ffa3934a.jpg', 'b3/b3d2fa2f.jpg', '49/49b1b22b.jpg', '66/66f3a68c.jpg', 'ee/ee8ee952.jpg']\n",
      "Generating VQA for image: ff/ffa3934a.jpg\n",
      "Generating VQA for image: b3/b3d2fa2f.jpg\n",
      "Generating VQA for image: 49/49b1b22b.jpg\n",
      "Generating VQA for image: 66/66f3a68c.jpg\n",
      "Generating VQA for image: ee/ee8ee952.jpg\n"
     ]
    },
    {
     "name": "stderr",
     "output_type": "stream",
     "text": [
      "\r  5%|▌         | 408/8132 [50:33<18:54:23,  8.81s/it]"
     ]
    },
    {
     "name": "stdout",
     "output_type": "stream",
     "text": [
      "Image paths: ['bf/bf839c43.jpg', 'ee/ee8ee952.jpg', '49/49b1b22b.jpg', '66/66f3a68c.jpg', '44/44190482.jpg']\n",
      "Generating VQA for image: bf/bf839c43.jpg\n",
      "Generating VQA for image: ee/ee8ee952.jpg\n",
      "Generating VQA for image: 49/49b1b22b.jpg\n",
      "Generating VQA for image: 66/66f3a68c.jpg\n",
      "Generating VQA for image: 44/44190482.jpg\n"
     ]
    },
    {
     "name": "stderr",
     "output_type": "stream",
     "text": [
      "\r  5%|▌         | 409/8132 [50:43<19:11:57,  8.95s/it]"
     ]
    },
    {
     "name": "stdout",
     "output_type": "stream",
     "text": [
      "Image paths: ['12/121ce460.jpg', 'ee/ee8ee952.jpg', '49/49b1b22b.jpg', '66/66f3a68c.jpg', '85/852ad53d.jpg']\n",
      "Generating VQA for image: 12/121ce460.jpg\n",
      "Generating VQA for image: ee/ee8ee952.jpg\n",
      "Generating VQA for image: 49/49b1b22b.jpg\n",
      "Generating VQA for image: 66/66f3a68c.jpg\n",
      "Generating VQA for image: 85/852ad53d.jpg\n"
     ]
    },
    {
     "name": "stderr",
     "output_type": "stream",
     "text": [
      "\r  5%|▌         | 410/8132 [50:52<19:44:17,  9.20s/it]"
     ]
    },
    {
     "name": "stdout",
     "output_type": "stream",
     "text": [
      "Image paths: ['0f/0fa9dbe6.jpg', 'd8/d87e51cf.jpg', '2a/2af5eb88.jpg', '36/36cae1bf.jpg', 'cd/cd3cedb4.jpg']\n",
      "Generating VQA for image: 0f/0fa9dbe6.jpg\n",
      "Generating VQA for image: d8/d87e51cf.jpg\n",
      "Generating VQA for image: 2a/2af5eb88.jpg\n",
      "Generating VQA for image: 36/36cae1bf.jpg\n",
      "Generating VQA for image: cd/cd3cedb4.jpg\n"
     ]
    },
    {
     "name": "stderr",
     "output_type": "stream",
     "text": [
      "\r  5%|▌         | 413/8132 [51:02<12:34:36,  5.87s/it]"
     ]
    },
    {
     "name": "stdout",
     "output_type": "stream",
     "text": [
      "Image paths: ['98/981a0bd1.jpg', 'be/be54e7ec.jpg', 'aa/aad27d2c.jpg']\n",
      "Generating VQA for image: 98/981a0bd1.jpg\n",
      "Generating VQA for image: be/be54e7ec.jpg\n",
      "Generating VQA for image: aa/aad27d2c.jpg\n"
     ]
    },
    {
     "name": "stderr",
     "output_type": "stream",
     "text": [
      "\r  5%|▌         | 415/8132 [51:09<10:55:04,  5.09s/it]"
     ]
    },
    {
     "name": "stdout",
     "output_type": "stream",
     "text": [
      "Image paths: ['08/087d9264.jpg', '53/531b6bb7.jpg', '7a/7ae98aab.jpg', '35/35f60181.jpg', '2d/2de11289.jpg', '8a/8a87bbb6.jpg']\n",
      "Generating VQA for image: 08/087d9264.jpg\n",
      "Generating VQA for image: 53/531b6bb7.jpg\n",
      "Generating VQA for image: 7a/7ae98aab.jpg\n",
      "Generating VQA for image: 35/35f60181.jpg\n",
      "Generating VQA for image: 2d/2de11289.jpg\n",
      "Generating VQA for image: 8a/8a87bbb6.jpg\n"
     ]
    },
    {
     "name": "stderr",
     "output_type": "stream",
     "text": [
      "\r  5%|▌         | 416/8132 [51:21<13:38:23,  6.36s/it]"
     ]
    },
    {
     "name": "stdout",
     "output_type": "stream",
     "text": [
      "Image paths: ['f6/f660ae8b.jpg', '7e/7ecf343f.jpg', 'be/bef67d6a.jpg', '77/77e17ef1.jpg', '9e/9ea753f3.jpg', '48/480c5f6b.jpg', '9d/9d8124e9.jpg', '6a/6a852c93.jpg', 'ac/ac5aae4c.jpg']\n",
      "Generating VQA for image: f6/f660ae8b.jpg\n",
      "Generating VQA for image: 7e/7ecf343f.jpg\n",
      "Generating VQA for image: be/bef67d6a.jpg\n",
      "Generating VQA for image: 77/77e17ef1.jpg\n",
      "Generating VQA for image: 9e/9ea753f3.jpg\n",
      "Generating VQA for image: 48/480c5f6b.jpg\n",
      "Generating VQA for image: 9d/9d8124e9.jpg\n",
      "Generating VQA for image: 6a/6a852c93.jpg\n",
      "Generating VQA for image: ac/ac5aae4c.jpg\n"
     ]
    },
    {
     "name": "stderr",
     "output_type": "stream",
     "text": [
      "\r  5%|▌         | 417/8132 [51:37<18:29:37,  8.63s/it]"
     ]
    },
    {
     "name": "stdout",
     "output_type": "stream",
     "text": [
      "Image paths: ['6e/6eba929c.jpg', 'ee/ee8ee952.jpg', '49/49b1b22b.jpg', '66/66f3a68c.jpg', '51/51891c29.jpg']\n",
      "Generating VQA for image: 6e/6eba929c.jpg\n",
      "Generating VQA for image: ee/ee8ee952.jpg\n",
      "Generating VQA for image: 49/49b1b22b.jpg\n",
      "Generating VQA for image: 66/66f3a68c.jpg\n",
      "Generating VQA for image: 51/51891c29.jpg\n"
     ]
    },
    {
     "name": "stderr",
     "output_type": "stream",
     "text": [
      "\r  5%|▌         | 418/8132 [51:48<19:24:54,  9.06s/it]"
     ]
    },
    {
     "name": "stdout",
     "output_type": "stream",
     "text": [
      "Image paths: ['05/05fd3a66.jpg', 'c6/c618e1da.jpg', 'b9/b97552d0.jpg', '51/51ecfad2.jpg', 'cb/cb4da7f0.jpg', '22/22106108.jpg', 'd9/d9334899.jpg', 'c8/c8ee4bd6.jpg']\n",
      "Generating VQA for image: 05/05fd3a66.jpg\n",
      "Generating VQA for image: c6/c618e1da.jpg\n",
      "Generating VQA for image: b9/b97552d0.jpg\n",
      "Generating VQA for image: 51/51ecfad2.jpg\n",
      "Generating VQA for image: cb/cb4da7f0.jpg\n",
      "Generating VQA for image: 22/22106108.jpg\n",
      "Generating VQA for image: d9/d9334899.jpg\n",
      "Generating VQA for image: c8/c8ee4bd6.jpg\n"
     ]
    },
    {
     "name": "stderr",
     "output_type": "stream",
     "text": [
      "\r  5%|▌         | 419/8132 [52:03<22:47:26, 10.64s/it]"
     ]
    },
    {
     "name": "stdout",
     "output_type": "stream",
     "text": [
      "Image paths: ['10/1036878c.jpg', 'fa/faf70003.jpg', '0b/0b37132d.jpg', '86/86c8521e.jpg']\n",
      "Generating VQA for image: 10/1036878c.jpg\n",
      "Generating VQA for image: fa/faf70003.jpg\n",
      "Generating VQA for image: 0b/0b37132d.jpg\n",
      "Generating VQA for image: 86/86c8521e.jpg\n"
     ]
    },
    {
     "name": "stderr",
     "output_type": "stream",
     "text": [
      "\r  5%|▌         | 420/8132 [52:12<21:41:45, 10.13s/it]"
     ]
    },
    {
     "name": "stdout",
     "output_type": "stream",
     "text": [
      "Image paths: ['1c/1cb9e0a1.jpg']\n",
      "Generating VQA for image: 1c/1cb9e0a1.jpg\n"
     ]
    },
    {
     "name": "stderr",
     "output_type": "stream",
     "text": [
      "\r  5%|▌         | 421/8132 [52:13<16:41:40,  7.79s/it]"
     ]
    },
    {
     "name": "stdout",
     "output_type": "stream",
     "text": [
      "Image paths: ['4f/4f6efcff.jpg', 'e8/e8cfda29.jpg', 'b1/b1e28c25.jpg', 'a6/a69a839b.jpg', '51/51b49797.jpg', '1f/1f6ab448.jpg', 'd0/d0798936.jpg', '68/68a1d9de.jpg']\n",
      "Generating VQA for image: 4f/4f6efcff.jpg\n",
      "Generating VQA for image: e8/e8cfda29.jpg\n",
      "Generating VQA for image: b1/b1e28c25.jpg\n",
      "Generating VQA for image: a6/a69a839b.jpg\n",
      "Generating VQA for image: 51/51b49797.jpg\n",
      "Generating VQA for image: 1f/1f6ab448.jpg\n",
      "Generating VQA for image: d0/d0798936.jpg\n",
      "Generating VQA for image: 68/68a1d9de.jpg\n"
     ]
    },
    {
     "name": "stderr",
     "output_type": "stream",
     "text": [
      "\r  5%|▌         | 422/8132 [52:29<21:10:12,  9.88s/it]"
     ]
    },
    {
     "name": "stdout",
     "output_type": "stream",
     "text": [
      "Image paths: ['60/6044b3b4.jpg', '6a/6a26f649.jpg', '1f/1f0f5cdf.jpg', '71/71140b4c.jpg', '51/511c21cc.jpg', '9b/9be57394.jpg', '4a/4a6043e4.jpg', '5f/5f13e062.jpg', '3c/3c34f469.jpg', 'cd/cdbda2c4.jpg', '0e/0ead227a.jpg']\n",
      "Generating VQA for image: 60/6044b3b4.jpg\n",
      "Generating VQA for image: 6a/6a26f649.jpg\n",
      "Generating VQA for image: 1f/1f0f5cdf.jpg\n",
      "Generating VQA for image: 71/71140b4c.jpg\n",
      "Generating VQA for image: 51/511c21cc.jpg\n",
      "Generating VQA for image: 9b/9be57394.jpg\n",
      "Generating VQA for image: 4a/4a6043e4.jpg\n",
      "Generating VQA for image: 5f/5f13e062.jpg\n",
      "Generating VQA for image: 3c/3c34f469.jpg\n",
      "Generating VQA for image: cd/cdbda2c4.jpg\n",
      "Generating VQA for image: 0e/0ead227a.jpg\n"
     ]
    },
    {
     "name": "stderr",
     "output_type": "stream",
     "text": [
      "\r  5%|▌         | 423/8132 [52:51<28:51:24, 13.48s/it]"
     ]
    },
    {
     "name": "stdout",
     "output_type": "stream",
     "text": [
      "Image paths: ['c6/c6051119.jpg', '3e/3ee4417c.jpg', 'b6/b60c5c23.jpg', '14/1469de8d.jpg']\n",
      "Generating VQA for image: c6/c6051119.jpg\n",
      "Generating VQA for image: 3e/3ee4417c.jpg\n",
      "Generating VQA for image: b6/b60c5c23.jpg\n",
      "Generating VQA for image: 14/1469de8d.jpg\n"
     ]
    },
    {
     "name": "stderr",
     "output_type": "stream",
     "text": [
      "\r  5%|▌         | 424/8132 [52:59<25:16:22, 11.80s/it]"
     ]
    },
    {
     "name": "stdout",
     "output_type": "stream",
     "text": [
      "Image paths: ['3a/3ae86648.jpg', 'd8/d87e51cf.jpg', 'c1/c1a9e981.jpg', '36/36cae1bf.jpg', '2a/2af5eb88.jpg']\n",
      "Generating VQA for image: 3a/3ae86648.jpg\n",
      "Generating VQA for image: d8/d87e51cf.jpg\n",
      "Generating VQA for image: c1/c1a9e981.jpg\n",
      "Generating VQA for image: 36/36cae1bf.jpg\n",
      "Generating VQA for image: 2a/2af5eb88.jpg\n"
     ]
    },
    {
     "name": "stderr",
     "output_type": "stream",
     "text": [
      "\r  5%|▌         | 425/8132 [53:08<23:22:51, 10.92s/it]"
     ]
    },
    {
     "name": "stdout",
     "output_type": "stream",
     "text": [
      "Image paths: ['f2/f2777f9c.jpg', 'ee/ee8ee952.jpg', '91/91eff061.jpg', '66/66f3a68c.jpg', '49/49b1b22b.jpg']\n",
      "Generating VQA for image: f2/f2777f9c.jpg\n",
      "Generating VQA for image: ee/ee8ee952.jpg\n",
      "Generating VQA for image: 91/91eff061.jpg\n",
      "Generating VQA for image: 66/66f3a68c.jpg\n",
      "Generating VQA for image: 49/49b1b22b.jpg\n"
     ]
    },
    {
     "name": "stderr",
     "output_type": "stream",
     "text": [
      "\r  5%|▌         | 427/8132 [53:17<17:05:24,  7.98s/it]"
     ]
    },
    {
     "name": "stdout",
     "output_type": "stream",
     "text": [
      "Image paths: ['e0/e07de90e.jpg', 'ee/ee8ee952.jpg', '9b/9b4ae55b.jpg', '66/66f3a68c.jpg', '49/49b1b22b.jpg']\n",
      "Generating VQA for image: e0/e07de90e.jpg\n",
      "Generating VQA for image: ee/ee8ee952.jpg\n",
      "Generating VQA for image: 9b/9b4ae55b.jpg\n",
      "Generating VQA for image: 66/66f3a68c.jpg\n",
      "Generating VQA for image: 49/49b1b22b.jpg\n"
     ]
    },
    {
     "name": "stderr",
     "output_type": "stream",
     "text": [
      "\r  5%|▌         | 428/8132 [53:26<17:59:23,  8.41s/it]"
     ]
    },
    {
     "name": "stdout",
     "output_type": "stream",
     "text": [
      "Image paths: ['c1/c17bceb9.jpg', 'eb/ebdd5b22.jpg', '2d/2d8a355b.jpg', '67/679a9c00.jpg', '86/860187a3.jpg', 'ac/ac1c5f01.jpg']\n",
      "Generating VQA for image: c1/c17bceb9.jpg\n",
      "Generating VQA for image: eb/ebdd5b22.jpg\n",
      "Generating VQA for image: 2d/2d8a355b.jpg\n",
      "Generating VQA for image: 67/679a9c00.jpg\n",
      "Generating VQA for image: 86/860187a3.jpg\n",
      "Generating VQA for image: ac/ac1c5f01.jpg\n"
     ]
    },
    {
     "name": "stderr",
     "output_type": "stream",
     "text": [
      "\r  5%|▌         | 430/8132 [53:39<16:00:46,  7.48s/it]"
     ]
    },
    {
     "name": "stdout",
     "output_type": "stream",
     "text": [
      "Image paths: ['6a/6ae96245.jpg', '01/019a991a.jpg', 'ae/aefe0f75.jpg', '87/87dfb91d.jpg']\n",
      "Generating VQA for image: 6a/6ae96245.jpg\n",
      "Generating VQA for image: 01/019a991a.jpg\n",
      "Generating VQA for image: ae/aefe0f75.jpg\n",
      "Generating VQA for image: 87/87dfb91d.jpg\n"
     ]
    },
    {
     "name": "stderr",
     "output_type": "stream",
     "text": [
      "\r  5%|▌         | 431/8132 [53:47<16:19:52,  7.63s/it]"
     ]
    },
    {
     "name": "stdout",
     "output_type": "stream",
     "text": [
      "Image paths: ['20/209bb3ed.jpg', '4a/4aa054f0.jpg', '37/37fb4b83.jpg', '93/9312d8be.jpg', '98/9869b625.jpg', '05/051c806b.jpg', 'c4/c466a94b.jpg', '63/6352e35f.jpg', '1b/1bdbeba5.jpg', 'cc/cc0ee2c2.jpg']\n",
      "Generating VQA for image: 20/209bb3ed.jpg\n",
      "Generating VQA for image: 4a/4aa054f0.jpg\n",
      "Generating VQA for image: 37/37fb4b83.jpg\n",
      "Generating VQA for image: 93/9312d8be.jpg\n",
      "Generating VQA for image: 98/9869b625.jpg\n",
      "Generating VQA for image: 05/051c806b.jpg\n",
      "Generating VQA for image: c4/c466a94b.jpg\n",
      "Generating VQA for image: 63/6352e35f.jpg\n",
      "Generating VQA for image: 1b/1bdbeba5.jpg\n",
      "Generating VQA for image: cc/cc0ee2c2.jpg\n"
     ]
    },
    {
     "name": "stderr",
     "output_type": "stream",
     "text": [
      "\r  5%|▌         | 432/8132 [54:04<21:33:06, 10.08s/it]"
     ]
    },
    {
     "name": "stdout",
     "output_type": "stream",
     "text": [
      "Image paths: ['d9/d902b35a.jpg', 'd8/d87e51cf.jpg', '2a/2af5eb88.jpg', '36/36cae1bf.jpg', '6f/6f86ab32.jpg']\n",
      "Generating VQA for image: d9/d902b35a.jpg\n",
      "Generating VQA for image: d8/d87e51cf.jpg\n",
      "Generating VQA for image: 2a/2af5eb88.jpg\n",
      "Generating VQA for image: 36/36cae1bf.jpg\n",
      "Generating VQA for image: 6f/6f86ab32.jpg\n"
     ]
    },
    {
     "name": "stderr",
     "output_type": "stream",
     "text": [
      "\r  5%|▌         | 433/8132 [54:13<20:47:49,  9.72s/it]"
     ]
    },
    {
     "name": "stdout",
     "output_type": "stream",
     "text": [
      "Image paths: ['b9/b9cd3ddd.jpg', '2f/2f357c87.jpg', '85/85192c70.jpg']\n",
      "Generating VQA for image: b9/b9cd3ddd.jpg\n",
      "Generating VQA for image: 2f/2f357c87.jpg\n",
      "Generating VQA for image: 85/85192c70.jpg\n"
     ]
    },
    {
     "name": "stderr",
     "output_type": "stream",
     "text": [
      "\r  5%|▌         | 434/8132 [54:19<18:42:17,  8.75s/it]"
     ]
    },
    {
     "name": "stdout",
     "output_type": "stream",
     "text": [
      "Image paths: ['3b/3b7928ae.jpg']\n",
      "Generating VQA for image: 3b/3b7928ae.jpg\n"
     ]
    },
    {
     "name": "stderr",
     "output_type": "stream",
     "text": [
      "\r  5%|▌         | 435/8132 [54:21<14:29:06,  6.77s/it]"
     ]
    },
    {
     "name": "stdout",
     "output_type": "stream",
     "text": [
      "Image paths: ['89/89e05529.jpg', 'f8/f85ca1e4.jpg', '4b/4b5fa5a7.jpg']\n",
      "Generating VQA for image: 89/89e05529.jpg\n",
      "Generating VQA for image: f8/f85ca1e4.jpg\n",
      "Generating VQA for image: 4b/4b5fa5a7.jpg\n"
     ]
    },
    {
     "name": "stderr",
     "output_type": "stream",
     "text": [
      "\r  5%|▌         | 436/8132 [54:26<13:21:16,  6.25s/it]"
     ]
    },
    {
     "name": "stdout",
     "output_type": "stream",
     "text": [
      "Image paths: ['08/08b0dd61.jpg', 'ee/ee8ee952.jpg', '49/49b1b22b.jpg', '66/66f3a68c.jpg', '76/7654dea0.jpg']\n",
      "Generating VQA for image: 08/08b0dd61.jpg\n",
      "Generating VQA for image: ee/ee8ee952.jpg\n",
      "Generating VQA for image: 49/49b1b22b.jpg\n",
      "Generating VQA for image: 66/66f3a68c.jpg\n",
      "Generating VQA for image: 76/7654dea0.jpg\n"
     ]
    },
    {
     "name": "stderr",
     "output_type": "stream",
     "text": [
      "\r  5%|▌         | 437/8132 [54:35<15:02:06,  7.03s/it]"
     ]
    },
    {
     "name": "stdout",
     "output_type": "stream",
     "text": [
      "Image paths: ['37/372f710c.jpg', '54/54bf0260.jpg', '4d/4deaa643.jpg', 'ee/eef7b2f1.jpg', 'c3/c3202bcc.jpg']\n",
      "Generating VQA for image: 37/372f710c.jpg\n",
      "Generating VQA for image: 54/54bf0260.jpg\n",
      "Generating VQA for image: 4d/4deaa643.jpg\n",
      "Generating VQA for image: ee/eef7b2f1.jpg\n",
      "Generating VQA for image: c3/c3202bcc.jpg\n"
     ]
    },
    {
     "name": "stderr",
     "output_type": "stream",
     "text": [
      "\r  5%|▌         | 438/8132 [54:44<16:33:30,  7.75s/it]"
     ]
    },
    {
     "name": "stdout",
     "output_type": "stream",
     "text": [
      "Image paths: ['e5/e5a40d4d.jpg', 'ee/ee8ee952.jpg', '49/49b1b22b.jpg', '66/66f3a68c.jpg', '14/145a0ab5.jpg']\n",
      "Generating VQA for image: e5/e5a40d4d.jpg\n",
      "Generating VQA for image: ee/ee8ee952.jpg\n",
      "Generating VQA for image: 49/49b1b22b.jpg\n",
      "Generating VQA for image: 66/66f3a68c.jpg\n",
      "Generating VQA for image: 14/145a0ab5.jpg\n"
     ]
    },
    {
     "name": "stderr",
     "output_type": "stream",
     "text": [
      "\r  5%|▌         | 439/8132 [54:53<17:06:16,  8.00s/it]"
     ]
    },
    {
     "name": "stdout",
     "output_type": "stream",
     "text": [
      "Image paths: ['cd/cd475893.jpg', 'b6/b60a4715.jpg', 'c4/c4d55862.jpg', '35/3519ddf1.jpg']\n",
      "Generating VQA for image: cd/cd475893.jpg\n",
      "Generating VQA for image: b6/b60a4715.jpg\n",
      "Generating VQA for image: c4/c4d55862.jpg\n",
      "Generating VQA for image: 35/3519ddf1.jpg\n"
     ]
    },
    {
     "name": "stderr",
     "output_type": "stream",
     "text": [
      "\r  5%|▌         | 440/8132 [55:00<16:30:23,  7.73s/it]"
     ]
    },
    {
     "name": "stdout",
     "output_type": "stream",
     "text": [
      "Image paths: ['7a/7ac650f9.jpg', '2f/2f357c87.jpg', '85/85192c70.jpg']\n",
      "Generating VQA for image: 7a/7ac650f9.jpg\n",
      "Generating VQA for image: 2f/2f357c87.jpg\n",
      "Generating VQA for image: 85/85192c70.jpg\n"
     ]
    },
    {
     "name": "stderr",
     "output_type": "stream",
     "text": [
      "\r  5%|▌         | 441/8132 [55:06<15:30:32,  7.26s/it]"
     ]
    },
    {
     "name": "stdout",
     "output_type": "stream",
     "text": [
      "Image paths: ['d9/d96b0ea0.jpg', '6e/6eec42a6.jpg', '31/31643cde.jpg', 'b6/b6f5eaa3.jpg', 'a8/a88698d4.jpg', 'a5/a5effba7.jpg']\n",
      "Generating VQA for image: d9/d96b0ea0.jpg\n",
      "Generating VQA for image: 6e/6eec42a6.jpg\n",
      "Generating VQA for image: 31/31643cde.jpg\n",
      "Generating VQA for image: b6/b6f5eaa3.jpg\n",
      "Generating VQA for image: a8/a88698d4.jpg\n",
      "Generating VQA for image: a5/a5effba7.jpg\n"
     ]
    },
    {
     "name": "stderr",
     "output_type": "stream",
     "text": [
      "\r  5%|▌         | 442/8132 [55:18<18:13:41,  8.53s/it]"
     ]
    },
    {
     "name": "stdout",
     "output_type": "stream",
     "text": [
      "Image paths: ['e7/e70d0cb2.jpg', '2f/2f357c87.jpg', '85/85192c70.jpg']\n",
      "Generating VQA for image: e7/e70d0cb2.jpg\n",
      "Generating VQA for image: 2f/2f357c87.jpg\n",
      "Generating VQA for image: 85/85192c70.jpg\n"
     ]
    },
    {
     "name": "stderr",
     "output_type": "stream",
     "text": [
      "\r  5%|▌         | 445/8132 [55:23<10:16:11,  4.81s/it]"
     ]
    },
    {
     "name": "stdout",
     "output_type": "stream",
     "text": [
      "Image paths: ['35/3595924e.jpg']\n",
      "Generating VQA for image: 35/3595924e.jpg\n"
     ]
    },
    {
     "name": "stderr",
     "output_type": "stream",
     "text": [
      "\r  5%|▌         | 447/8132 [55:25<7:15:48,  3.40s/it] "
     ]
    },
    {
     "name": "stdout",
     "output_type": "stream",
     "text": [
      "Image paths: ['66/6649b70d.jpg', '16/16bbd0c7.jpg', 'f5/f5f81f0a.jpg', '71/7188857f.jpg', 'dc/dc24fb66.jpg', '07/071b2fd5.jpg', '66/66f8c8f8.jpg', '43/4334581d.jpg']\n",
      "Generating VQA for image: 66/6649b70d.jpg\n",
      "Generating VQA for image: 16/16bbd0c7.jpg\n",
      "Generating VQA for image: f5/f5f81f0a.jpg\n",
      "Generating VQA for image: 71/7188857f.jpg\n",
      "Generating VQA for image: dc/dc24fb66.jpg\n",
      "Generating VQA for image: 07/071b2fd5.jpg\n",
      "Generating VQA for image: 66/66f8c8f8.jpg\n",
      "Generating VQA for image: 43/4334581d.jpg\n"
     ]
    },
    {
     "name": "stderr",
     "output_type": "stream",
     "text": [
      "\r  6%|▌         | 448/8132 [55:41<12:35:42,  5.90s/it]"
     ]
    },
    {
     "name": "stdout",
     "output_type": "stream",
     "text": [
      "Image paths: ['34/34ae0c28.jpg', '70/70173b8a.jpg', '41/41de4c20.jpg', '1c/1c5fae7e.jpg', '24/244e43ce.jpg']\n",
      "Generating VQA for image: 34/34ae0c28.jpg\n",
      "Generating VQA for image: 70/70173b8a.jpg\n",
      "Generating VQA for image: 41/41de4c20.jpg\n",
      "Generating VQA for image: 1c/1c5fae7e.jpg\n",
      "Generating VQA for image: 24/244e43ce.jpg\n"
     ]
    },
    {
     "name": "stderr",
     "output_type": "stream",
     "text": [
      "\r  6%|▌         | 449/8132 [55:49<13:48:44,  6.47s/it]"
     ]
    },
    {
     "name": "stdout",
     "output_type": "stream",
     "text": [
      "Image paths: ['44/44a3ffb7.jpg', '17/17c42818.jpg', '93/9380abef.jpg', '78/787b640b.jpg', '39/3958cbd8.jpg', '20/20533b83.jpg', '6b/6be2d71c.jpg']\n",
      "Generating VQA for image: 44/44a3ffb7.jpg\n",
      "Generating VQA for image: 17/17c42818.jpg\n",
      "Generating VQA for image: 93/9380abef.jpg\n",
      "Generating VQA for image: 78/787b640b.jpg\n",
      "Generating VQA for image: 39/3958cbd8.jpg\n",
      "Generating VQA for image: 20/20533b83.jpg\n",
      "Generating VQA for image: 6b/6be2d71c.jpg\n"
     ]
    },
    {
     "name": "stderr",
     "output_type": "stream",
     "text": [
      "\r  6%|▌         | 450/8132 [56:05<18:38:01,  8.73s/it]"
     ]
    },
    {
     "name": "stdout",
     "output_type": "stream",
     "text": [
      "Image paths: ['1c/1c334c1b.jpg', 'ee/ee8ee952.jpg', '49/49b1b22b.jpg', '66/66f3a68c.jpg', 'de/de7e0ea6.jpg']\n",
      "Generating VQA for image: 1c/1c334c1b.jpg\n",
      "Generating VQA for image: ee/ee8ee952.jpg\n",
      "Generating VQA for image: 49/49b1b22b.jpg\n",
      "Generating VQA for image: 66/66f3a68c.jpg\n",
      "Generating VQA for image: de/de7e0ea6.jpg\n"
     ]
    },
    {
     "name": "stderr",
     "output_type": "stream",
     "text": [
      "\r  6%|▌         | 451/8132 [56:15<19:21:32,  9.07s/it]"
     ]
    },
    {
     "name": "stdout",
     "output_type": "stream",
     "text": [
      "Image paths: ['87/874a270f.jpg', '83/834a6dc9.jpg', '91/91d5b4d5.jpg', 'b0/b03662df.jpg', 'e9/e9b0b0f3.jpg']\n",
      "Generating VQA for image: 87/874a270f.jpg\n",
      "Generating VQA for image: 83/834a6dc9.jpg\n",
      "Generating VQA for image: 91/91d5b4d5.jpg\n",
      "Generating VQA for image: b0/b03662df.jpg\n",
      "Generating VQA for image: e9/e9b0b0f3.jpg\n"
     ]
    },
    {
     "name": "stderr",
     "output_type": "stream",
     "text": [
      "\r  6%|▌         | 452/8132 [56:25<20:01:41,  9.39s/it]"
     ]
    },
    {
     "name": "stdout",
     "output_type": "stream",
     "text": [
      "Image paths: ['a8/a85fd5d8.jpg', '24/24d9e5f6.jpg', '62/62b5645f.jpg', '3b/3b7f3f34.jpg']\n",
      "Generating VQA for image: a8/a85fd5d8.jpg\n",
      "Generating VQA for image: 24/24d9e5f6.jpg\n",
      "Generating VQA for image: 62/62b5645f.jpg\n",
      "Generating VQA for image: 3b/3b7f3f34.jpg\n"
     ]
    },
    {
     "name": "stderr",
     "output_type": "stream",
     "text": [
      "\r  6%|▌         | 453/8132 [56:33<18:59:47,  8.91s/it]"
     ]
    },
    {
     "name": "stdout",
     "output_type": "stream",
     "text": [
      "Image paths: ['d8/d82f4706.jpg', '39/39b3fce3.jpg', 'c2/c21a6445.jpg', '92/92b9edcb.jpg', 'e0/e024bbde.jpg']\n",
      "Generating VQA for image: d8/d82f4706.jpg\n",
      "Generating VQA for image: 39/39b3fce3.jpg\n",
      "Generating VQA for image: c2/c21a6445.jpg\n",
      "Generating VQA for image: 92/92b9edcb.jpg\n",
      "Generating VQA for image: e0/e024bbde.jpg\n"
     ]
    },
    {
     "name": "stderr",
     "output_type": "stream",
     "text": [
      "\r  6%|▌         | 454/8132 [56:43<19:26:09,  9.11s/it]"
     ]
    },
    {
     "name": "stdout",
     "output_type": "stream",
     "text": [
      "Image paths: ['03/03d41145.jpg', 'ee/ee8ee952.jpg', '49/49b1b22b.jpg', '66/66f3a68c.jpg', 'bf/bf899857.jpg']\n",
      "Generating VQA for image: 03/03d41145.jpg\n",
      "Generating VQA for image: ee/ee8ee952.jpg\n",
      "Generating VQA for image: 49/49b1b22b.jpg\n",
      "Generating VQA for image: 66/66f3a68c.jpg\n",
      "Generating VQA for image: bf/bf899857.jpg\n"
     ]
    },
    {
     "name": "stderr",
     "output_type": "stream",
     "text": [
      "\r  6%|▌         | 455/8132 [56:53<20:14:20,  9.49s/it]"
     ]
    },
    {
     "name": "stdout",
     "output_type": "stream",
     "text": [
      "Image paths: ['35/3595924e.jpg']\n",
      "Generating VQA for image: 35/3595924e.jpg\n"
     ]
    },
    {
     "name": "stderr",
     "output_type": "stream",
     "text": [
      "\r  6%|▌         | 456/8132 [56:55<15:17:15,  7.17s/it]"
     ]
    },
    {
     "name": "stdout",
     "output_type": "stream",
     "text": [
      "Image paths: ['af/afe97a1a.jpg', '7e/7e454a95.jpg', '9f/9f6409a5.jpg', 'c5/c511357f.jpg']\n",
      "Generating VQA for image: af/afe97a1a.jpg\n",
      "Generating VQA for image: 7e/7e454a95.jpg\n",
      "Generating VQA for image: 9f/9f6409a5.jpg\n",
      "Generating VQA for image: c5/c511357f.jpg\n"
     ]
    },
    {
     "name": "stderr",
     "output_type": "stream",
     "text": [
      "\r  6%|▌         | 457/8132 [57:02<15:41:33,  7.36s/it]"
     ]
    },
    {
     "name": "stdout",
     "output_type": "stream",
     "text": [
      "Image paths: ['7b/7b359fb8.jpg', '44/442e9cc8.jpg', '20/20f57439.jpg', 'c9/c9f64ba5.jpg', '5a/5ae49946.jpg', 'a9/a9c64808.jpg', '46/46b71fd1.jpg', '66/660d9faa.jpg', 'e0/e08360f8.jpg', '2e/2ef10246.jpg', '5b/5bc4df95.jpg', '35/352928b2.jpg']\n",
      "Generating VQA for image: 7b/7b359fb8.jpg\n",
      "Generating VQA for image: 44/442e9cc8.jpg\n",
      "Generating VQA for image: 20/20f57439.jpg\n",
      "Generating VQA for image: c9/c9f64ba5.jpg\n",
      "Generating VQA for image: 5a/5ae49946.jpg\n",
      "Generating VQA for image: a9/a9c64808.jpg\n",
      "Generating VQA for image: 46/46b71fd1.jpg\n",
      "Generating VQA for image: 66/660d9faa.jpg\n",
      "Generating VQA for image: e0/e08360f8.jpg\n",
      "Generating VQA for image: 2e/2ef10246.jpg\n",
      "Generating VQA for image: 5b/5bc4df95.jpg\n",
      "Generating VQA for image: 35/352928b2.jpg\n"
     ]
    },
    {
     "name": "stderr",
     "output_type": "stream",
     "text": [
      "\r  6%|▌         | 458/8132 [57:28<26:53:59, 12.62s/it]"
     ]
    },
    {
     "name": "stdout",
     "output_type": "stream",
     "text": [
      "Image paths: ['33/33f2da19.jpg', '33/334a05e6.jpg', 'c3/c3704988.jpg', '18/189dcd55.jpg', '92/927c3d94.jpg', '8d/8dcdcf95.jpg']\n",
      "Generating VQA for image: 33/33f2da19.jpg\n",
      "Generating VQA for image: 33/334a05e6.jpg\n",
      "Generating VQA for image: c3/c3704988.jpg\n",
      "Generating VQA for image: 18/189dcd55.jpg\n",
      "Generating VQA for image: 92/927c3d94.jpg\n",
      "Generating VQA for image: 8d/8dcdcf95.jpg\n"
     ]
    },
    {
     "name": "stderr",
     "output_type": "stream",
     "text": [
      "\r  6%|▌         | 459/8132 [57:39<26:26:41, 12.41s/it]"
     ]
    },
    {
     "name": "stdout",
     "output_type": "stream",
     "text": [
      "Image paths: ['48/48ab91eb.jpg', 'ee/ee8ee952.jpg', '49/49b1b22b.jpg', '66/66f3a68c.jpg', 'dd/dd23c692.jpg']\n",
      "Generating VQA for image: 48/48ab91eb.jpg\n",
      "Generating VQA for image: ee/ee8ee952.jpg\n",
      "Generating VQA for image: 49/49b1b22b.jpg\n",
      "Generating VQA for image: 66/66f3a68c.jpg\n",
      "Generating VQA for image: dd/dd23c692.jpg\n"
     ]
    },
    {
     "name": "stderr",
     "output_type": "stream",
     "text": [
      "\r  6%|▌         | 460/8132 [57:49<24:33:58, 11.53s/it]"
     ]
    },
    {
     "name": "stdout",
     "output_type": "stream",
     "text": [
      "Image paths: ['59/5940fe9b.jpg', 'ec/ecc9c305.jpg', '49/49b1b22b.jpg', '66/66f3a68c.jpg', 'ee/ee8ee952.jpg']\n",
      "Generating VQA for image: 59/5940fe9b.jpg\n",
      "Generating VQA for image: ec/ecc9c305.jpg\n",
      "Generating VQA for image: 49/49b1b22b.jpg\n",
      "Generating VQA for image: 66/66f3a68c.jpg\n",
      "Generating VQA for image: ee/ee8ee952.jpg\n"
     ]
    },
    {
     "name": "stderr",
     "output_type": "stream",
     "text": [
      "\r  6%|▌         | 465/8132 [57:58<10:29:18,  4.92s/it]"
     ]
    },
    {
     "name": "stdout",
     "output_type": "stream",
     "text": [
      "Image paths: ['ff/ffdaed99.jpg']\n",
      "Generating VQA for image: ff/ffdaed99.jpg\n"
     ]
    },
    {
     "name": "stderr",
     "output_type": "stream",
     "text": [
      "\r  6%|▌         | 467/8132 [58:00<8:06:14,  3.81s/it] "
     ]
    },
    {
     "name": "stdout",
     "output_type": "stream",
     "text": [
      "Image paths: ['b5/b5319e00.jpg']\n",
      "Generating VQA for image: b5/b5319e00.jpg\n"
     ]
    },
    {
     "name": "stderr",
     "output_type": "stream",
     "text": [
      "\r  6%|▌         | 468/8132 [58:01<7:17:50,  3.43s/it]"
     ]
    },
    {
     "name": "stdout",
     "output_type": "stream",
     "text": [
      "Image paths: ['14/143c324d.jpg']\n",
      "Generating VQA for image: 14/143c324d.jpg\n"
     ]
    },
    {
     "name": "stderr",
     "output_type": "stream",
     "text": [
      "\r  6%|▌         | 469/8132 [58:03<6:34:17,  3.09s/it]"
     ]
    },
    {
     "name": "stdout",
     "output_type": "stream",
     "text": [
      "Image paths: ['fd/fdca485d.jpg', 'f1/f1648aaa.jpg', 'ed/ede1ce25.jpg', '55/55f17b93.jpg', '8b/8b259c53.jpg']\n",
      "Generating VQA for image: fd/fdca485d.jpg\n",
      "Generating VQA for image: f1/f1648aaa.jpg\n",
      "Generating VQA for image: ed/ede1ce25.jpg\n",
      "Generating VQA for image: 55/55f17b93.jpg\n",
      "Generating VQA for image: 8b/8b259c53.jpg\n"
     ]
    },
    {
     "name": "stderr",
     "output_type": "stream",
     "text": [
      "\r  6%|▌         | 470/8132 [58:12<9:21:01,  4.39s/it]"
     ]
    },
    {
     "name": "stdout",
     "output_type": "stream",
     "text": [
      "Image paths: ['bd/bd1892b5.jpg', 'ce/ced03405.jpg', '49/49b1b22b.jpg', '66/66f3a68c.jpg', 'ee/ee8ee952.jpg']\n",
      "Generating VQA for image: bd/bd1892b5.jpg\n",
      "Generating VQA for image: ce/ced03405.jpg\n",
      "Generating VQA for image: 49/49b1b22b.jpg\n",
      "Generating VQA for image: 66/66f3a68c.jpg\n",
      "Generating VQA for image: ee/ee8ee952.jpg\n"
     ]
    },
    {
     "name": "stderr",
     "output_type": "stream",
     "text": [
      "\r  6%|▌         | 471/8132 [58:21<11:40:02,  5.48s/it]"
     ]
    },
    {
     "name": "stdout",
     "output_type": "stream",
     "text": [
      "Image paths: ['6a/6aed3aca.jpg', 'ed/ede3c326.jpg', '5e/5eb3f178.jpg', 'a9/a92d1b92.jpg', '0b/0b58e1fe.jpg', 'e5/e500ea73.jpg', 'f8/f846a11c.jpg']\n",
      "Generating VQA for image: 6a/6aed3aca.jpg\n",
      "Generating VQA for image: ed/ede3c326.jpg\n",
      "Generating VQA for image: 5e/5eb3f178.jpg\n",
      "Generating VQA for image: a9/a92d1b92.jpg\n",
      "Generating VQA for image: 0b/0b58e1fe.jpg\n",
      "Generating VQA for image: e5/e500ea73.jpg\n",
      "Generating VQA for image: f8/f846a11c.jpg\n"
     ]
    },
    {
     "name": "stderr",
     "output_type": "stream",
     "text": [
      "\r  6%|▌         | 473/8132 [58:37<13:31:09,  6.35s/it]"
     ]
    },
    {
     "name": "stdout",
     "output_type": "stream",
     "text": [
      "Image paths: ['60/608fa2f4.jpg', 'd8/d87e51cf.jpg', '92/927cbb12.jpg', '2a/2af5eb88.jpg', '36/36cae1bf.jpg']\n",
      "Generating VQA for image: 60/608fa2f4.jpg\n",
      "Generating VQA for image: d8/d87e51cf.jpg\n",
      "Generating VQA for image: 92/927cbb12.jpg\n",
      "Generating VQA for image: 2a/2af5eb88.jpg\n",
      "Generating VQA for image: 36/36cae1bf.jpg\n"
     ]
    },
    {
     "name": "stderr",
     "output_type": "stream",
     "text": [
      "\r  6%|▌         | 474/8132 [58:46<14:52:12,  6.99s/it]"
     ]
    },
    {
     "name": "stdout",
     "output_type": "stream",
     "text": [
      "Image paths: ['de/decebcd2.jpg', 'f7/f7619dff.jpg', '5b/5bed7963.jpg', '51/5176d4ff.jpg', 'd3/d354f84b.jpg', 'e1/e182366b.jpg']\n",
      "Generating VQA for image: de/decebcd2.jpg\n",
      "Generating VQA for image: f7/f7619dff.jpg\n",
      "Generating VQA for image: 5b/5bed7963.jpg\n",
      "Generating VQA for image: 51/5176d4ff.jpg\n",
      "Generating VQA for image: d3/d354f84b.jpg\n",
      "Generating VQA for image: e1/e182366b.jpg\n"
     ]
    },
    {
     "name": "stderr",
     "output_type": "stream",
     "text": [
      "\r  6%|▌         | 475/8132 [58:57<16:52:14,  7.93s/it]"
     ]
    },
    {
     "name": "stdout",
     "output_type": "stream",
     "text": [
      "Image paths: ['70/70df945e.jpg', '0a/0a4364be.jpg', 'de/deb23036.jpg', '5e/5ef92f54.jpg']\n",
      "Generating VQA for image: 70/70df945e.jpg\n",
      "Generating VQA for image: 0a/0a4364be.jpg\n",
      "Generating VQA for image: de/deb23036.jpg\n",
      "Generating VQA for image: 5e/5ef92f54.jpg\n"
     ]
    },
    {
     "name": "stderr",
     "output_type": "stream",
     "text": [
      "\r  6%|▌         | 476/8132 [59:05<17:06:41,  8.05s/it]"
     ]
    },
    {
     "name": "stdout",
     "output_type": "stream",
     "text": [
      "Image paths: ['c8/c8576aaf.jpg', '78/783f13bb.jpg', '3f/3fd6d486.jpg', '22/22379106.jpg', 'e5/e53f6092.jpg', '72/7274e72e.jpg']\n",
      "Generating VQA for image: c8/c8576aaf.jpg\n",
      "Generating VQA for image: 78/783f13bb.jpg\n",
      "Generating VQA for image: 3f/3fd6d486.jpg\n",
      "Generating VQA for image: 22/22379106.jpg\n",
      "Generating VQA for image: e5/e53f6092.jpg\n",
      "Generating VQA for image: 72/7274e72e.jpg\n"
     ]
    },
    {
     "name": "stderr",
     "output_type": "stream",
     "text": [
      "\r  6%|▌         | 477/8132 [59:17<19:36:45,  9.22s/it]"
     ]
    },
    {
     "name": "stdout",
     "output_type": "stream",
     "text": [
      "Image paths: ['16/16bc2bae.jpg', '2f/2f357c87.jpg', '85/85192c70.jpg']\n",
      "Generating VQA for image: 16/16bc2bae.jpg\n",
      "Generating VQA for image: 2f/2f357c87.jpg\n",
      "Generating VQA for image: 85/85192c70.jpg\n"
     ]
    },
    {
     "name": "stderr",
     "output_type": "stream",
     "text": [
      "\r  6%|▌         | 478/8132 [59:23<17:34:29,  8.27s/it]"
     ]
    },
    {
     "name": "stdout",
     "output_type": "stream",
     "text": [
      "Image paths: ['27/274b1d9d.jpg', 'ee/ee8ee952.jpg', '49/49b1b22b.jpg', '66/66f3a68c.jpg', '8e/8e22f780.jpg']\n",
      "Generating VQA for image: 27/274b1d9d.jpg\n",
      "Generating VQA for image: ee/ee8ee952.jpg\n",
      "Generating VQA for image: 49/49b1b22b.jpg\n",
      "Generating VQA for image: 66/66f3a68c.jpg\n",
      "Generating VQA for image: 8e/8e22f780.jpg\n"
     ]
    },
    {
     "name": "stderr",
     "output_type": "stream",
     "text": [
      "\r  6%|▌         | 479/8132 [59:32<17:44:27,  8.35s/it]"
     ]
    },
    {
     "name": "stdout",
     "output_type": "stream",
     "text": [
      "Image paths: ['1f/1ff53a9b.jpg', 'ee/ee8ee952.jpg', '49/49b1b22b.jpg', '66/66f3a68c.jpg', '30/30c40111.jpg']\n",
      "Generating VQA for image: 1f/1ff53a9b.jpg\n",
      "Generating VQA for image: ee/ee8ee952.jpg\n",
      "Generating VQA for image: 49/49b1b22b.jpg\n",
      "Generating VQA for image: 66/66f3a68c.jpg\n",
      "Generating VQA for image: 30/30c40111.jpg\n"
     ]
    },
    {
     "name": "stderr",
     "output_type": "stream",
     "text": [
      "\r  6%|▌         | 480/8132 [59:40<17:54:03,  8.42s/it]"
     ]
    },
    {
     "name": "stdout",
     "output_type": "stream",
     "text": [
      "Image paths: ['f8/f8fa8203.jpg']\n",
      "Generating VQA for image: f8/f8fa8203.jpg\n"
     ]
    },
    {
     "name": "stderr",
     "output_type": "stream",
     "text": [
      "\r  6%|▌         | 481/8132 [59:42<13:51:07,  6.52s/it]"
     ]
    },
    {
     "name": "stdout",
     "output_type": "stream",
     "text": [
      "Image paths: ['73/73989115.jpg', 'ee/ee8ee952.jpg', '49/49b1b22b.jpg', '66/66f3a68c.jpg', '18/184ad7db.jpg']\n",
      "Generating VQA for image: 73/73989115.jpg\n",
      "Generating VQA for image: ee/ee8ee952.jpg\n",
      "Generating VQA for image: 49/49b1b22b.jpg\n",
      "Generating VQA for image: 66/66f3a68c.jpg\n",
      "Generating VQA for image: 18/184ad7db.jpg\n"
     ]
    },
    {
     "name": "stderr",
     "output_type": "stream",
     "text": [
      "\r  6%|▌         | 483/8132 [59:51<11:35:39,  5.46s/it]"
     ]
    },
    {
     "name": "stdout",
     "output_type": "stream",
     "text": [
      "Image paths: ['56/56faa3a0.jpg', 'b9/b98f51df.jpg', '8e/8eb903f6.jpg', 'b6/b6ca4e9b.jpg']\n",
      "Generating VQA for image: 56/56faa3a0.jpg\n",
      "Generating VQA for image: b9/b98f51df.jpg\n",
      "Generating VQA for image: 8e/8eb903f6.jpg\n",
      "Generating VQA for image: b6/b6ca4e9b.jpg\n"
     ]
    },
    {
     "name": "stderr",
     "output_type": "stream",
     "text": [
      "\r  6%|▌         | 484/8132 [59:59<12:56:00,  6.09s/it]"
     ]
    },
    {
     "name": "stdout",
     "output_type": "stream",
     "text": [
      "Image paths: ['6f/6ffc9995.jpg', 'cd/cd978af8.jpg', '0e/0e3c00d1.jpg', '87/87dfb91d.jpg']\n",
      "Generating VQA for image: 6f/6ffc9995.jpg\n",
      "Generating VQA for image: cd/cd978af8.jpg\n",
      "Generating VQA for image: 0e/0e3c00d1.jpg\n",
      "Generating VQA for image: 87/87dfb91d.jpg\n"
     ]
    },
    {
     "name": "stderr",
     "output_type": "stream",
     "text": [
      "\r  6%|▌         | 485/8132 [1:00:07<14:06:43,  6.64s/it]"
     ]
    },
    {
     "name": "stdout",
     "output_type": "stream",
     "text": [
      "Image paths: ['8f/8f94cb41.jpg', '2f/2f357c87.jpg', '85/85192c70.jpg']\n",
      "Generating VQA for image: 8f/8f94cb41.jpg\n",
      "Generating VQA for image: 2f/2f357c87.jpg\n",
      "Generating VQA for image: 85/85192c70.jpg\n"
     ]
    },
    {
     "name": "stderr",
     "output_type": "stream",
     "text": [
      "\r  6%|▌         | 486/8132 [1:00:13<13:37:42,  6.42s/it]"
     ]
    },
    {
     "name": "stdout",
     "output_type": "stream",
     "text": [
      "Image paths: ['cd/cddea80e.jpg', '84/841abf8d.jpg', 'dc/dc741af6.jpg', '35/354e8049.jpg', '4b/4b3cd5f3.jpg']\n",
      "Generating VQA for image: cd/cddea80e.jpg\n",
      "Generating VQA for image: 84/841abf8d.jpg\n",
      "Generating VQA for image: dc/dc741af6.jpg\n",
      "Generating VQA for image: 35/354e8049.jpg\n",
      "Generating VQA for image: 4b/4b3cd5f3.jpg\n"
     ]
    },
    {
     "name": "stderr",
     "output_type": "stream",
     "text": [
      "\r  6%|▌         | 487/8132 [1:00:22<15:10:37,  7.15s/it]"
     ]
    },
    {
     "name": "stdout",
     "output_type": "stream",
     "text": [
      "Image paths: ['7e/7e921e31.jpg', '7d/7dd54213.jpg', '10/104e4b24.jpg']\n",
      "Generating VQA for image: 7e/7e921e31.jpg\n",
      "Generating VQA for image: 7d/7dd54213.jpg\n",
      "Generating VQA for image: 10/104e4b24.jpg\n"
     ]
    },
    {
     "name": "stderr",
     "output_type": "stream",
     "text": [
      "\r  6%|▌         | 488/8132 [1:00:28<14:23:58,  6.78s/it]"
     ]
    },
    {
     "name": "stdout",
     "output_type": "stream",
     "text": [
      "Image paths: ['d2/d2c576c5.jpg', '2f/2f357c87.jpg', '85/85192c70.jpg']\n",
      "Generating VQA for image: d2/d2c576c5.jpg\n",
      "Generating VQA for image: 2f/2f357c87.jpg\n",
      "Generating VQA for image: 85/85192c70.jpg\n"
     ]
    },
    {
     "name": "stderr",
     "output_type": "stream",
     "text": [
      "\r  6%|▌         | 489/8132 [1:00:33<13:38:14,  6.42s/it]"
     ]
    },
    {
     "name": "stdout",
     "output_type": "stream",
     "text": [
      "Image paths: ['9b/9ba3b7e0.jpg', 'b3/b335d2e1.jpg', '8c/8cd106fe.jpg', 'a9/a945bd90.jpg', '37/3736a50e.jpg', 'e4/e4b8779d.jpg']\n",
      "Generating VQA for image: 9b/9ba3b7e0.jpg\n",
      "Generating VQA for image: b3/b335d2e1.jpg\n",
      "Generating VQA for image: 8c/8cd106fe.jpg\n",
      "Generating VQA for image: a9/a945bd90.jpg\n",
      "Generating VQA for image: 37/3736a50e.jpg\n",
      "Generating VQA for image: e4/e4b8779d.jpg\n"
     ]
    },
    {
     "name": "stderr",
     "output_type": "stream",
     "text": [
      "\r  6%|▌         | 490/8132 [1:00:45<16:53:18,  7.96s/it]"
     ]
    },
    {
     "name": "stdout",
     "output_type": "stream",
     "text": [
      "Image paths: ['c2/c2dc268b.jpg', 'ba/ba86508a.jpg', 'ae/ae6f4192.jpg', '29/29e79407.jpg']\n",
      "Generating VQA for image: c2/c2dc268b.jpg\n",
      "Generating VQA for image: ba/ba86508a.jpg\n",
      "Generating VQA for image: ae/ae6f4192.jpg\n",
      "Generating VQA for image: 29/29e79407.jpg\n"
     ]
    },
    {
     "name": "stderr",
     "output_type": "stream",
     "text": [
      "\r  6%|▌         | 491/8132 [1:00:55<18:17:03,  8.61s/it]"
     ]
    },
    {
     "name": "stdout",
     "output_type": "stream",
     "text": [
      "Image paths: ['e5/e5fb8006.jpg', '68/688ddc6f.jpg', '6d/6dd8dfbb.jpg', '13/13159b96.jpg', '9b/9b01d729.jpg', '57/570c8ecd.jpg', '94/946d262d.jpg', 'f7/f74a575b.jpg', 'b7/b76f9894.jpg', '37/37288e70.jpg']\n",
      "Generating VQA for image: e5/e5fb8006.jpg\n",
      "Generating VQA for image: 68/688ddc6f.jpg\n",
      "Generating VQA for image: 6d/6dd8dfbb.jpg\n",
      "Generating VQA for image: 13/13159b96.jpg\n",
      "Generating VQA for image: 9b/9b01d729.jpg\n",
      "Generating VQA for image: 57/570c8ecd.jpg\n",
      "Generating VQA for image: 94/946d262d.jpg\n",
      "Generating VQA for image: f7/f74a575b.jpg\n",
      "Generating VQA for image: b7/b76f9894.jpg\n",
      "Generating VQA for image: 37/37288e70.jpg\n"
     ]
    },
    {
     "name": "stderr",
     "output_type": "stream",
     "text": [
      "\r  6%|▌         | 492/8132 [1:01:15<25:36:25, 12.07s/it]"
     ]
    },
    {
     "name": "stdout",
     "output_type": "stream",
     "text": [
      "Image paths: ['b8/b8214336.jpg', '2f/2f357c87.jpg', '85/85192c70.jpg']\n",
      "Generating VQA for image: b8/b8214336.jpg\n",
      "Generating VQA for image: 2f/2f357c87.jpg\n",
      "Generating VQA for image: 85/85192c70.jpg\n"
     ]
    },
    {
     "name": "stderr",
     "output_type": "stream",
     "text": [
      "\r  6%|▌         | 493/8132 [1:01:21<21:40:18, 10.21s/it]"
     ]
    },
    {
     "name": "stdout",
     "output_type": "stream",
     "text": [
      "Image paths: ['13/138d32dd.jpg', 'ee/ee8ee952.jpg', '49/49b1b22b.jpg', '66/66f3a68c.jpg', '91/913faccd.jpg']\n",
      "Generating VQA for image: 13/138d32dd.jpg\n",
      "Generating VQA for image: ee/ee8ee952.jpg\n",
      "Generating VQA for image: 49/49b1b22b.jpg\n",
      "Generating VQA for image: 66/66f3a68c.jpg\n",
      "Generating VQA for image: 91/913faccd.jpg\n"
     ]
    },
    {
     "name": "stderr",
     "output_type": "stream",
     "text": [
      "\r  6%|▌         | 494/8132 [1:01:30<20:42:20,  9.76s/it]"
     ]
    },
    {
     "name": "stdout",
     "output_type": "stream",
     "text": [
      "Image paths: ['e8/e8946c26.jpg', '40/40ae1f8c.jpg', 'bc/bca73ac4.jpg']\n",
      "Generating VQA for image: e8/e8946c26.jpg\n",
      "Generating VQA for image: 40/40ae1f8c.jpg\n",
      "Generating VQA for image: bc/bca73ac4.jpg\n"
     ]
    },
    {
     "name": "stderr",
     "output_type": "stream",
     "text": [
      "\r  6%|▌         | 495/8132 [1:01:35<17:52:40,  8.43s/it]"
     ]
    },
    {
     "name": "stdout",
     "output_type": "stream",
     "text": [
      "Image paths: ['e7/e761e813.jpg', '52/528f18c3.jpg', 'f3/f31c1419.jpg', '8d/8d63483d.jpg', '82/82faf804.jpg', 'fd/fdc6a680.jpg', '8b/8b645378.jpg', '7f/7f1b8930.jpg']\n",
      "Generating VQA for image: e7/e761e813.jpg\n",
      "Generating VQA for image: 52/528f18c3.jpg\n",
      "Generating VQA for image: f3/f31c1419.jpg\n",
      "Generating VQA for image: 8d/8d63483d.jpg\n",
      "Generating VQA for image: 82/82faf804.jpg\n",
      "Generating VQA for image: fd/fdc6a680.jpg\n",
      "Generating VQA for image: 8b/8b645378.jpg\n",
      "Generating VQA for image: 7f/7f1b8930.jpg\n"
     ]
    },
    {
     "name": "stderr",
     "output_type": "stream",
     "text": [
      "\r  6%|▌         | 496/8132 [1:01:52<23:28:07, 11.06s/it]"
     ]
    },
    {
     "name": "stdout",
     "output_type": "stream",
     "text": [
      "Image paths: ['77/77d6bd98.jpg', '69/6906a09b.jpg', '87/87f287c6.jpg', '26/26e15418.jpg', '40/4082582d.jpg', 'c6/c678fb25.jpg', '08/0808e956.jpg', 'f0/f08321bf.jpg']\n",
      "Generating VQA for image: 77/77d6bd98.jpg\n"
     ]
    },
    {
     "name": "stderr",
     "output_type": "stream",
     "text": [
      "WARNING:tornado.access:429 POST /v1beta/models/gemini-2.0-flash-001:generateContent?%24alt=json%3Benum-encoding%3Dint (127.0.0.1) 680.89ms\n",
      "  6%|▌         | 496/8132 [1:01:54<15:52:58,  7.49s/it]"
     ]
    },
    {
     "name": "stdout",
     "output_type": "stream",
     "text": [
      "An error occurred: 429 POST https://generativelanguage.googleapis.com/v1beta/models/gemini-2.0-flash-001:generateContent?%24alt=json%3Benum-encoding%3Dint: Resource has been exhausted (e.g. check quota).\n"
     ]
    },
    {
     "name": "stderr",
     "output_type": "stream",
     "text": [
      "\n"
     ]
    }
   ],
   "source": [
    "from tqdm import tqdm\n",
    "\n",
    "# Prepare existing CSV\n",
    "if not os.path.exists(output_file):\n",
    "    output_df = pd.DataFrame(columns=[\"image_path\", \"question\", \"answer\"])\n",
    "else:\n",
    "    output_df = pd.read_csv(output_file)\n",
    "\n",
    "# Track processed image_ids\n",
    "processed_ids = set(output_df['image_path'].unique())\n",
    "\n",
    "# Load metadata lines\n",
    "lines = get_listing_lines(listing_file)\n",
    "subset_lines = lines[1100:]\n",
    "\n",
    "try:\n",
    "    for line in tqdm(subset_lines):\n",
    "        if \"\\\"en_\" not in line:\n",
    "            continue\n",
    "\n",
    "        try:\n",
    "            product_dict = json.loads(line)\n",
    "            main_image_id = product_dict.get('main_image_id', None)\n",
    "            if not main_image_id or main_image_id in processed_ids:\n",
    "                continue\n",
    "        except Exception:\n",
    "            continue\n",
    "\n",
    "        df = get_VQA_for_product(line)\n",
    "        output_df = pd.concat([output_df, df], ignore_index=True)\n",
    "\n",
    "        # Update processed_ids dynamically to reduce memory usage\n",
    "        processed_ids.update(df['image_path'].unique())\n",
    "\n",
    "        # Save incrementally to avoid data loss\n",
    "        output_df.to_csv(output_file, index=False)\n",
    "\n",
    "except Exception as e:\n",
    "    print(f\"An error occurred: {e}\")\n",
    "    pass\n"
   ]
  },
  {
   "cell_type": "code",
   "execution_count": null,
   "metadata": {
    "executionInfo": {
     "elapsed": 17,
     "status": "aborted",
     "timestamp": 1746977751143,
     "user": {
      "displayName": "Anukriti Singh",
      "userId": "12373033605025145532"
     },
     "user_tz": -330
    },
    "id": "VwElG9Myahwh"
   },
   "outputs": [],
   "source": []
  }
 ],
 "metadata": {
  "accelerator": "GPU",
  "colab": {
   "gpuType": "T4",
   "provenance": [
    {
     "file_id": "16AzZs3maZ7AE2p5v_keLSS6_3YJEhtoU",
     "timestamp": 1746954954198
    }
   ]
  },
  "kernelspec": {
   "display_name": "Python 3",
   "name": "python3"
  },
  "language_info": {
   "codemirror_mode": {
    "name": "ipython",
    "version": 3
   },
   "file_extension": ".py",
   "mimetype": "text/x-python",
   "name": "python",
   "nbconvert_exporter": "python",
   "pygments_lexer": "ipython3",
   "version": "3.12.8"
  }
 },
 "nbformat": 4,
 "nbformat_minor": 0
}
