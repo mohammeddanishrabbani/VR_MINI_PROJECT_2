{
 "cells": [
  {
   "cell_type": "code",
   "execution_count": 6,
   "metadata": {},
   "outputs": [],
   "source": [
    "import pandas as pd\n",
    "import numpy as np\n",
    "import os\n",
    "import sys\n",
    "\n",
    "os.chdir('/home/danish/VR_PROJECT')"
   ]
  },
  {
   "cell_type": "code",
   "execution_count": 7,
   "metadata": {},
   "outputs": [],
   "source": [
    "dataset_metadata = pd.read_csv('dataset/abo-images-small/images/metadata/images.csv')"
   ]
  },
  {
   "cell_type": "code",
   "execution_count": 8,
   "metadata": {},
   "outputs": [
    {
     "name": "stdout",
     "output_type": "stream",
     "text": [
      "      image_id  height  width             path\n",
      "0  010-mllS7JL     106    106  14/14fe8812.jpg\n",
      "1  01dkn0Gyx0L     122    122  da/daab0cad.jpg\n",
      "2  01sUPg0387L     111    111  d2/d2daaae9.jpg\n",
      "3  1168jc-5r1L     186    186  3a/3a4e88e6.jpg\n",
      "4  11RUV5Fs65L      30    500  d9/d91ab9cf.jpg\n"
     ]
    }
   ],
   "source": [
    "print(dataset_metadata.head())"
   ]
  },
  {
   "cell_type": "code",
   "execution_count": 9,
   "metadata": {},
   "outputs": [
    {
     "name": "stdout",
     "output_type": "stream",
     "text": [
      "398212\n"
     ]
    }
   ],
   "source": [
    "print(len(dataset_metadata))"
   ]
  },
  {
   "cell_type": "code",
   "execution_count": 14,
   "metadata": {},
   "outputs": [
    {
     "name": "stdout",
     "output_type": "stream",
     "text": [
      "9232\n",
      "{\"brand\": [{\"language_tag\": \"nl_NL\", \"value\": \"find.\"}], \"bullet_point\": [{\"language_tag\": \"nl_NL\", \"value\": \"Schoen in Loafer-stijl\"}, {\"language_tag\": \"nl_NL\", \"value\": \"Platform hak\"}, {\"language_tag\": \"nl_NL\", \"value\": \"Cap teen\"}, {\"language_tag\": \"nl_NL\", \"value\": \"Middenhak\"}], \"color\": [{\"language_tag\": \"nl_NL\", \"value\": \"Veelkleurig Vrouw Blauw\"}], \"item_id\": \"B06X9STHNG\", \"item_name\": [{\"language_tag\": \"nl_NL\", \"value\": \"Amazon-merk - vinden. Dames Leder Gesloten Teen Hakken,Veelkleurig Vrouw Blauw,5 UK\"}], \"model_name\": [{\"language_tag\": \"nl_NL\", \"value\": \"37753\"}], \"model_number\": [{\"value\": \"12-05-04\"}], \"model_year\": [{\"value\": 2017}], \"product_type\": [{\"value\": \"SHOES\"}], \"style\": [{\"language_tag\": \"nl_NL\", \"value\": \"Gesloten-teen pompen\"}], \"main_image_id\": \"81iZlv3bjpL\", \"other_image_id\": [\"91mIRxgziUL\", \"91eqBkW06wL\", \"A1BHZSKNbkL\"], \"item_keywords\": [{\"language_tag\": \"nl_NL\", \"value\": \"block heel shoes\"}, {\"language_tag\": \"nl_NL\", \"value\": \"loafer shoes\"}, {\"language_tag\": \"nl_NL\", \"value\": \"loafers\"}, {\"language_tag\": \"nl_NL\", \"value\": \"metallic shoes\"}, {\"language_tag\": \"nl_NL\", \"value\": \"womens block heel shoes\"}, {\"language_tag\": \"nl_NL\", \"value\": \"womens fashion\"}, {\"language_tag\": \"nl_NL\", \"value\": \"womens loafer shoes\"}, {\"language_tag\": \"nl_NL\", \"value\": \"womens loafers\"}, {\"language_tag\": \"nl_NL\", \"value\": \"womens shoes\"}, {\"language_tag\": \"nl_NL\", \"value\": \"womenswear\"}], \"country\": \"NL\", \"marketplace\": \"Amazon\", \"domain_name\": \"amazon.nl\", \"node\": [{\"node_id\": 16391787031, \"node_name\": \"/Categorie\\u00ebn/Dames/Schoenen/Pumps\"}]}\n",
      "\n"
     ]
    }
   ],
   "source": [
    "import json\n",
    "\n",
    "\n",
    "listing_metadata_path = 'dataset/abo-listings/listings/metadata'\n",
    "f = open('dataset/abo-listings/listings/metadata/listings_0.json')\n",
    "#get number of lines in the file\n",
    "lines = f.readlines()\n",
    "print(len(lines))\n",
    "print(lines[1])"
   ]
  },
  {
   "cell_type": "code",
   "execution_count": 15,
   "metadata": {},
   "outputs": [
    {
     "name": "stdout",
     "output_type": "stream",
     "text": [
      "{\"item_dimensions\": {\"height\": {\"normalized_value\": {\"unit\": \"inches\", \"value\": 0.9}, \"unit\": \"inches\", \"value\": 0.9}, \"length\": {\"normalized_value\": {\"unit\": \"inches\", \"value\": 22}, \"unit\": \"inches\", \"value\": 22}, \"width\": {\"normalized_value\": {\"unit\": \"inches\", \"value\": 0.87}, \"unit\": \"inches\", \"value\": 0.87}}, \"brand\": [{\"language_tag\": \"es_MX\", \"value\": \"AmazonBasics\"}], \"bullet_point\": [{\"language_tag\": \"es_MX\", \"value\": \"White Powder Coat Finish\"}, {\"language_tag\": \"es_MX\", \"value\": \"55-Lbs max weight capacity\"}, {\"language_tag\": \"es_MX\", \"value\": \"Length: 22-inch (550mm)\"}, {\"language_tag\": \"es_MX\", \"value\": \"Set includes 10 pair of slides; enough for 10 drawers\"}, {\"language_tag\": \"es_MX\", \"value\": \"Mounting hardware and installation instructions included\"}], \"color\": [{\"language_tag\": \"es_MX\", \"value\": \"White Powder Coat\"}], \"item_id\": \"B07P8ML82R\", \"item_name\": [{\"language_tag\": \"es_MX\", \"value\": \"22\\\" Bottom Mount Drawer Slides, White Powder Coat, 10 Pairs\"}], \"item_weight\": [{\"normalized_value\": {\"unit\": \"pounds\", \"value\": 1.45}, \"unit\": \"pounds\", \"value\": 1.45}], \"model_number\": [{\"value\": \"AB5013-R22-10\"}], \"product_type\": [{\"value\": \"HARDWARE\"}], \"style\": [{\"language_tag\": \"es_MX\", \"value\": \"10 pares\"}], \"main_image_id\": \"619y9YG9cnL\", \"other_image_id\": [\"51Fqps5k9YL\", \"51lCKFuYuWL\"], \"item_keywords\": [{\"language_tag\": \"es_MX\", \"value\": \"22\"}, {\"language_tag\": \"es_MX\", \"value\": \"Pistola\"}, {\"language_tag\": \"es_MX\", \"value\": \"Montaje bajo\"}, {\"language_tag\": \"es_MX\", \"value\": \"diapositivas\"}, {\"language_tag\": \"es_MX\", \"value\": \"Extensi\\u00f3n\"}, {\"language_tag\": \"es_MX\", \"value\": \"Oculto\"}, {\"language_tag\": \"es_MX\", \"value\": \"Deslizadores\"}, {\"language_tag\": \"es_MX\", \"value\": \"Almacenamiento\"}, {\"language_tag\": \"es_MX\", \"value\": \"Bola\"}, {\"language_tag\": \"es_MX\", \"value\": \"Gu\\u00edas\"}, {\"language_tag\": \"es_MX\", \"value\": \"cierre\"}, {\"language_tag\": \"es_MX\", \"value\": \"Muebles\"}, {\"language_tag\": \"es_MX\", \"value\": \"Rieles\"}, {\"language_tag\": \"es_MX\", \"value\": \"mcm\"}, {\"language_tag\": \"es_MX\", \"value\": \"Compartimento\"}, {\"language_tag\": \"es_MX\", \"value\": \"estrecho\"}, {\"language_tag\": \"es_MX\", \"value\": \"deslizadores\"}, {\"language_tag\": \"es_MX\", \"value\": \"Cocina\"}, {\"language_tag\": \"es_MX\", \"value\": \"Cerrar\"}, {\"language_tag\": \"es_MX\", \"value\": \"oculto\"}, {\"language_tag\": \"es_MX\", \"value\": \"Mesa\"}, {\"language_tag\": \"es_MX\", \"value\": \"Suave\"}, {\"language_tag\": \"es_MX\", \"value\": \"ocultar\"}, {\"language_tag\": \"es_MX\", \"value\": \"14\"}, {\"language_tag\": \"es_MX\", \"value\": \"en\"}, {\"language_tag\": \"es_MX\", \"value\": \"rodamiento\"}, {\"language_tag\": \"es_MX\", \"value\": \"ocultaci\\u00f3n\"}, {\"language_tag\": \"es_MX\", \"value\": \"dibujar\"}, {\"language_tag\": \"es_MX\", \"value\": \"t\\u00e1ctico\"}, {\"language_tag\": \"es_MX\", \"value\": \"Promark\"}, {\"language_tag\": \"es_MX\", \"value\": \"Pro\"}, {\"language_tag\": \"es_MX\", \"value\": \"Paquete\"}, {\"language_tag\": \"es_MX\", \"value\": \"caf\\u00e9 claro\"}, {\"language_tag\": \"es_MX\", \"value\": \"pistas\"}, {\"language_tag\": \"es_MX\", \"value\": \"Hogar\"}, {\"language_tag\": \"es_MX\", \"value\": \"con\"}, {\"language_tag\": \"es_MX\", \"value\": \"lento\"}, {\"language_tag\": \"es_MX\", \"value\": \"Chancla\"}, {\"language_tag\": \"es_MX\", \"value\": \"Autom\\u00e1tico\"}, {\"language_tag\": \"es_MX\", \"value\": \"pulgadas\"}, {\"language_tag\": \"es_MX\", \"value\": \"cl\\u00f3set\"}, {\"language_tag\": \"es_MX\", \"value\": \"Cierre suave\"}, {\"language_tag\": \"es_MX\", \"value\": \"Completo\"}], \"country\": \"MX\", \"marketplace\": \"Amazon\", \"domain_name\": \"amazon.com.mx\", \"node\": [{\"node_id\": 9827962011, \"node_name\": \"/Categor\\u00edas/Ferreter\\u00eda/Ferreter\\u00eda para Armarios/Gu\\u00edas para Cajones\"}]}\n",
      "\n"
     ]
    }
   ],
   "source": [
    "print(lines[1])"
   ]
  },
  {
   "cell_type": "code",
   "execution_count": 17,
   "metadata": {},
   "outputs": [
    {
     "name": "stdout",
     "output_type": "stream",
     "text": [
      "['listings_9.json', 'listings_4.json', 'listings_5.json', 'listings_8.json', 'listings_c.json', 'listings_a.json', 'listings_2.json', 'listings_3.json', 'listings_0.json', 'listings_7.json', 'listings_f.json', 'listings_b.json', 'listings_d.json', 'listings_1.json', 'listings_6.json', 'listings_e.json']\n"
     ]
    }
   ],
   "source": [
    "#list all files in the directory\n",
    "listing_metadata_files = os.listdir(listing_metadata_path)\n",
    "print(listing_metadata_files)\n",
    "\n"
   ]
  },
  {
   "cell_type": "code",
   "execution_count": 18,
   "metadata": {},
   "outputs": [
    {
     "name": "stdout",
     "output_type": "stream",
     "text": [
      "listings_9.json\n",
      "9232\n",
      "listings_4.json\n",
      "9232\n",
      "listings_5.json\n",
      "9232\n",
      "listings_8.json\n",
      "9232\n",
      "listings_c.json\n",
      "9232\n",
      "listings_a.json\n",
      "9232\n",
      "listings_2.json\n",
      "9232\n",
      "listings_3.json\n",
      "9232\n",
      "listings_0.json\n",
      "9232\n",
      "listings_7.json\n",
      "9232\n",
      "listings_f.json\n",
      "9222\n",
      "listings_b.json\n",
      "9232\n",
      "listings_d.json\n",
      "9232\n",
      "listings_1.json\n",
      "9232\n",
      "listings_6.json\n",
      "9232\n",
      "listings_e.json\n",
      "9232\n",
      "147702\n"
     ]
    }
   ],
   "source": [
    "count = 0\n",
    "\n",
    "for file in listing_metadata_files:\n",
    "    if file.endswith('.json'):\n",
    "        f = open(os.path.join(listing_metadata_path, file))\n",
    "        lines = f.readlines()\n",
    "        count += len(lines)\n",
    "        print(file)\n",
    "        print(len(lines))\n",
    "print(count)"
   ]
  },
  {
   "cell_type": "code",
   "execution_count": null,
   "metadata": {},
   "outputs": [],
   "source": []
  }
 ],
 "metadata": {
  "kernelspec": {
   "display_name": ".vr_project",
   "language": "python",
   "name": "python3"
  },
  "language_info": {
   "codemirror_mode": {
    "name": "ipython",
    "version": 3
   },
   "file_extension": ".py",
   "mimetype": "text/x-python",
   "name": "python",
   "nbconvert_exporter": "python",
   "pygments_lexer": "ipython3",
   "version": "3.12.8"
  }
 },
 "nbformat": 4,
 "nbformat_minor": 2
}
